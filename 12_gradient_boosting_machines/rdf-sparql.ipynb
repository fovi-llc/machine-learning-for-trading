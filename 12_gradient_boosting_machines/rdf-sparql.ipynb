{
 "cells": [
  {
   "cell_type": "code",
   "execution_count": 1,
   "id": "e7b2ab2b-686d-4047-806b-bde080e4d70a",
   "metadata": {},
   "outputs": [
    {
     "name": "stdout",
     "output_type": "stream",
     "text": [
      "Looking in indexes: https://pypi.org/simple, https://pypi.ngc.nvidia.com\n",
      "Collecting jupyter-rdfify\n",
      "  Downloading jupyter_rdfify-1.0.4-py3-none-any.whl.metadata (9.0 kB)\n",
      "Requirement already satisfied: rdflib>=6.1.1 in /opt/conda/lib/python3.11/site-packages (from jupyter-rdfify) (7.1.3)\n",
      "Requirement already satisfied: ipython>=7.0.0 in /opt/conda/lib/python3.11/site-packages (from jupyter-rdfify) (8.29.0)\n",
      "Requirement already satisfied: graphviz in /opt/conda/lib/python3.11/site-packages (from jupyter-rdfify) (0.20.3)\n",
      "Requirement already satisfied: sparqlwrapper>=1.8.5 in /opt/conda/lib/python3.11/site-packages (from jupyter-rdfify) (2.0.0)\n",
      "Collecting owlrl>=6.0.2 (from jupyter-rdfify)\n",
      "  Downloading owlrl-7.1.3-py3-none-any.whl.metadata (3.6 kB)\n",
      "Collecting pyshex>=0.8.0 (from jupyter-rdfify)\n",
      "  Downloading PyShEx-0.8.1-py3-none-any.whl.metadata (1.0 kB)\n",
      "Requirement already satisfied: decorator in /opt/conda/lib/python3.11/site-packages (from ipython>=7.0.0->jupyter-rdfify) (5.1.1)\n",
      "Requirement already satisfied: jedi>=0.16 in /opt/conda/lib/python3.11/site-packages (from ipython>=7.0.0->jupyter-rdfify) (0.19.2)\n",
      "Requirement already satisfied: matplotlib-inline in /opt/conda/lib/python3.11/site-packages (from ipython>=7.0.0->jupyter-rdfify) (0.1.7)\n",
      "Requirement already satisfied: prompt-toolkit<3.1.0,>=3.0.41 in /opt/conda/lib/python3.11/site-packages (from ipython>=7.0.0->jupyter-rdfify) (3.0.48)\n",
      "Requirement already satisfied: pygments>=2.4.0 in /opt/conda/lib/python3.11/site-packages (from ipython>=7.0.0->jupyter-rdfify) (2.18.0)\n",
      "Requirement already satisfied: stack-data in /opt/conda/lib/python3.11/site-packages (from ipython>=7.0.0->jupyter-rdfify) (0.6.2)\n",
      "Requirement already satisfied: traitlets>=5.13.0 in /opt/conda/lib/python3.11/site-packages (from ipython>=7.0.0->jupyter-rdfify) (5.14.3)\n",
      "Requirement already satisfied: typing-extensions>=4.6 in /opt/conda/lib/python3.11/site-packages (from ipython>=7.0.0->jupyter-rdfify) (4.12.2)\n",
      "Requirement already satisfied: pexpect>4.3 in /opt/conda/lib/python3.11/site-packages (from ipython>=7.0.0->jupyter-rdfify) (4.9.0)\n",
      "Collecting cfgraph>=0.2.1 (from pyshex>=0.8.0->jupyter-rdfify)\n",
      "  Downloading CFGraph-0.2.1.tar.gz (2.6 kB)\n",
      "  Preparing metadata (setup.py) ... \u001b[?25ldone\n",
      "\u001b[?25hCollecting chardet (from pyshex>=0.8.0->jupyter-rdfify)\n",
      "  Downloading chardet-5.2.0-py3-none-any.whl.metadata (3.4 kB)\n",
      "Collecting pyshexc==0.9.1 (from pyshex>=0.8.0->jupyter-rdfify)\n",
      "  Downloading PyShExC-0.9.1-py2.py3-none-any.whl.metadata (940 bytes)\n",
      "Collecting rdflib-shim (from pyshex>=0.8.0->jupyter-rdfify)\n",
      "  Downloading rdflib_shim-1.0.3-py3-none-any.whl.metadata (918 bytes)\n",
      "Requirement already satisfied: requests>=2.22.0 in /opt/conda/lib/python3.11/site-packages (from pyshex>=0.8.0->jupyter-rdfify) (2.32.3)\n",
      "Collecting shexjsg>=0.8.2 (from pyshex>=0.8.0->jupyter-rdfify)\n",
      "  Downloading ShExJSG-0.8.2-py2.py3-none-any.whl.metadata (997 bytes)\n",
      "Collecting sparqlslurper>=0.5.1 (from pyshex>=0.8.0->jupyter-rdfify)\n",
      "  Downloading sparqlslurper-0.5.1-py3-none-any.whl.metadata (430 bytes)\n",
      "Requirement already satisfied: urllib3 in /opt/conda/lib/python3.11/site-packages (from pyshex>=0.8.0->jupyter-rdfify) (2.2.3)\n",
      "Collecting antlr4-python3-runtime~=4.9.3 (from pyshexc==0.9.1->pyshex>=0.8.0->jupyter-rdfify)\n",
      "  Downloading antlr4-python3-runtime-4.9.3.tar.gz (117 kB)\n",
      "  Preparing metadata (setup.py) ... \u001b[?25ldone\n",
      "\u001b[?25hCollecting jsonasobj>=1.2.1 (from pyshexc==0.9.1->pyshex>=0.8.0->jupyter-rdfify)\n",
      "  Downloading jsonasobj-1.3.1-py3-none-any.whl.metadata (995 bytes)\n",
      "Collecting pyjsg>=0.11.10 (from pyshexc==0.9.1->pyshex>=0.8.0->jupyter-rdfify)\n",
      "  Downloading PyJSG-0.11.10-py3-none-any.whl.metadata (978 bytes)\n",
      "Requirement already satisfied: pyparsing<4,>=2.1.0 in /opt/conda/lib/python3.11/site-packages (from rdflib>=6.1.1->jupyter-rdfify) (3.2.0)\n",
      "Requirement already satisfied: parso<0.9.0,>=0.8.4 in /opt/conda/lib/python3.11/site-packages (from jedi>=0.16->ipython>=7.0.0->jupyter-rdfify) (0.8.4)\n",
      "Requirement already satisfied: ptyprocess>=0.5 in /opt/conda/lib/python3.11/site-packages (from pexpect>4.3->ipython>=7.0.0->jupyter-rdfify) (0.7.0)\n",
      "Requirement already satisfied: wcwidth in /opt/conda/lib/python3.11/site-packages (from prompt-toolkit<3.1.0,>=3.0.41->ipython>=7.0.0->jupyter-rdfify) (0.2.13)\n",
      "Requirement already satisfied: charset-normalizer<4,>=2 in /opt/conda/lib/python3.11/site-packages (from requests>=2.22.0->pyshex>=0.8.0->jupyter-rdfify) (3.4.0)\n",
      "Requirement already satisfied: idna<4,>=2.5 in /opt/conda/lib/python3.11/site-packages (from requests>=2.22.0->pyshex>=0.8.0->jupyter-rdfify) (3.10)\n",
      "Requirement already satisfied: certifi>=2017.4.17 in /opt/conda/lib/python3.11/site-packages (from requests>=2.22.0->pyshex>=0.8.0->jupyter-rdfify) (2024.8.30)\n",
      "Collecting rdflib-jsonld==0.6.1 (from rdflib-shim->pyshex>=0.8.0->jupyter-rdfify)\n",
      "  Downloading rdflib_jsonld-0.6.1-py2.py3-none-any.whl.metadata (3.4 kB)\n",
      "Requirement already satisfied: executing>=1.2.0 in /opt/conda/lib/python3.11/site-packages (from stack-data->ipython>=7.0.0->jupyter-rdfify) (2.1.0)\n",
      "Requirement already satisfied: asttokens>=2.1.0 in /opt/conda/lib/python3.11/site-packages (from stack-data->ipython>=7.0.0->jupyter-rdfify) (2.4.1)\n",
      "Requirement already satisfied: pure-eval in /opt/conda/lib/python3.11/site-packages (from stack-data->ipython>=7.0.0->jupyter-rdfify) (0.2.3)\n",
      "Requirement already satisfied: six>=1.12.0 in /opt/conda/lib/python3.11/site-packages (from asttokens>=2.1.0->stack-data->ipython>=7.0.0->jupyter-rdfify) (1.16.0)\n",
      "Downloading jupyter_rdfify-1.0.4-py3-none-any.whl (15 kB)\n",
      "Downloading owlrl-7.1.3-py3-none-any.whl (51 kB)\n",
      "Downloading PyShEx-0.8.1-py3-none-any.whl (51 kB)\n",
      "Downloading PyShExC-0.9.1-py2.py3-none-any.whl (69 kB)\n",
      "Downloading ShExJSG-0.8.2-py2.py3-none-any.whl (14 kB)\n",
      "Downloading sparqlslurper-0.5.1-py3-none-any.whl (6.6 kB)\n",
      "Downloading chardet-5.2.0-py3-none-any.whl (199 kB)\n",
      "Downloading rdflib_shim-1.0.3-py3-none-any.whl (5.2 kB)\n",
      "Downloading rdflib_jsonld-0.6.1-py2.py3-none-any.whl (16 kB)\n",
      "Downloading jsonasobj-1.3.1-py3-none-any.whl (4.4 kB)\n",
      "Downloading PyJSG-0.11.10-py3-none-any.whl (80 kB)\n",
      "Building wheels for collected packages: cfgraph, antlr4-python3-runtime\n",
      "  Building wheel for cfgraph (setup.py) ... \u001b[?25ldone\n",
      "\u001b[?25h  Created wheel for cfgraph: filename=CFGraph-0.2.1-py3-none-any.whl size=2214 sha256=98447ecd26af15ab6b5c2d7953b0462c7075946f610ce21820defe1adff5ded8\n",
      "  Stored in directory: /tmp/pip-ephem-wheel-cache-9dpe15eq/wheels/8b/ac/8f/0f5b041561f10e6db39796e4ad11011b8f5a4b0a0ed74a5e61\n",
      "  Building wheel for antlr4-python3-runtime (setup.py) ... \u001b[?25ldone\n",
      "\u001b[?25h  Created wheel for antlr4-python3-runtime: filename=antlr4_python3_runtime-4.9.3-py3-none-any.whl size=144554 sha256=9a2def163099a965b9e08ffc872ea640c6e4ae81a1eca3b66f7a2d31ac9e187b\n",
      "  Stored in directory: /tmp/pip-ephem-wheel-cache-9dpe15eq/wheels/1a/97/32/461f837398029ad76911109f07047fde1d7b661a147c7c56d1\n",
      "Successfully built cfgraph antlr4-python3-runtime\n",
      "Installing collected packages: jsonasobj, antlr4-python3-runtime, pyjsg, chardet, shexjsg, rdflib-jsonld, owlrl, cfgraph, rdflib-shim, sparqlslurper, pyshexc, pyshex, jupyter-rdfify\n",
      "Successfully installed antlr4-python3-runtime-4.9.3 cfgraph-0.2.1 chardet-5.2.0 jsonasobj-1.3.1 jupyter-rdfify-1.0.4 owlrl-7.1.3 pyjsg-0.11.10 pyshex-0.8.1 pyshexc-0.9.1 rdflib-jsonld-0.6.1 rdflib-shim-1.0.3 shexjsg-0.8.2 sparqlslurper-0.5.1\n"
     ]
    }
   ],
   "source": [
    "!python -m pip install jupyter-rdfify graphviz"
   ]
  },
  {
   "cell_type": "code",
   "execution_count": 4,
   "id": "d6eac88a-25ee-453a-ace7-d572f9ea7841",
   "metadata": {},
   "outputs": [
    {
     "data": {
      "application/javascript": [
       "\n",
       "    if (typeof IPython !== \"undefined\") {\n",
       "        IPython.CodeCell.options_default.highlight_modes['application/sparql-query'] = {'reg':[/^%%rdf sparql/]};\n",
       "        IPython.CodeCell.options_default.highlight_modes['text/turtle'] = {'reg':[/^%%rdf turtle/, /^%%rdf shex/]};\n",
       "        IPython.CodeCell.options_default.highlight_modes['application/ld+json'] = {'reg':[/^%%rdf json-ld/]};\n",
       "        IPython.notebook.get_cells().map(function(cell){ if (cell.cell_type == 'code'){ cell.auto_highlight(); } });\n",
       "    }\n",
       "    "
      ]
     },
     "metadata": {},
     "output_type": "display_data"
    }
   ],
   "source": [
    "%load_ext jupyter-rdfify"
   ]
  },
  {
   "cell_type": "code",
   "execution_count": 5,
   "id": "ee6df1b1-df07-45a1-98ae-ab113a1a5151",
   "metadata": {},
   "outputs": [
    {
     "data": {
      "image/svg+xml": [
       "<?xml version=\"1.0\" encoding=\"UTF-8\" standalone=\"no\"?>\n",
       "<!DOCTYPE svg PUBLIC \"-//W3C//DTD SVG 1.1//EN\"\n",
       " \"http://www.w3.org/Graphics/SVG/1.1/DTD/svg11.dtd\">\n",
       "<!-- Generated by graphviz version 2.43.0 (0)\n",
       " -->\n",
       "<!-- Title: %3 Pages: 1 -->\n",
       "<svg width=\"144pt\" height=\"131pt\"\n",
       " viewBox=\"0.00 0.00 144.49 131.00\" xmlns=\"http://www.w3.org/2000/svg\" xmlns:xlink=\"http://www.w3.org/1999/xlink\">\n",
       "<g id=\"graph0\" class=\"graph\" transform=\"scale(1 1) rotate(0) translate(4 127)\">\n",
       "<title>%3</title>\n",
       "<polygon fill=\"white\" stroke=\"transparent\" points=\"-4,4 -4,-127 140.49,-127 140.49,4 -4,4\"/>\n",
       "<!-- 0 -->\n",
       "<g id=\"node1\" class=\"node\">\n",
       "<title>0</title>\n",
       "<ellipse fill=\"none\" stroke=\"black\" cx=\"68.24\" cy=\"-18\" rx=\"57.69\" ry=\"18\"/>\n",
       "<text text-anchor=\"middle\" x=\"68.24\" y=\"-14.3\" font-family=\"Times,serif\" font-size=\"14.00\">:Awesome</text>\n",
       "</g>\n",
       "<!-- 1 -->\n",
       "<g id=\"node2\" class=\"node\">\n",
       "<title>1</title>\n",
       "<ellipse fill=\"none\" stroke=\"black\" cx=\"68.24\" cy=\"-105\" rx=\"68.49\" ry=\"18\"/>\n",
       "<text text-anchor=\"middle\" x=\"68.24\" y=\"-101.3\" font-family=\"Times,serif\" font-size=\"14.00\">:JupyterRDF</text>\n",
       "</g>\n",
       "<!-- 1&#45;&gt;0 -->\n",
       "<g id=\"edge1\" class=\"edge\">\n",
       "<title>1&#45;&gt;0</title>\n",
       "<path fill=\"none\" stroke=\"black\" d=\"M68.24,-86.8C68.24,-75.16 68.24,-59.55 68.24,-46.24\"/>\n",
       "<polygon fill=\"black\" stroke=\"black\" points=\"71.74,-46.18 68.24,-36.18 64.74,-46.18 71.74,-46.18\"/>\n",
       "<text text-anchor=\"middle\" x=\"76.74\" y=\"-57.8\" font-family=\"Times,serif\" font-size=\"14.00\">:is</text>\n",
       "</g>\n",
       "</g>\n",
       "</svg>\n"
      ],
      "text/plain": [
       "<graphviz.graphs.Digraph at 0x7a95b016e4d0>"
      ]
     },
     "metadata": {},
     "output_type": "display_data"
    }
   ],
   "source": [
    "%%rdf turtle\n",
    "@prefix : <http://example.org/> .\n",
    ":JupyterRDF :is :Awesome ."
   ]
  },
  {
   "cell_type": "code",
   "execution_count": 6,
   "id": "0b06b771-b227-49c1-99c2-966696aba80b",
   "metadata": {},
   "outputs": [
    {
     "data": {
      "text/plain": [
       "[\n",
       "  {\n",
       "    \"@id\": \"http://example.org/JupyterRDF\",\n",
       "    \"http://example.org/is\": [\n",
       "      {\n",
       "        \"@id\": \"http://example.org/Awesome\"\n",
       "      }\n",
       "    ]\n",
       "  }\n",
       "]"
      ]
     },
     "metadata": {},
     "output_type": "display_data"
    }
   ],
   "source": [
    "%%rdf turtle --display raw --serialize json-ld\n",
    "@prefix : <http://example.org/> .\n",
    ":JupyterRDF :is :Awesome ."
   ]
  },
  {
   "cell_type": "code",
   "execution_count": 7,
   "id": "da52a61e-21e3-42d4-8d4d-0c6c3804ea62",
   "metadata": {},
   "outputs": [
    {
     "data": {
      "image/svg+xml": [
       "<?xml version=\"1.0\" encoding=\"UTF-8\" standalone=\"no\"?>\n",
       "<!DOCTYPE svg PUBLIC \"-//W3C//DTD SVG 1.1//EN\"\n",
       " \"http://www.w3.org/Graphics/SVG/1.1/DTD/svg11.dtd\">\n",
       "<!-- Generated by graphviz version 2.43.0 (0)\n",
       " -->\n",
       "<!-- Title: %3 Pages: 1 -->\n",
       "<svg width=\"144pt\" height=\"131pt\"\n",
       " viewBox=\"0.00 0.00 144.49 131.00\" xmlns=\"http://www.w3.org/2000/svg\" xmlns:xlink=\"http://www.w3.org/1999/xlink\">\n",
       "<g id=\"graph0\" class=\"graph\" transform=\"scale(1 1) rotate(0) translate(4 127)\">\n",
       "<title>%3</title>\n",
       "<polygon fill=\"white\" stroke=\"transparent\" points=\"-4,4 -4,-127 140.49,-127 140.49,4 -4,4\"/>\n",
       "<!-- 0 -->\n",
       "<g id=\"node1\" class=\"node\">\n",
       "<title>0</title>\n",
       "<ellipse fill=\"none\" stroke=\"black\" cx=\"68.24\" cy=\"-18\" rx=\"57.69\" ry=\"18\"/>\n",
       "<text text-anchor=\"middle\" x=\"68.24\" y=\"-14.3\" font-family=\"Times,serif\" font-size=\"14.00\">:Awesome</text>\n",
       "</g>\n",
       "<!-- 1 -->\n",
       "<g id=\"node2\" class=\"node\">\n",
       "<title>1</title>\n",
       "<ellipse fill=\"none\" stroke=\"black\" cx=\"68.24\" cy=\"-105\" rx=\"68.49\" ry=\"18\"/>\n",
       "<text text-anchor=\"middle\" x=\"68.24\" y=\"-101.3\" font-family=\"Times,serif\" font-size=\"14.00\">:JupyterRDF</text>\n",
       "</g>\n",
       "<!-- 1&#45;&gt;0 -->\n",
       "<g id=\"edge1\" class=\"edge\">\n",
       "<title>1&#45;&gt;0</title>\n",
       "<path fill=\"none\" stroke=\"black\" d=\"M68.24,-86.8C68.24,-75.16 68.24,-59.55 68.24,-46.24\"/>\n",
       "<polygon fill=\"black\" stroke=\"black\" points=\"71.74,-46.18 68.24,-36.18 64.74,-46.18 71.74,-46.18\"/>\n",
       "<text text-anchor=\"middle\" x=\"76.74\" y=\"-57.8\" font-family=\"Times,serif\" font-size=\"14.00\">:is</text>\n",
       "</g>\n",
       "</g>\n",
       "</svg>\n"
      ],
      "text/plain": [
       "<graphviz.graphs.Digraph at 0x7a95a7556550>"
      ]
     },
     "metadata": {},
     "output_type": "display_data"
    }
   ],
   "source": [
    "%%rdf turtle --label awesome_graph\n",
    "@prefix : <http://example.org/> .\n",
    ":JupyterRDF :is :Awesome ."
   ]
  },
  {
   "cell_type": "code",
   "execution_count": 8,
   "id": "59ef32c3-fd43-4d77-93cb-d2bcebef4815",
   "metadata": {},
   "outputs": [
    {
     "data": {
      "text/html": [
       "<table><tr><th>item</th><th>itemLabel</th></tr><tr><td>&lt;http://www.wikidata.org/entity/Q378619&gt;</td><td>CC@en</td></tr><tr><td>&lt;http://www.wikidata.org/entity/Q498787&gt;</td><td>Muezza@en</td></tr><tr><td>&lt;http://www.wikidata.org/entity/Q677525&gt;</td><td>Orangey@en</td></tr><tr><td>&lt;http://www.wikidata.org/entity/Q893453&gt;</td><td>Unsinkable Sam@en</td></tr><tr><td>&lt;http://www.wikidata.org/entity/Q1050083&gt;</td><td>Catmando@en</td></tr><tr><td>&lt;http://www.wikidata.org/entity/Q1185550&gt;</td><td>Oscar@en</td></tr><tr><td>&lt;http://www.wikidata.org/entity/Q1201902&gt;</td><td>Tama@en</td></tr><tr><td>&lt;http://www.wikidata.org/entity/Q1207136&gt;</td><td>Dewey Readmore Books@en</td></tr><tr><td>&lt;http://www.wikidata.org/entity/Q1371145&gt;</td><td>Socks@en</td></tr><tr><td>&lt;http://www.wikidata.org/entity/Q1386318&gt;</td><td>F. D. C. Willard@en</td></tr></table>"
      ],
      "text/plain": [
       "<IPython.core.display.HTML object>"
      ]
     },
     "metadata": {},
     "output_type": "display_data"
    }
   ],
   "source": [
    "%%rdf sparql --endpoint https://query.wikidata.org/sparql\n",
    "SELECT ?item ?itemLabel \n",
    "WHERE \n",
    "{\n",
    "  ?item wdt:P31 wd:Q146.\n",
    "  SERVICE wikibase:label { bd:serviceParam wikibase:language \"[AUTO_LANGUAGE],en\". }\n",
    "} LIMIT 10"
   ]
  },
  {
   "cell_type": "code",
   "execution_count": 9,
   "id": "43c64294-bde9-44a0-b4e3-2d2037809d1e",
   "metadata": {},
   "outputs": [
    {
     "data": {
      "text/html": [
       "<table><tr><th>?x</th></tr><tr><td>http://example.org/JupyterRDF</td></tr></table>"
      ],
      "text/plain": [
       "<IPython.core.display.HTML object>"
      ]
     },
     "metadata": {},
     "output_type": "display_data"
    }
   ],
   "source": [
    "%%rdf sparql --local awesome_graph\n",
    "PREFIX : <http://example.org/>\n",
    "SELECT ?x WHERE {\n",
    "    ?x :is :Awesome\n",
    "}"
   ]
  },
  {
   "cell_type": "code",
   "execution_count": 10,
   "id": "bf400441-bbcf-4048-bdc8-df6a9b9afa02",
   "metadata": {},
   "outputs": [
    {
     "name": "stdout",
     "output_type": "stream",
     "text": [
      "ShEx: Shape successfully parsed.\n"
     ]
    }
   ],
   "source": [
    "%%rdf shex parse --label awesome_schema\n",
    "PREFIX : <http://example.org/>\n",
    ":AwesomeShape {\n",
    "    :is [:Awesome]\n",
    "}"
   ]
  },
  {
   "cell_type": "code",
   "execution_count": 11,
   "id": "55022dd1-cd99-4521-a01e-02606ae78cbf",
   "metadata": {},
   "outputs": [
    {
     "name": "stdout",
     "output_type": "stream",
     "text": [
      "ShEx: Evaluating shape 'http://example.org/AwesomeShape' on node 'http://example.org/JupyterRDF'\n",
      "PASSED!\n"
     ]
    }
   ],
   "source": [
    "%rdf shex validate --label awesome_schema --graph awesome_graph --start http://example.org/AwesomeShape --focus http://example.org/JupyterRDF"
   ]
  },
  {
   "cell_type": "code",
   "execution_count": null,
   "id": "2e62fc5f-393c-42c0-86fc-4997886788b5",
   "metadata": {},
   "outputs": [],
   "source": []
  }
 ],
 "metadata": {
  "kernelspec": {
   "display_name": "Python 3 (ipykernel)",
   "language": "python",
   "name": "python3"
  },
  "language_info": {
   "codemirror_mode": {
    "name": "ipython",
    "version": 3
   },
   "file_extension": ".py",
   "mimetype": "text/x-python",
   "name": "python",
   "nbconvert_exporter": "python",
   "pygments_lexer": "ipython3",
   "version": "3.11.10"
  }
 },
 "nbformat": 4,
 "nbformat_minor": 5
}
