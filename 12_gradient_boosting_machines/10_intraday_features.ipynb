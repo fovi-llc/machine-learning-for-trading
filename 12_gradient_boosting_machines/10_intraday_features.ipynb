{
  "cells": [
    {
      "cell_type": "markdown",
      "metadata": {
        "id": "view-in-github",
        "colab_type": "text"
      },
      "source": [
        "<a href=\"https://colab.research.google.com/github/fovi-llc/machine-learning-for-trading/blob/main/12_gradient_boosting_machines/10_intraday_features.ipynb\" target=\"_parent\"><img src=\"https://colab.research.google.com/assets/colab-badge.svg\" alt=\"Open In Colab\"/></a>"
      ]
    },
    {
      "cell_type": "markdown",
      "metadata": {
        "id": "cDp4t8d6DKg0"
      },
      "source": [
        "# Intraday Strategy, Part 1: Feature Engineering"
      ]
    },
    {
      "cell_type": "markdown",
      "metadata": {
        "id": "pSaHMhODDKg0"
      },
      "source": [
        "In this notebook, we load the high-quality NASDAQ100 minute-bar trade-and-quote data generously provided by [Algoseek](https://www.algoseek.com/) (available [here](https://www.algoseek.com/ml4t-book-data.html)) and engineer a few illustrative features.\n",
        "\n",
        "The rich set of trade and quote information contained in the Algoseek data offers various opportunities to add inforation, e.g. about relative spreads and demand/supply imbalances, but since the data is fairly large we limit our efforts to a small number of features.\n",
        "\n",
        "> Note that we will assume throughout that we can always buy (sell) at the first (last) trade price for a given bar at no cost and without market impact; this is unlikely to be true in reality but simplifies the example).\n",
        "\n",
        "The next notebook will use this dataset to train a model that predicts 1-minute returns using LightGBM."
      ]
    },
    {
      "cell_type": "code",
      "source": [
        "%%bash\n",
        "\n",
        "pip show ta-lib 2>/dev/null\n",
        "if [ $? -eq 0 ]; then\n",
        "  echo \"ta-lib is already installed\"\n",
        "  exit 0\n",
        "fi\n",
        "\n",
        "TALIBVER=0.4.26\n",
        "pip install \"ta-lib-bin==$TALIBVER\" \"numpy<2\"\n",
        "distpath=$(pip show ta-lib-bin | grep -oP 'Location: \\K.*')\n",
        "if [[ -n \"$distpath\" ]]; then\n",
        "  echo \"ta-lib-bin found at $distpath\"\n",
        "  cd \"$distpath\"\n",
        "else\n",
        "  echo \"Error: Path to ta-lib-bin not found.\"\n",
        "  exit 1\n",
        "fi\n",
        "cp -R ta_lib_bin.libs ta_lib.libs\n",
        "cp -R \"ta_lib_bin-$TALIBVER.dist-info\" \"ta_lib-$TALIBVER.dist-info\"\n",
        "sed -i 's/^Name: ta-lib-bin/Name: ta-lib/' \"ta_lib-$TALIBVER.dist-info/METADATA\"\n",
        "diff -u \"ta_lib_bin-$TALIBVER.dist-info/METADATA\" \"ta_lib-$TALIBVER.dist-info/METADATA\"\n",
        "[ $? -eq 1 ] && exit 0\n",
        "echo \"Should have got diff for name in METADATA file\"\n",
        "exit 1"
      ],
      "metadata": {
        "colab": {
          "base_uri": "https://localhost:8080/"
        },
        "id": "H_vb-nXsDPTc",
        "outputId": "298c3152-23bb-415b-ddcb-91804eb87313"
      },
      "execution_count": 1,
      "outputs": [
        {
          "output_type": "stream",
          "name": "stdout",
          "text": [
            "Collecting ta-lib-bin==0.4.26\n",
            "  Downloading ta_lib_bin-0.4.26-cp310-cp310-manylinux_2_17_x86_64.manylinux2014_x86_64.whl.metadata (19 kB)\n",
            "Requirement already satisfied: numpy<2 in /usr/local/lib/python3.10/dist-packages (1.26.4)\n",
            "Downloading ta_lib_bin-0.4.26-cp310-cp310-manylinux_2_17_x86_64.manylinux2014_x86_64.whl (2.9 MB)\n",
            "   ━━━━━━━━━━━━━━━━━━━━━━━━━━━━━━━━━━━━━━━━ 2.9/2.9 MB 56.8 MB/s eta 0:00:00\n",
            "Installing collected packages: ta-lib-bin\n",
            "Successfully installed ta-lib-bin-0.4.26\n",
            "ta-lib-bin found at /usr/local/lib/python3.10/dist-packages\n",
            "--- ta_lib_bin-0.4.26.dist-info/METADATA\t2024-10-10 04:57:23.699174665 +0000\n",
            "+++ ta_lib-0.4.26.dist-info/METADATA\t2024-10-10 04:57:26.596441424 +0000\n",
            "@@ -1,5 +1,5 @@\n",
            " Metadata-Version: 2.1\n",
            "-Name: ta-lib-bin\n",
            "+Name: ta-lib\n",
            " Version: 0.4.26\n",
            " Summary: Python wrapper for TA-Lib\n",
            " Home-page: https://github.com/minggnim/ta-lib\n"
          ]
        }
      ]
    },
    {
      "cell_type": "code",
      "source": [
        "%pip install tqdm \"pandas<3\" \"numpy<2\" scipy matplotlib seaborn lightgbm"
      ],
      "metadata": {
        "colab": {
          "base_uri": "https://localhost:8080/"
        },
        "id": "d16b7w6VFqRX",
        "outputId": "41599702-15dd-4089-eee2-1c65a8983175"
      },
      "execution_count": 2,
      "outputs": [
        {
          "output_type": "stream",
          "name": "stdout",
          "text": [
            "Requirement already satisfied: tqdm in /usr/local/lib/python3.10/dist-packages (4.66.5)\n",
            "Requirement already satisfied: pandas<3 in /usr/local/lib/python3.10/dist-packages (2.2.2)\n",
            "Requirement already satisfied: numpy<2 in /usr/local/lib/python3.10/dist-packages (1.26.4)\n",
            "Requirement already satisfied: scipy in /usr/local/lib/python3.10/dist-packages (1.13.1)\n",
            "Requirement already satisfied: matplotlib in /usr/local/lib/python3.10/dist-packages (3.7.1)\n",
            "Requirement already satisfied: seaborn in /usr/local/lib/python3.10/dist-packages (0.13.1)\n",
            "Requirement already satisfied: lightgbm in /usr/local/lib/python3.10/dist-packages (4.5.0)\n",
            "Requirement already satisfied: python-dateutil>=2.8.2 in /usr/local/lib/python3.10/dist-packages (from pandas<3) (2.8.2)\n",
            "Requirement already satisfied: pytz>=2020.1 in /usr/local/lib/python3.10/dist-packages (from pandas<3) (2024.2)\n",
            "Requirement already satisfied: tzdata>=2022.7 in /usr/local/lib/python3.10/dist-packages (from pandas<3) (2024.2)\n",
            "Requirement already satisfied: contourpy>=1.0.1 in /usr/local/lib/python3.10/dist-packages (from matplotlib) (1.3.0)\n",
            "Requirement already satisfied: cycler>=0.10 in /usr/local/lib/python3.10/dist-packages (from matplotlib) (0.12.1)\n",
            "Requirement already satisfied: fonttools>=4.22.0 in /usr/local/lib/python3.10/dist-packages (from matplotlib) (4.54.1)\n",
            "Requirement already satisfied: kiwisolver>=1.0.1 in /usr/local/lib/python3.10/dist-packages (from matplotlib) (1.4.7)\n",
            "Requirement already satisfied: packaging>=20.0 in /usr/local/lib/python3.10/dist-packages (from matplotlib) (24.1)\n",
            "Requirement already satisfied: pillow>=6.2.0 in /usr/local/lib/python3.10/dist-packages (from matplotlib) (10.4.0)\n",
            "Requirement already satisfied: pyparsing>=2.3.1 in /usr/local/lib/python3.10/dist-packages (from matplotlib) (3.1.4)\n",
            "Requirement already satisfied: six>=1.5 in /usr/local/lib/python3.10/dist-packages (from python-dateutil>=2.8.2->pandas<3) (1.16.0)\n"
          ]
        }
      ]
    },
    {
      "cell_type": "markdown",
      "metadata": {
        "id": "TZCoN6IADKg1"
      },
      "source": [
        "## Imports & Settings"
      ]
    },
    {
      "cell_type": "code",
      "execution_count": 3,
      "metadata": {
        "ExecuteTime": {
          "end_time": "2021-01-20T01:09:03.350026Z",
          "start_time": "2021-01-20T01:09:03.347904Z"
        },
        "id": "6VAkBRBGDKg1"
      },
      "outputs": [],
      "source": [
        "import warnings\n",
        "warnings.filterwarnings('ignore')"
      ]
    },
    {
      "cell_type": "code",
      "execution_count": 4,
      "metadata": {
        "ExecuteTime": {
          "end_time": "2021-01-20T01:09:04.058323Z",
          "start_time": "2021-01-20T01:09:03.351702Z"
        },
        "id": "mnjoSW8tDKg1"
      },
      "outputs": [],
      "source": [
        "%matplotlib inline\n",
        "\n",
        "from pathlib import Path\n",
        "from tqdm import tqdm\n",
        "\n",
        "import numpy as np\n",
        "import pandas as pd\n",
        "\n",
        "from scipy.stats import spearmanr\n",
        "import talib\n",
        "\n",
        "import matplotlib.pyplot as plt\n",
        "from matplotlib.ticker import FuncFormatter\n",
        "import seaborn as sns"
      ]
    },
    {
      "cell_type": "code",
      "execution_count": 5,
      "metadata": {
        "ExecuteTime": {
          "end_time": "2021-01-20T01:09:04.061160Z",
          "start_time": "2021-01-20T01:09:04.059324Z"
        },
        "id": "ug3glSA9DKg1"
      },
      "outputs": [],
      "source": [
        "sns.set_style('whitegrid')\n",
        "idx = pd.IndexSlice\n",
        "deciles = np.arange(.1, 1, .1)"
      ]
    },
    {
      "cell_type": "markdown",
      "metadata": {
        "id": "2rF8ZamsDKg1"
      },
      "source": [
        "## Algoseek Trade & Quote Minute Bar Data"
      ]
    },
    {
      "cell_type": "markdown",
      "metadata": {
        "id": "-MMBNXADDKg1"
      },
      "source": [
        "### Data Dictionary"
      ]
    },
    {
      "cell_type": "markdown",
      "metadata": {
        "id": "chcqNrCDDKg1"
      },
      "source": [
        "The Quote fields are based on changes to the NBBO ([National Best Bid Offer](https://www.investopedia.com/terms/n/nbbo.asp)) from the top-of-book price and size from\n",
        "each of the exchanges.\n",
        "\n",
        "The enhanced Trade & Quote bar fields include the following fields:\n",
        "- **Field**: Name of Field.\n",
        "- **Q / T**: Field based on Quotes or Trades\n",
        "- **Type**: Field format\n",
        "- **No Value**: Value of field when there is no value or data.\n",
        "  - Note: “Never” means field should always have a value EXCEPT for the first bar of the day.\n",
        "- **Description**: Description of the field.\n",
        "\n",
        "See [docs](https://us-equity-market-data-docs.s3.amazonaws.com/algoseek.US.Equity.TAQ.Minute.Bars.pdf) for additional detail."
      ]
    },
    {
      "cell_type": "markdown",
      "metadata": {
        "id": "K7cdIhtsDKg2"
      },
      "source": [
        "| id  | Field                   | Q/T  | Type                          |  No Value | Description                                                                                                                                                                                                         |\n",
        "|:---:|:------------------------|:----:|:------------------------------|:---------:|:--------------------------------------------------------------------------------------------------------------------------------------------------------------------------------------------------------------------|\n",
        "| 1  | `Date`                   |      | YYYYMMDD                      | Never     | Trade Date                                                                                                                                                                                                          |\n",
        "| 2  | `Ticker`                 |      | String                       | Never      | Ticker Symbol                                                                                                                                                                                                       |\n",
        "| 3  | `TimeBarStart`           |      | HHMM <br>HHMMSS <br>HHMMSSMMM | Never     | For minute bars: HHMM. <br>For second bars: HHMMSS. <br>Examples<br>- One second bar 130302 is from time greater than 130301 to 130302.<br>- One minute bar 1104 is from time greater than 1103 to 1104. |\n",
        "| 4  | `OpenBarTime`            | Q    | HHMMSSMMM                    | Never      | Open Time of the Bar, for example one minute:<br>11:03:00.000                                                                                                                                                       |\n",
        "| 5  | `OpenBidPrice`           | Q    | Number                        | Never     | NBBO Bid Price as of bar Open                                                                                                                                                                                       |\n",
        "| 6  | `OpenBidSize`            | Q    | Number                        | Never     | Total Size from all Exchanges with<br>OpenBidPrice                                                                                                                                                                  |\n",
        "| 7  | `OpenAskPrice`           | Q    | Number                        | Never     | NBBO Ask Price as of bar Open                                                                                                                                                                                       |\n",
        "| 8  | `OpenAskSize`            | Q    | Number                        | Never     | Total Size from all Exchange with<br>OpenAskPrice                                                                                                                                                                   |\n",
        "| 9  | `FirstTradeTime`         | T    | HHMMSSMMM                     | Blank     | Time of first Trade                                                                                                                                                                                                 |\n",
        "| 10 | `FirstTradePrice`        | T    | Number                        | Blank     | Price of first Trade                                                                                                                                                                                                |\n",
        "| 11 | `FirstTradeSize`         | T    | Number                        | Blank     | Number of shares of first trade                                                                                                                                                                                     |\n",
        "| 12 | `HighBidTime`            | Q    | HHMMSSMMM                     | Never     | Time of highest NBBO Bid Price                                                                                                                                                                                      |\n",
        "| 13 | `HighBidPrice`           | Q    | Number                        | Never     | Highest NBBO Bid Price                                                                                                                                                                                              |\n",
        "| 14 | `HighBidSize`            | Q    | Number                        | Never     | Total Size from all Exchanges with HighBidPrice                                                                                                                                                                  |\n",
        "| 15 | `AskPriceAtHighBidPrice` | Q    | Number                        | Never     | Ask Price at time of Highest Bid Price                                                                                                                                                                              |\n",
        "| 16 | `AskSizeAtHighBidPrice`  | Q    | Number                        | Never     | Total Size from all Exchanges with `AskPriceAtHighBidPrice`                                                                                                                                                        |\n",
        "| 17 | `HighTradeTime`          | T    | HHMMSSMMM                     | Blank     | Time of Highest Trade                                                                                                                                                                                               |\n",
        "| 18 | `HighTradePrice`         | T    | Number                        | Blank     | Price of highest Trade                                                                                                                                                                                              |\n",
        "| 19 | `HighTradeSize`          | T    | Number                        | Blank     | Number of shares of highest trade                                                                                                                                                                                   |\n",
        "| 20 | `LowBidTime`             | Q    | HHMMSSMMM                     | Never     | Time of lowest Bid                                                                                                                                                                                                  |\n",
        "| 21 | `LowBidPrice`            | Q    | Number                        | Never     | Lowest NBBO Bid price of bar.                                                                                                                                                                                       |\n",
        "| 22 | `LowBidSize`             | Q    | Number                        | Never     | Total Size from all Exchanges with `LowBidPrice`                                                                                                                                                                   |\n",
        "| 23 | `AskPriceAtLowBidPrice`  | Q    | Number                        | Never     | Ask Price at lowest Bid price                                                                                                                                                                                       |\n",
        "| 24  | `AskSizeAtLowBidPrice`  | Q    | Number                        | Never     | Total Size from all Exchanges with `AskPriceAtLowBidPrice`                                                                                                                                                                                       |\n",
        "| 25  | `LowTradeTime`          | T    | HHMMSSMMM                     | Blank     | Time of lowest Trade                                                                                                                                                                                                                             |\n",
        "| 26  | `LowTradePrice`         | T    | Number                        | Blank     | Price of lowest Trade                                                                                                                                                                                                                            |\n",
        "| 27  | `LowTradeSize`          | T    | Number                        | Blank     | Number of shares of lowest trade                                                                                                                                                                                                                 |\n",
        "| 28  | `CloseBarTime`          | Q    | HHMMSSMMM                     | Never     | Close Time of the Bar, for example one minute: 11:03:59.999                                                                                                                                                                                      |\n",
        "| 29  | `CloseBidPrice`         | Q    | Number                        | Never     | NBBO Bid Price at bar Close                                                                                                                                                                                                                      |\n",
        "| 30  | `CloseBidSize`          | Q    | Number                        | Never     | Total Size from all Exchange with `CloseBidPrice`                                                                                                                                                                                                |\n",
        "| 31  | `CloseAskPrice`         | Q    | Number                        | Never     | NBBO Ask Price at bar Close                                                                                                                                                                                                                      |\n",
        "| 32  | `CloseAskSize`          | Q    | Number                        | Never     | Total Size from all Exchange with `CloseAskPrice`                                                                                                                                                                                                |\n",
        "| 33  | `LastTradeTime`         | T    | HHMMSSMMM                     | Blank     | Time of last Trade                                                                                                                                                                                                                               |\n",
        "| 34  | `LastTradePrice`        | T    | Number                        | Blank     | Price of last Trade                                                                                                                                                                                                                              |\n",
        "| 35  | `LastTradeSize`         | T    | Number                        | Blank     | Number of shares of last trade                                                                                                                                                                                                                   |\n",
        "| 36  | `MinSpread`             | Q    | Number                        | Never     | Minimum Bid-Ask spread size. This may be 0 if the market was crossed during the bar.<br/>If negative spread due to back quote, make it 0.                                                                                                            |\n",
        "| 37  | `MaxSpread`             | Q    | Number                        | Never     | Maximum Bid-Ask spread in bar                                                                                                                                                                                                                    |\n",
        "| 38  | `CancelSize`            | T    | Number                        | 0         | Total shares canceled. Default=blank                                                                                                                                                                                                             |\n",
        "| 39  | `VolumeWeightPrice`     | T    | Number                        | Blank     | Trade Volume weighted average price <br>Sum((`Trade1Shares`*`Price`)+(`Trade2Shares`*`Price`)+…)/`TotalShares`. <br>Note: Blank if no trades.                                                                                                        |\n",
        "| 40  | `NBBOQuoteCount`        | Q    | Number                        | 0         | Number of Bid and Ask NNBO quotes during bar period.                                                                                                                                                                                             |\n",
        "| 41  | `TradeAtBid`            | Q,T  | Number                        | 0         | Sum of trade volume that occurred at or below the bid (a trade reported/printed late can be below current bid).                                                                                                                                  |\n",
        "| 42  | `TradeAtBidMid`         | Q,T  | Number                        | 0         | Sum of trade volume that occurred between the bid and the mid-point:<br/>(Trade Price > NBBO Bid ) & (Trade Price < NBBO Mid )                                                                                                                       |\n",
        "| 43  | `TradeAtMid`            | Q,T  | Number                        | 0         | Sum of trade volume that occurred at mid.<br/>TradePrice = NBBO MidPoint                                                                                                                                                                             |\n",
        "| 44  | `TradeAtMidAsk`         | Q,T  | Number                        | 0         | Sum of ask volume that occurred between the mid and ask:<br/>(Trade Price > NBBO Mid) & (Trade Price < NBBO Ask)                                                                                                                                     |\n",
        "| 45  | `TradeAtAsk`            | Q,T  | Number                        | 0         | Sum of trade volume that occurred at or above the Ask.                                                                                                                                                                                           |\n",
        "| 46  | `TradeAtCrossOrLocked`  | Q,T  | Number                        | 0         | Sum of trade volume for bar when national best bid/offer is locked or crossed. <br>Locked is Bid = Ask <br>Crossed is Bid > Ask                                                                                                                  |\n",
        "| 47  | `Volume`                | T    | Number                        | 0         | Total number of shares traded                                                                                                                                                                                                                    |\n",
        "| 48  | `TotalTrades`           | T    | Number                        | 0         | Total number of trades                                                                                                                                                                                                                           |\n",
        "| 49  | `FinraVolume`           | T    | Number                        | 0         | Number of shares traded that are reported by FINRA. <br/>Trades reported by FINRA are from broker-dealer internalization, dark pools, Over-The-Counter, etc. <br/>FINRA trades represent volume that is hidden or not public available to trade.         |\n",
        "| 50  | `UptickVolume`          | T    | Integer                       | 0         | Total number of shares traded with upticks during bar.<br/>An uptick = ( trade price > last trade price )                                                                                                                                                                                                                               |\n",
        "| 51  | `DowntickVolume`        | T    | Integer                       | 0         | Total number of shares traded with downticks during bar.<br/>A downtick = ( trade price < last trade price )                                                                                                                                                                                                                            |\n",
        "| 52  | `RepeatUptickVolume`    | T    | Integer                       | 0         | Total number of shares where trade price is the same (repeated) and last price change was up during bar. <br/>Repeat uptick = ( trade price == last trade price ) & (last tick direction == up )                                                                                                                                         |\n",
        "| 53  | `RepeatDowntickVolume`  | T    | Integer                       | 0         | Total number of shares where trade price is the same (repeated) and last price change was down during bar. <br/>Repeat downtick = ( trade price == last trade price ) & (last tick direction == down )                                                                                                                                   |\n",
        "| 54  | `UnknownVolume`         | T    | Integer                       | 0         | When the first trade of the day takes place, the tick direction is “unknown” as there is no previous Trade to compare it to.<br/>This field is the volume of the first trade after 4am and acts as an initiation value for the tick volume directions.<br/>In future this bar will be renamed to `UnkownTickDirectionVolume` .  |"
      ]
    },
    {
      "cell_type": "markdown",
      "metadata": {
        "id": "ShiDLfiPDKg2"
      },
      "source": [
        "### Notes\n",
        "\n",
        "**Empty Fields**\n",
        "\n",
        "An empty field has no value and is “Blank” , for example FirstTradeTime and there are no trades during the bar period.\n",
        "The field `Volume` measuring total number of shares traded in bar will be `0` if there are no Trades (see `No Value` column above for each field).\n",
        "\n",
        "**No Bid/Ask/Trade OHLC**\n",
        "\n",
        "During a bar timeframe there may not be a change in the NBBO or an actual Trade.\n",
        "For example, there can be a bar with OHLC Bid/Ask but no Trade OHLC.\n",
        "\n",
        "**Single Event**\n",
        "\n",
        "For bars with only one trade, one NBBO bid or one NBBO ask then Open/High/Low/Close price,size andtime will be the same.\n",
        "\n",
        "**`AskPriceAtHighBidPrice`, `AskSizeAtHighBidPrice`, `AskPriceAtLowBidPrice`, `AskSizeAtLowBidPrice` Fields**\n",
        "\n",
        "To provide consistent Bid/Ask prices at a point in time while showing the low/high Bid/Ask for the bar, AlgoSeek uses the low/high `Bid` and the corresponding `Ask` at that price.\n",
        "\n",
        "### FAQ\n",
        "\n",
        "**Why are Trade Prices often inside the Bid Price to Ask Price range?**\n",
        "\n",
        "The Low/High Bid/Ask is the low and high NBBO price for the bar range.\n",
        "Very often a Trade may not occur at these prices as the price may only last a few seconds or executions are being crossed at mid-point due to hidden order types that execute at mid-point or as price improvement over current `Bid`/`Ask`.\n",
        "\n",
        "**How to get exchange tradable shares?**\n",
        "\n",
        "To get the exchange tradable volume in a bar subtract `Volume` from `FinraVolume`.\n",
        "- `Volume` is the total number of shares traded.\n",
        "- ``FinraVolume`` is the total number of shares traded that are reported as executions by FINRA.\n",
        "\n",
        "When a trade is done that is off the listed exchanges, it must be reported to FINRA by the brokerage firm or dark pool. Examples include:\n",
        "- internal crosses by broker dealer\n",
        "- over-the-counter block trades, and\n",
        "- dark pool executions."
      ]
    },
    {
      "cell_type": "markdown",
      "metadata": {
        "id": "2VCV-54gDKg3"
      },
      "source": [
        "## Data prep"
      ]
    },
    {
      "cell_type": "markdown",
      "metadata": {
        "id": "OloVAx4_DKg3"
      },
      "source": [
        "We use the 'Trade and Quote' dataset - see [documentation](https://www.algoseek.com/old_static/files/documentation/equity_and_etf_etn/AlgoSeek.US.Equity.TradeAndQuotes.OHLC.Bars.1.5.pdf) for details on the definition of the numerous fields."
      ]
    },
    {
      "cell_type": "code",
      "execution_count": 6,
      "metadata": {
        "ExecuteTime": {
          "end_time": "2021-01-20T01:09:04.069208Z",
          "start_time": "2021-01-20T01:09:04.062034Z"
        },
        "id": "Wv88e3CaDKg3"
      },
      "outputs": [],
      "source": [
        "tcols = ['openbartime',\n",
        "         'firsttradetime',\n",
        "         'highbidtime',\n",
        "         'highasktime',\n",
        "         'hightradetime',\n",
        "         'lowbidtime',\n",
        "         'lowasktime',\n",
        "         'lowtradetime',\n",
        "         'closebartime',\n",
        "         'lasttradetime']"
      ]
    },
    {
      "cell_type": "code",
      "execution_count": 7,
      "metadata": {
        "ExecuteTime": {
          "end_time": "2021-01-20T01:09:04.078592Z",
          "start_time": "2021-01-20T01:09:04.070175Z"
        },
        "id": "r0W5ICQfDKg3"
      },
      "outputs": [],
      "source": [
        "drop_cols = ['unknowntickvolume',\n",
        "             'cancelsize',\n",
        "             'tradeatcrossorlocked']"
      ]
    },
    {
      "cell_type": "code",
      "execution_count": 8,
      "metadata": {
        "ExecuteTime": {
          "end_time": "2021-01-20T01:09:04.087754Z",
          "start_time": "2021-01-20T01:09:04.083055Z"
        },
        "id": "nlQTgiB8DKg3"
      },
      "outputs": [],
      "source": [
        "keep = ['firsttradeprice',\n",
        "        'hightradeprice',\n",
        "        'lowtradeprice',\n",
        "        'lasttradeprice',\n",
        "        'minspread',\n",
        "        'maxspread',\n",
        "        'volumeweightprice',\n",
        "        'nbboquotecount',\n",
        "        'tradeatbid',\n",
        "        'tradeatbidmid',\n",
        "        'tradeatmid',\n",
        "        'tradeatmidask',\n",
        "        'tradeatask',\n",
        "        'volume',\n",
        "        'totaltrades',\n",
        "        'finravolume',\n",
        "        'finravolumeweightprice',\n",
        "        'uptickvolume',\n",
        "        'downtickvolume',\n",
        "        'repeatuptickvolume',\n",
        "        'repeatdowntickvolume',\n",
        "        'tradetomidvolweight',\n",
        "        'tradetomidvolweightrelative']"
      ]
    },
    {
      "cell_type": "markdown",
      "metadata": {
        "id": "gxmaG4uTDKg4"
      },
      "source": [
        "We will shorten most of the field names to reduce typing:"
      ]
    },
    {
      "cell_type": "code",
      "execution_count": 9,
      "metadata": {
        "ExecuteTime": {
          "end_time": "2021-01-20T01:09:04.096735Z",
          "start_time": "2021-01-20T01:09:04.090319Z"
        },
        "id": "-6ZatzgxDKg4"
      },
      "outputs": [],
      "source": [
        "columns = {'volumeweightprice'          : 'price',\n",
        "           'finravolume'                : 'fvolume',\n",
        "           'finravolumeweightprice'     : 'fprice',\n",
        "           'uptickvolume'               : 'up',\n",
        "           'downtickvolume'             : 'down',\n",
        "           'repeatuptickvolume'         : 'rup',\n",
        "           'repeatdowntickvolume'       : 'rdown',\n",
        "           'firsttradeprice'            : 'first',\n",
        "           'hightradeprice'             : 'high',\n",
        "           'lowtradeprice'              : 'low',\n",
        "           'lasttradeprice'             : 'last',\n",
        "           'nbboquotecount'             : 'nbbo',\n",
        "           'totaltrades'                : 'ntrades',\n",
        "           'openbidprice'               : 'obprice',\n",
        "           'openbidsize'                : 'obsize',\n",
        "           'openaskprice'               : 'oaprice',\n",
        "           'openasksize'                : 'oasize',\n",
        "           'highbidprice'               : 'hbprice',\n",
        "           'highbidsize'                : 'hbsize',\n",
        "           'highaskprice'               : 'haprice',\n",
        "           'highasksize'                : 'hasize',\n",
        "           'lowbidprice'                : 'lbprice',\n",
        "           'lowbidsize'                 : 'lbsize',\n",
        "           'lowaskprice'                : 'laprice',\n",
        "           'lowasksize'                 : 'lasize',\n",
        "           'closebidprice'              : 'cbprice',\n",
        "           'closebidsize'               : 'cbsize',\n",
        "           'closeaskprice'              : 'caprice',\n",
        "           'closeasksize'               : 'casize',\n",
        "           'firsttradesize'             : 'firstsize',\n",
        "           'hightradesize'              : 'highsize',\n",
        "           'lowtradesize'               : 'lowsize',\n",
        "           'lasttradesize'              : 'lastsize',\n",
        "           'tradetomidvolweight'        : 'volweight',\n",
        "           'tradetomidvolweightrelative': 'volweightrel'}"
      ]
    },
    {
      "cell_type": "markdown",
      "metadata": {
        "id": "tl9LVBQSDKg4"
      },
      "source": [
        "The Algoseek minute-bar data comes in compressed csv files that contain the data for one symbol and day, organized in three directories for each year (2015-17). The function `extract_and_combine_data` reads the ~80K source files and combines them into a single `hdf5` file for faster access.\n",
        "\n",
        ">The data is fairly large (>8GB), and if you run into memory constraints, please modify the code to process the data in smaller chunks. One options is to iterate over the three directories containing data for a single year only, and storing each year separately."
      ]
    },
    {
      "cell_type": "code",
      "source": [
        "import os\n",
        "from google.colab import drive\n",
        "drive.mount('/content/drive')\n",
        "\n",
        "if not os.environ.get(\"WORKSPACE\"):\n",
        "  os.environ[\"WORKSPACE\"] = \"/content/drive/MyDrive/Workspace\"\n",
        "\n",
        "%mkdir -p /content/drive/MyDrive/Workspace\n",
        "%cd /content/drive/MyDrive/Workspace\n",
        "!pwd"
      ],
      "metadata": {
        "colab": {
          "base_uri": "https://localhost:8080/"
        },
        "id": "nZnhXh8ZH5v0",
        "outputId": "0babca64-7597-469f-e76f-491be1517b96"
      },
      "execution_count": 10,
      "outputs": [
        {
          "output_type": "stream",
          "name": "stdout",
          "text": [
            "Mounted at /content/drive\n",
            "/content/drive/MyDrive/Workspace\n",
            "/content/drive/MyDrive/Workspace\n"
          ]
        }
      ]
    },
    {
      "cell_type": "code",
      "execution_count": 11,
      "metadata": {
        "ExecuteTime": {
          "end_time": "2021-01-20T01:09:04.108378Z",
          "start_time": "2021-01-20T01:09:04.098299Z"
        },
        "id": "YMMK0NqsDKg4"
      },
      "outputs": [],
      "source": [
        "workspace_path = Path('/content/drive/MyDrive/Workspace/ml4t')\n",
        "\n",
        "nasdaq_path = workspace_path / 'data/nasdaq100'\n",
        "\n",
        "algoseek_path = nasdaq_path / 'algoseek.h5'"
      ]
    },
    {
      "cell_type": "code",
      "execution_count": 13,
      "metadata": {
        "ExecuteTime": {
          "end_time": "2021-01-20T01:09:04.117862Z",
          "start_time": "2021-01-20T01:09:04.109961Z"
        },
        "id": "13THs9wjDKg4"
      },
      "outputs": [],
      "source": [
        "def extract_and_combine_data():\n",
        "    data = []\n",
        "    # ~80K files to process\n",
        "    for f in tqdm(list(nasdaq_path.glob('*/**/*.csv.gz'))):\n",
        "        data.append(pd.read_csv(f, parse_dates=[['Date', 'TimeBarStart']])\n",
        "                    .rename(columns=str.lower)\n",
        "                    .drop(tcols + drop_cols, axis=1)\n",
        "                    .rename(columns=columns)\n",
        "                    .set_index('date_timebarstart')\n",
        "                    .sort_index()\n",
        "                    # .between_time('9:30', '16:00')\n",
        "                    .set_index('ticker', append=True)\n",
        "                    .swaplevel()\n",
        "                    .rename(columns=lambda x: x.replace('tradeat', 'at')))\n",
        "    data = pd.concat(data).apply(pd.to_numeric, downcast='integer')\n",
        "    data.index.rename(['ticker', 'date_time'])\n",
        "    print(data.info(show_counts=True))\n",
        "    data.to_hdf(algoseek_path, 'min_taq')"
      ]
    },
    {
      "cell_type": "markdown",
      "source": [
        "This took 14 hours to run on Colab.  Important to use GDrive I think so we can leave it unattended.\n",
        "\n",
        "Actually failed after 11.5 hours from OOM."
      ],
      "metadata": {
        "id": "fqqW3BwoPY5d"
      }
    },
    {
      "cell_type": "code",
      "execution_count": null,
      "metadata": {
        "ExecuteTime": {
          "end_time": "2021-01-20T01:09:04.133889Z",
          "start_time": "2021-01-20T01:09:04.119663Z"
        },
        "colab": {
          "base_uri": "https://localhost:8080/"
        },
        "id": "PdWYBj1wDKg5",
        "outputId": "9444f3ed-3e2f-4559-e34c-8c78d8abe516"
      },
      "outputs": [
        {
          "output_type": "stream",
          "name": "stderr",
          "text": [
            "  2%|▏         | 1851/80194 [09:58<7:05:46,  3.07it/s]"
          ]
        }
      ],
      "source": [
        "if not algoseek_path.exists():\n",
        "  extract_and_combine_data()"
      ]
    },
    {
      "cell_type": "markdown",
      "metadata": {
        "id": "CfngyHsNDKg5"
      },
      "source": [
        "## Loading Algoseek Data"
      ]
    },
    {
      "cell_type": "code",
      "execution_count": null,
      "metadata": {
        "ExecuteTime": {
          "end_time": "2021-01-20T01:09:04.149080Z",
          "start_time": "2021-01-20T01:09:04.135021Z"
        },
        "id": "GkRDS7gJDKg5"
      },
      "outputs": [],
      "source": [
        "ohlcv_cols = ['first', 'high', 'low', 'last', 'price', 'volume']"
      ]
    },
    {
      "cell_type": "code",
      "execution_count": null,
      "metadata": {
        "ExecuteTime": {
          "end_time": "2021-01-20T01:09:04.166497Z",
          "start_time": "2021-01-20T01:09:04.150181Z"
        },
        "id": "d14z4Sj4DKg5"
      },
      "outputs": [],
      "source": [
        "data_cols = ohlcv_cols + ['up', 'down', 'rup', 'rdown', 'atask', 'atbid']"
      ]
    },
    {
      "cell_type": "code",
      "execution_count": null,
      "metadata": {
        "ExecuteTime": {
          "end_time": "2021-01-20T01:09:29.663196Z",
          "start_time": "2021-01-20T01:09:04.167601Z"
        },
        "id": "OHzL4B9fDKg5"
      },
      "outputs": [],
      "source": [
        "with pd.HDFStore(algoseek_path) as store:\n",
        "    df = store['min_taq'].loc[:, data_cols].sort_index()"
      ]
    },
    {
      "cell_type": "code",
      "execution_count": null,
      "metadata": {
        "ExecuteTime": {
          "end_time": "2021-01-20T01:09:39.537432Z",
          "start_time": "2021-01-20T01:09:29.664613Z"
        },
        "id": "4UgTlxoMDKg5"
      },
      "outputs": [],
      "source": [
        "df['date'] = pd.to_datetime(df.index.get_level_values('date_time').date)"
      ]
    },
    {
      "cell_type": "markdown",
      "metadata": {
        "id": "4d8q0ZntDKg5"
      },
      "source": [
        "We persist the reduced dataset:"
      ]
    },
    {
      "cell_type": "code",
      "execution_count": null,
      "metadata": {
        "ExecuteTime": {
          "end_time": "2021-01-20T01:09:41.400003Z",
          "start_time": "2021-01-20T01:09:39.561620Z"
        },
        "id": "E0N-lVknDKg5"
      },
      "outputs": [],
      "source": [
        "df.to_hdf(algoseek_path, 'data')"
      ]
    },
    {
      "cell_type": "code",
      "execution_count": null,
      "metadata": {
        "ExecuteTime": {
          "end_time": "2021-01-20T01:09:47.759859Z",
          "start_time": "2021-01-20T01:09:41.401432Z"
        },
        "id": "_YEjY480DKg5"
      },
      "outputs": [],
      "source": [
        "df = pd.read_hdf(algoseek_path, 'data')"
      ]
    },
    {
      "cell_type": "code",
      "execution_count": null,
      "metadata": {
        "ExecuteTime": {
          "end_time": "2021-01-20T01:09:48.545400Z",
          "start_time": "2021-01-20T01:09:47.760872Z"
        },
        "id": "C-5l-2_5DKg5"
      },
      "outputs": [],
      "source": [
        "df.info(show_counts=True)"
      ]
    },
    {
      "cell_type": "markdown",
      "metadata": {
        "id": "JeYZjmUfDKg5"
      },
      "source": [
        "## Feature Engineering"
      ]
    },
    {
      "cell_type": "markdown",
      "metadata": {
        "id": "INeUPhqGDKg5"
      },
      "source": [
        "All of the features above were normalized in a standard fashion\n",
        "by subtracting their means, dividing by their standard deviations, and time-averaging over a recent\n",
        "interval. In order to obtain a finite state space, features were discretized into bins in multiples of\n",
        "standard deviation units"
      ]
    },
    {
      "cell_type": "markdown",
      "metadata": {
        "id": "arn462uHDKg5"
      },
      "source": [
        "We will compute feature per ticker or ticker and date:"
      ]
    },
    {
      "cell_type": "code",
      "execution_count": null,
      "metadata": {
        "ExecuteTime": {
          "end_time": "2021-01-20T01:09:58.642570Z",
          "start_time": "2021-01-20T01:09:48.546430Z"
        },
        "id": "L4pGCclPDKg5"
      },
      "outputs": [],
      "source": [
        "by_ticker = df.sort_index().groupby('ticker', group_keys=False)\n",
        "by_ticker_date = df.sort_index().groupby(['ticker', 'date'])"
      ]
    },
    {
      "cell_type": "markdown",
      "metadata": {
        "id": "0bBTio4GDKg5"
      },
      "source": [
        "Create empty `DataFrame` with original ticker/timestamp index to hold our features:"
      ]
    },
    {
      "cell_type": "code",
      "execution_count": null,
      "metadata": {
        "ExecuteTime": {
          "end_time": "2021-01-20T01:09:58.645884Z",
          "start_time": "2021-01-20T01:09:58.643530Z"
        },
        "id": "R9K7Iyq-DKg5"
      },
      "outputs": [],
      "source": [
        "data = pd.DataFrame(index=df.index)"
      ]
    },
    {
      "cell_type": "code",
      "execution_count": null,
      "metadata": {
        "ExecuteTime": {
          "end_time": "2021-01-20T01:09:58.930687Z",
          "start_time": "2021-01-20T01:09:58.647120Z"
        },
        "id": "dG-UG8VGDKg5"
      },
      "outputs": [],
      "source": [
        "data['date'] = pd.factorize(df['date'], sort=True)[0]"
      ]
    },
    {
      "cell_type": "code",
      "execution_count": null,
      "metadata": {
        "ExecuteTime": {
          "end_time": "2021-01-20T01:11:02.174348Z",
          "start_time": "2021-01-20T01:09:58.931900Z"
        },
        "id": "dV64j2zZDKg6"
      },
      "outputs": [],
      "source": [
        "data['minute'] = pd.to_timedelta(data.index.get_level_values('date_time').time.astype(str))\n",
        "data.minute = (data.minute.dt.seconds.sub(data.minute.dt.seconds.min()).div(60).astype(int))"
      ]
    },
    {
      "cell_type": "markdown",
      "metadata": {
        "id": "DBaDyurIDKg6"
      },
      "source": [
        "### Lagged Returns"
      ]
    },
    {
      "cell_type": "markdown",
      "metadata": {
        "id": "ab6dmovjDKg6"
      },
      "source": [
        "We create lagged returns with respect to first and last price per bar for each the past 10 minutes:"
      ]
    },
    {
      "cell_type": "code",
      "execution_count": null,
      "metadata": {
        "ExecuteTime": {
          "end_time": "2021-01-20T01:11:02.304471Z",
          "start_time": "2021-01-20T01:11:02.175299Z"
        },
        "id": "smClLbTGDKg6"
      },
      "outputs": [],
      "source": [
        "data[f'ret1min'] = df['last'].div(df['first']).sub(1)"
      ]
    },
    {
      "cell_type": "markdown",
      "metadata": {
        "id": "tVXYaY-qDKg7"
      },
      "source": [
        "1-min returns have rather heavy tails:"
      ]
    },
    {
      "cell_type": "code",
      "execution_count": null,
      "metadata": {
        "ExecuteTime": {
          "end_time": "2021-01-20T01:11:03.715747Z",
          "start_time": "2021-01-20T01:11:02.305522Z"
        },
        "id": "zlMYMvJSDKg7"
      },
      "outputs": [],
      "source": [
        "sns.kdeplot(data.ret1min.sample(n=100000));"
      ]
    },
    {
      "cell_type": "code",
      "execution_count": null,
      "metadata": {
        "ExecuteTime": {
          "end_time": "2021-01-20T01:11:05.023016Z",
          "start_time": "2021-01-20T01:11:03.716935Z"
        },
        "id": "WSl6hLo4DKg7"
      },
      "outputs": [],
      "source": [
        "data.ret1min.describe(percentiles=np.arange(.1, 1, .1)).iloc[1:].apply(lambda x: f'{x:.3%}')"
      ]
    },
    {
      "cell_type": "code",
      "execution_count": null,
      "metadata": {
        "ExecuteTime": {
          "end_time": "2021-01-20T01:11:05.509529Z",
          "start_time": "2021-01-20T01:11:05.024093Z"
        },
        "id": "f4LwEqWQDKg7"
      },
      "outputs": [],
      "source": [
        "print(f'Skew: {data.ret1min.skew():.2f} | Kurtosis: {data.ret1min.kurtosis():.2f}')"
      ]
    },
    {
      "cell_type": "markdown",
      "metadata": {
        "id": "Ic6AwnolDKg7"
      },
      "source": [
        "Intra-bar price moves with the highest returns:"
      ]
    },
    {
      "cell_type": "code",
      "execution_count": null,
      "metadata": {
        "ExecuteTime": {
          "end_time": "2021-01-20T01:11:09.688204Z",
          "start_time": "2021-01-20T01:11:05.510441Z"
        },
        "id": "zar2RvtNDKg7"
      },
      "outputs": [],
      "source": [
        "data.join(df[['first', 'last']]).nlargest(10, columns=['ret1min'])"
      ]
    },
    {
      "cell_type": "markdown",
      "metadata": {
        "id": "FNxbybHKDKg7"
      },
      "source": [
        "We compute similarly for the remaining periods:"
      ]
    },
    {
      "cell_type": "code",
      "execution_count": null,
      "metadata": {
        "ExecuteTime": {
          "end_time": "2021-01-20T01:11:29.888488Z",
          "start_time": "2021-01-20T01:11:09.689224Z"
        },
        "id": "PwJR33SdDKg8"
      },
      "outputs": [],
      "source": [
        "for t in tqdm(range(2, 11)):\n",
        "    data[f'ret{t}min'] = df['last'].div(by_ticker_date['first'].shift(t-1)).sub(1)"
      ]
    },
    {
      "cell_type": "markdown",
      "metadata": {
        "id": "1lG-r3gMDKg8"
      },
      "source": [
        "### Forward Returns"
      ]
    },
    {
      "cell_type": "markdown",
      "metadata": {
        "id": "JWw9spmyDKg8"
      },
      "source": [
        "We obtain our 1-min forward return target by shifting the one-period return by one minute into the past (which implies the assumption that we always enter and exit a position at those prices, also ignoring trading cost and potential market impact):"
      ]
    },
    {
      "cell_type": "code",
      "execution_count": null,
      "metadata": {
        "ExecuteTime": {
          "end_time": "2021-01-20T01:11:38.252695Z",
          "start_time": "2021-01-20T01:11:29.889828Z"
        },
        "id": "H407Za2RDKg8"
      },
      "outputs": [],
      "source": [
        "data['fwd1min'] = (data\n",
        "                   .sort_index()\n",
        "                   .groupby(['ticker', 'date'])\n",
        "                   .ret1min\n",
        "                   .shift(-1))"
      ]
    },
    {
      "cell_type": "code",
      "execution_count": null,
      "metadata": {
        "ExecuteTime": {
          "end_time": "2021-01-20T01:11:40.237588Z",
          "start_time": "2021-01-20T01:11:38.253634Z"
        },
        "id": "l3_x5-wcDKg8"
      },
      "outputs": [],
      "source": [
        "data = data.dropna(subset=['fwd1min'])"
      ]
    },
    {
      "cell_type": "code",
      "execution_count": null,
      "metadata": {
        "ExecuteTime": {
          "end_time": "2021-01-20T01:11:41.059317Z",
          "start_time": "2021-01-20T01:11:40.238638Z"
        },
        "id": "giFwd13dDKg8"
      },
      "outputs": [],
      "source": [
        "data.info(show_counts=True)"
      ]
    },
    {
      "cell_type": "markdown",
      "metadata": {
        "id": "1TvQsFvdDKg8"
      },
      "source": [
        "### Normalized up/downtick volume"
      ]
    },
    {
      "cell_type": "code",
      "execution_count": null,
      "metadata": {
        "ExecuteTime": {
          "end_time": "2021-01-20T01:14:31.900039Z",
          "start_time": "2021-01-20T01:11:41.060317Z"
        },
        "id": "KXfbyHIiDKg8"
      },
      "outputs": [],
      "source": [
        "for f in ['up', 'down', 'rup', 'rdown']:\n",
        "    data[f] = df.loc[:, f].div(df.volume).replace(np.inf, np.nan)"
      ]
    },
    {
      "cell_type": "code",
      "execution_count": null,
      "metadata": {
        "ExecuteTime": {
          "end_time": "2021-01-20T01:14:40.991354Z",
          "start_time": "2021-01-20T01:14:31.900947Z"
        },
        "id": "VfT8B0u8DKg8"
      },
      "outputs": [],
      "source": [
        "data.loc[:, ['rup', 'up', 'rdown', 'down']].describe(deciles)"
      ]
    },
    {
      "cell_type": "markdown",
      "metadata": {
        "id": "RoIsrh8UDKg8"
      },
      "source": [
        "### Balance of Power"
      ]
    },
    {
      "cell_type": "code",
      "execution_count": null,
      "metadata": {
        "ExecuteTime": {
          "end_time": "2021-01-20T01:15:08.659752Z",
          "start_time": "2021-01-20T01:14:40.992286Z"
        },
        "id": "byDcFWsoDKg8"
      },
      "outputs": [],
      "source": [
        "data['BOP'] = (by_ticker.apply(lambda x: talib.BOP(x['first'],\n",
        "                                                   x.high,\n",
        "                                                   x.low,\n",
        "                                                   x['last'])))"
      ]
    },
    {
      "cell_type": "markdown",
      "metadata": {
        "id": "AmXZZeHHDKg8"
      },
      "source": [
        "###  Commodity Channel Index"
      ]
    },
    {
      "cell_type": "code",
      "execution_count": null,
      "metadata": {
        "ExecuteTime": {
          "end_time": "2021-01-20T01:15:40.860709Z",
          "start_time": "2021-01-20T01:15:08.661044Z"
        },
        "id": "OPRdmBwCDKg8"
      },
      "outputs": [],
      "source": [
        "data['CCI'] = (by_ticker.apply(lambda x: talib.CCI(x.high,\n",
        "                                          x.low,\n",
        "                                          x['last'],\n",
        "                                          timeperiod=14)))"
      ]
    },
    {
      "cell_type": "markdown",
      "metadata": {
        "id": "izAn9orUDKg8"
      },
      "source": [
        "### Money Flow Index"
      ]
    },
    {
      "cell_type": "code",
      "execution_count": null,
      "metadata": {
        "ExecuteTime": {
          "end_time": "2021-01-20T01:16:13.276922Z",
          "start_time": "2021-01-20T01:15:40.861641Z"
        },
        "id": "OUiE0jo2DKg8"
      },
      "outputs": [],
      "source": [
        "data['MFI'] = (by_ticker.apply(lambda x: talib.MFI(x.high,\n",
        "                                          x.low,\n",
        "                                          x['last'],\n",
        "                                          x.volume,\n",
        "                                          timeperiod=14)))"
      ]
    },
    {
      "cell_type": "code",
      "execution_count": null,
      "metadata": {
        "ExecuteTime": {
          "end_time": "2021-01-20T01:16:20.871800Z",
          "start_time": "2021-01-20T01:16:13.278140Z"
        },
        "id": "J3-NNwnODKg8"
      },
      "outputs": [],
      "source": [
        "data[['BOP', 'CCI', 'MFI']].describe(deciles)"
      ]
    },
    {
      "cell_type": "markdown",
      "metadata": {
        "id": "Tu_v9BGpDKg8"
      },
      "source": [
        "### Stochastic RSI"
      ]
    },
    {
      "cell_type": "code",
      "execution_count": null,
      "metadata": {
        "ExecuteTime": {
          "end_time": "2021-01-20T01:16:53.792314Z",
          "start_time": "2021-01-20T01:16:20.872801Z"
        },
        "id": "IRc873O0DKg8"
      },
      "outputs": [],
      "source": [
        "data['STOCHRSI'] = (by_ticker.apply(lambda x: talib.STOCHRSI(x['last'].ffill(),\n",
        "                                                             timeperiod=14,\n",
        "                                                             fastk_period=14,\n",
        "                                                             fastd_period=3,\n",
        "                                                             fastd_matype=0)[0]))"
      ]
    },
    {
      "cell_type": "markdown",
      "metadata": {
        "id": "gHkguf5yDKg8"
      },
      "source": [
        "### Stochastic Oscillator"
      ]
    },
    {
      "cell_type": "code",
      "execution_count": null,
      "metadata": {
        "ExecuteTime": {
          "end_time": "2021-01-20T01:16:53.796959Z",
          "start_time": "2021-01-20T01:16:53.793216Z"
        },
        "id": "Zs0fYIMNDKg8"
      },
      "outputs": [],
      "source": [
        "def compute_stoch(x, fastk_period=14, slowk_period=3, slowk_matype=0, slowd_period=3, slowd_matype=0):\n",
        "    slowk, slowd = talib.STOCH(x.high.ffill(), x.low.ffill(), x['last'].ffill(),\n",
        "                               fastk_period=fastk_period,\n",
        "                               slowk_period=slowk_period,\n",
        "                               slowk_matype=slowk_matype,\n",
        "                               slowd_period=slowd_period,\n",
        "                               slowd_matype=slowd_matype)\n",
        "    return pd.DataFrame({'slowd': slowd,\n",
        "                         'slowk': slowk},\n",
        "                        index=x.index)"
      ]
    },
    {
      "cell_type": "code",
      "execution_count": null,
      "metadata": {
        "ExecuteTime": {
          "end_time": "2021-01-20T01:18:47.548905Z",
          "start_time": "2021-01-20T01:16:53.798363Z"
        },
        "id": "TDDWPVhXDKg9"
      },
      "outputs": [],
      "source": [
        "data = data.join(by_ticker.apply(compute_stoch))"
      ]
    },
    {
      "cell_type": "markdown",
      "metadata": {
        "id": "TVU8fNIDDKg9"
      },
      "source": [
        "### Average True Range"
      ]
    },
    {
      "cell_type": "code",
      "execution_count": null,
      "metadata": {
        "ExecuteTime": {
          "end_time": "2021-01-20T01:19:19.579945Z",
          "start_time": "2021-01-20T01:18:47.549900Z"
        },
        "id": "EjTbZynUDKg9"
      },
      "outputs": [],
      "source": [
        "data['NATR'] = by_ticker.apply(lambda x: talib.NATR(x.high.ffill(),\n",
        "                                                    x.low.ffill(),\n",
        "                                                    x['last'].ffill()))"
      ]
    },
    {
      "cell_type": "markdown",
      "metadata": {
        "id": "IDcfB6UUDKg9"
      },
      "source": [
        "### Transaction Volume by price point"
      ]
    },
    {
      "cell_type": "code",
      "execution_count": null,
      "metadata": {
        "ExecuteTime": {
          "end_time": "2021-01-20T01:19:38.071315Z",
          "start_time": "2021-01-20T01:19:19.580885Z"
        },
        "id": "p9RJve0_DKg9"
      },
      "outputs": [],
      "source": [
        "data['trades_bid_ask'] = df.atask.sub(df.atbid).div(df.volume).replace((np.inf, -np.inf), np.nan)"
      ]
    },
    {
      "cell_type": "code",
      "execution_count": null,
      "metadata": {
        "ExecuteTime": {
          "end_time": "2021-01-20T01:19:38.123711Z",
          "start_time": "2021-01-20T01:19:38.072197Z"
        },
        "id": "48ZTh6cDDKg9"
      },
      "outputs": [],
      "source": [
        "# del df"
      ]
    },
    {
      "cell_type": "code",
      "execution_count": null,
      "metadata": {
        "ExecuteTime": {
          "end_time": "2021-01-20T01:19:39.129372Z",
          "start_time": "2021-01-20T01:19:38.124661Z"
        },
        "id": "MdWqKaKxDKg9"
      },
      "outputs": [],
      "source": [
        "data.info(show_counts=True)"
      ]
    },
    {
      "cell_type": "markdown",
      "metadata": {
        "id": "1mVp0sfrDKg9"
      },
      "source": [
        "### Evaluate features"
      ]
    },
    {
      "cell_type": "code",
      "execution_count": null,
      "metadata": {
        "ExecuteTime": {
          "end_time": "2021-01-20T01:33:21.260575Z",
          "start_time": "2021-01-20T01:33:21.254077Z"
        },
        "id": "Ns-8URNkDKg9"
      },
      "outputs": [],
      "source": [
        "features = ['ret1min', 'ret2min', 'ret3min', 'ret4min', 'ret5min',\n",
        "            'ret6min', 'ret7min', 'ret8min', 'ret9min', 'ret10min',\n",
        "            'rup', 'up', 'down', 'rdown', 'BOP', 'CCI', 'MFI', 'STOCHRSI',\n",
        "            'slowk', 'slowd', 'trades_bid_ask']"
      ]
    },
    {
      "cell_type": "code",
      "execution_count": null,
      "metadata": {
        "id": "RchH4Ua0DKg-"
      },
      "outputs": [],
      "source": [
        "sample = data.sample(n=100000)"
      ]
    },
    {
      "cell_type": "code",
      "execution_count": null,
      "metadata": {
        "ExecuteTime": {
          "end_time": "2021-01-20T01:36:43.324658Z",
          "start_time": "2021-01-20T01:36:33.616959Z"
        },
        "id": "CjnNDHHEDKg-"
      },
      "outputs": [],
      "source": [
        "fig, axes = plt.subplots(nrows=3, ncols=7, figsize=(30, 12))\n",
        "axes = axes.flatten()\n",
        "\n",
        "for i, feature in enumerate(features):\n",
        "    sns.distplot(sample[feature], ax=axes[i])\n",
        "    axes[i].set_title(feature.upper())\n",
        "\n",
        "sns.despine()\n",
        "fig.tight_layout()"
      ]
    },
    {
      "cell_type": "code",
      "execution_count": null,
      "metadata": {
        "ExecuteTime": {
          "end_time": "2021-01-20T01:19:47.292886Z",
          "start_time": "2021-01-20T01:19:39.133687Z"
        },
        "id": "3-NizjNHDKg-"
      },
      "outputs": [],
      "source": [
        "sns.pairplot(sample, y_vars=['fwd1min'], x_vars=features);"
      ]
    },
    {
      "cell_type": "code",
      "execution_count": null,
      "metadata": {
        "ExecuteTime": {
          "end_time": "2021-01-20T01:32:09.862694Z",
          "start_time": "2021-01-20T01:32:07.541788Z"
        },
        "id": "4Je0v3o4DKg-"
      },
      "outputs": [],
      "source": [
        "corr = sample.loc[:, features].corr()\n",
        "sns.clustermap(corr, cmap = sns.diverging_palette(20, 230, as_cmap=True),\n",
        "              center=0, vmin=-.25);"
      ]
    },
    {
      "cell_type": "code",
      "execution_count": null,
      "metadata": {
        "ExecuteTime": {
          "end_time": "2021-01-20T01:24:31.542206Z",
          "start_time": "2021-01-20T01:19:47.293886Z"
        },
        "id": "tk0gU0qADKg-"
      },
      "outputs": [],
      "source": [
        "ic = {}\n",
        "for feature in tqdm(features):\n",
        "    df = data[['fwd1min', feature]].dropna()\n",
        "    by_day = df.groupby(df.index.get_level_values('date_time').date) # calc per min is very time-consuming\n",
        "    ic[feature] = by_day.apply(lambda x: spearmanr(x.fwd1min, x[feature])[0]).mean()\n",
        "ic = pd.Series(ic)"
      ]
    },
    {
      "cell_type": "code",
      "execution_count": null,
      "metadata": {
        "ExecuteTime": {
          "end_time": "2021-01-20T01:24:31.548273Z",
          "start_time": "2021-01-20T01:24:31.543301Z"
        },
        "scrolled": false,
        "id": "BWYGm8oPDKg-"
      },
      "outputs": [],
      "source": [
        "ic.sort_values()"
      ]
    },
    {
      "cell_type": "code",
      "execution_count": null,
      "metadata": {
        "ExecuteTime": {
          "end_time": "2021-01-20T01:24:31.817830Z",
          "start_time": "2021-01-20T01:24:31.550903Z"
        },
        "id": "Lp9FWSWRDKg-"
      },
      "outputs": [],
      "source": [
        "title = 'Information Coeficient for Intraday Features (1-min forward returns)'\n",
        "ic.index = ic.index.map(str.upper)\n",
        "ax = ic.sort_values(ascending=False).plot.bar(figsize=(14, 4), title=title, rot=35)\n",
        "ax.set_ylabel('Information Coefficient')\n",
        "ax.yaxis.set_major_formatter(FuncFormatter(lambda y, _: '{:.1%}'.format(y)))\n",
        "sns.despine()\n",
        "plt.tight_layout();"
      ]
    },
    {
      "cell_type": "markdown",
      "metadata": {
        "id": "lTDRK93GDKg_"
      },
      "source": [
        "### Store results"
      ]
    },
    {
      "cell_type": "code",
      "execution_count": null,
      "metadata": {
        "ExecuteTime": {
          "end_time": "2021-01-20T01:24:32.789106Z",
          "start_time": "2021-01-20T01:24:31.818814Z"
        },
        "id": "vdBj7_L1DKg_"
      },
      "outputs": [],
      "source": [
        "data.info(show_counts=True)"
      ]
    },
    {
      "cell_type": "code",
      "execution_count": null,
      "metadata": {
        "ExecuteTime": {
          "end_time": "2021-01-20T01:24:42.993197Z",
          "start_time": "2021-01-20T01:24:32.790098Z"
        },
        "id": "nfmIjJz8DKg_"
      },
      "outputs": [],
      "source": [
        "data.drop(['date', 'up', 'down'], axis=1).to_hdf(algoseek_path, 'model_data')"
      ]
    }
  ],
  "metadata": {
    "kernelspec": {
      "display_name": "Python 3",
      "language": "python",
      "name": "python3"
    },
    "language_info": {
      "codemirror_mode": {
        "name": "ipython",
        "version": 3
      },
      "file_extension": ".py",
      "mimetype": "text/x-python",
      "name": "python",
      "nbconvert_exporter": "python",
      "pygments_lexer": "ipython3",
      "version": "3.8.8"
    },
    "toc": {
      "base_numbering": 1,
      "nav_menu": {},
      "number_sections": true,
      "sideBar": true,
      "skip_h1_title": true,
      "title_cell": "Table of Contents",
      "title_sidebar": "Contents",
      "toc_cell": false,
      "toc_position": {},
      "toc_section_display": true,
      "toc_window_display": true
    },
    "colab": {
      "provenance": [],
      "machine_shape": "hm",
      "include_colab_link": true
    }
  },
  "nbformat": 4,
  "nbformat_minor": 0
}