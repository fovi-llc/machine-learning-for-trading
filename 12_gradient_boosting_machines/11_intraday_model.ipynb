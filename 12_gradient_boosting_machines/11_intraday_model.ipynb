{
 "cells": [
  {
   "cell_type": "markdown",
   "metadata": {},
   "source": [
    "# Intraday Strategy, Part 2: Model Training & Signal Evaluation"
   ]
  },
  {
   "cell_type": "markdown",
   "metadata": {},
   "source": [
    "In this notebook, we load the high-quality NASDAQ100 minute-bar trade-and-quote data generously provided by [Algoseek](https://www.algoseek.com/) (available [here](https://www.algoseek.com/ml4t-book-data.html)) and use the features engineered in the last notebook to train gradient boosting model that predicts the returns for the NASDAQ100 stocks over the next 1-minute bar. \n",
    "\n",
    "> Note that we will assume throughout that we can always buy (sell) at the first (last) trade price for a given bar at no cost and without market impact. This does certainly not reflect market reality, and is rather due to the challenges of simulating a trading strategy at this much higher intraday frequency in a realistic manner using open-source tools.\n",
    "\n",
    "Note also that this section has slightly changed from the version published in the book to permit replication using the Algoseek data sample."
   ]
  },
  {
   "cell_type": "code",
   "execution_count": 26,
   "metadata": {},
   "outputs": [
    {
     "name": "stdout",
     "output_type": "stream",
     "text": [
      "\n",
      "Usage:   \n",
      "  /home/jim/.cache/uv/archive-v0/aWg7grEuJ9_NpgJY_Vt8J/bin/python -m pip install [options] <requirement specifier> [package-index-options] ...\n",
      "  /home/jim/.cache/uv/archive-v0/aWg7grEuJ9_NpgJY_Vt8J/bin/python -m pip install [options] -r <requirements file> [package-index-options] ...\n",
      "  /home/jim/.cache/uv/archive-v0/aWg7grEuJ9_NpgJY_Vt8J/bin/python -m pip install [options] [-e] <vcs project url> ...\n",
      "  /home/jim/.cache/uv/archive-v0/aWg7grEuJ9_NpgJY_Vt8J/bin/python -m pip install [options] [-e] <local project path> ...\n",
      "  /home/jim/.cache/uv/archive-v0/aWg7grEuJ9_NpgJY_Vt8J/bin/python -m pip install [options] <archive url/path> ...\n",
      "\n",
      "no such option: --install-option\n",
      "Note: you may need to restart the kernel to use updated packages.\n"
     ]
    }
   ],
   "source": [
    "%sudo apt install cmake\n",
    "%pip install \"lightgbm==3.3.5\" --no-binary lightgbm --config-setting=cmake.define.USE_CUDA=ON \n",
    "%pip install tables"
   ]
  },
  {
   "cell_type": "code",
   "execution_count": null,
   "metadata": {},
   "outputs": [],
   "source": [
    "# https://docs.cupy.dev/en/stable/install.html#installing-cupy\n",
    "%pip install cupy-cuda12x"
   ]
  },
  {
   "cell_type": "code",
   "execution_count": 1,
   "metadata": {},
   "outputs": [],
   "source": [
    "%load_ext cython"
   ]
  },
  {
   "cell_type": "markdown",
   "metadata": {},
   "source": [
    "## Imports & Settings"
   ]
  },
  {
   "cell_type": "code",
   "execution_count": 1,
   "metadata": {
    "ExecuteTime": {
     "end_time": "2021-01-20T05:06:12.793759Z",
     "start_time": "2021-01-20T05:06:12.791425Z"
    }
   },
   "outputs": [],
   "source": [
    "import warnings\n",
    "warnings.filterwarnings('ignore')"
   ]
  },
  {
   "cell_type": "code",
   "execution_count": 2,
   "metadata": {
    "ExecuteTime": {
     "end_time": "2021-01-20T05:06:13.496235Z",
     "start_time": "2021-01-20T05:06:12.795057Z"
    }
   },
   "outputs": [],
   "source": [
    "%matplotlib inline\n",
    "\n",
    "import sys, os\n",
    "from pathlib import Path\n",
    "from time import time\n",
    "from tqdm import tqdm\n",
    "\n",
    "import numpy as np\n",
    "import pandas as pd\n",
    "\n",
    "import lightgbm as lgb\n",
    "\n",
    "import matplotlib.pyplot as plt\n",
    "from matplotlib.ticker import FuncFormatter\n",
    "import seaborn as sns"
   ]
  },
  {
   "cell_type": "code",
   "execution_count": 3,
   "metadata": {
    "ExecuteTime": {
     "end_time": "2021-01-20T05:06:13.499714Z",
     "start_time": "2021-01-20T05:06:13.497313Z"
    }
   },
   "outputs": [],
   "source": [
    "def format_time(t):\n",
    "    \"\"\"Return a formatted time string 'HH:MM:SS\n",
    "    based on a numeric time() value\"\"\"\n",
    "    m, s = divmod(t, 60)\n",
    "    h, m = divmod(m, 60)\n",
    "    return f'{h:0>2.0f}:{m:0>2.0f}:{s:0>2.0f}'"
   ]
  },
  {
   "cell_type": "code",
   "execution_count": 4,
   "metadata": {
    "ExecuteTime": {
     "end_time": "2021-01-20T17:54:54.604886Z",
     "start_time": "2021-01-20T17:54:54.602867Z"
    }
   },
   "outputs": [],
   "source": [
    "sns.set_style('whitegrid')\n",
    "idx = pd.IndexSlice\n",
    "deciles = np.arange(.1, 1, .1)"
   ]
  },
  {
   "cell_type": "code",
   "execution_count": 5,
   "metadata": {
    "ExecuteTime": {
     "end_time": "2021-01-20T05:06:13.517935Z",
     "start_time": "2021-01-20T05:06:13.510733Z"
    }
   },
   "outputs": [],
   "source": [
    "# where we stored the features engineered in the previous notebook\n",
    "data_store = '../data/nasdaq100/algoseek.h5'"
   ]
  },
  {
   "cell_type": "code",
   "execution_count": 6,
   "metadata": {
    "ExecuteTime": {
     "end_time": "2021-01-20T05:06:13.526099Z",
     "start_time": "2021-01-20T05:06:13.519257Z"
    }
   },
   "outputs": [],
   "source": [
    "# where we'll store the model results\n",
    "result_store = 'results/intra_day.h5'"
   ]
  },
  {
   "cell_type": "code",
   "execution_count": 7,
   "metadata": {
    "ExecuteTime": {
     "end_time": "2021-01-20T05:06:13.534318Z",
     "start_time": "2021-01-20T05:06:13.528377Z"
    }
   },
   "outputs": [],
   "source": [
    "# here we save the trained models\n",
    "model_path = Path('models/intraday')\n",
    "if not model_path.exists():\n",
    "    model_path.mkdir(parents=True)"
   ]
  },
  {
   "cell_type": "markdown",
   "metadata": {},
   "source": [
    "## Load Model Data"
   ]
  },
  {
   "cell_type": "code",
   "execution_count": 8,
   "metadata": {
    "ExecuteTime": {
     "end_time": "2021-01-20T05:06:22.192145Z",
     "start_time": "2021-01-20T05:06:13.535527Z"
    }
   },
   "outputs": [],
   "source": [
    "data = pd.read_hdf(data_store, 'model_data')"
   ]
  },
  {
   "cell_type": "code",
   "execution_count": 9,
   "metadata": {
    "ExecuteTime": {
     "end_time": "2021-01-20T05:06:23.416212Z",
     "start_time": "2021-01-20T05:06:22.193256Z"
    }
   },
   "outputs": [
    {
     "name": "stdout",
     "output_type": "stream",
     "text": [
      "<class 'pandas.core.frame.DataFrame'>\n",
      "MultiIndex: 30875649 entries, ('AAL', Timestamp('2015-01-02 09:30:00')) to ('YHOO', Timestamp('2017-06-16 15:59:00'))\n",
      "Data columns (total 22 columns):\n",
      " #   Column          Non-Null Count     Dtype  \n",
      "---  ------          --------------     -----  \n",
      " 0   minute          30875649 non-null  int64  \n",
      " 1   ret1min         30612848 non-null  float64\n",
      " 2   ret2min         30302846 non-null  float64\n",
      " 3   ret3min         30220887 non-null  float64\n",
      " 4   ret4min         30141503 non-null  float64\n",
      " 5   ret5min         30063236 non-null  float64\n",
      " 6   ret6min         29983969 non-null  float64\n",
      " 7   ret7min         29903822 non-null  float64\n",
      " 8   ret8min         29824607 non-null  float64\n",
      " 9   ret9min         29745431 non-null  float64\n",
      " 10  ret10min        29666821 non-null  float64\n",
      " 11  fwd1min         30875649 non-null  float64\n",
      " 12  rup             30083777 non-null  float64\n",
      " 13  rdown           30083777 non-null  float64\n",
      " 14  BOP             30612848 non-null  float64\n",
      " 15  CCI             28517773 non-null  float64\n",
      " 16  MFI             30873719 non-null  float64\n",
      " 17  STOCHRSI        30871639 non-null  float64\n",
      " 18  slowd           30873302 non-null  float64\n",
      " 19  slowk           30873302 non-null  float64\n",
      " 20  NATR            30873719 non-null  float64\n",
      " 21  trades_bid_ask  30083777 non-null  float64\n",
      "dtypes: float64(21), int64(1)\n",
      "memory usage: 5.2+ GB\n"
     ]
    }
   ],
   "source": [
    "data.info(show_counts=True)"
   ]
  },
  {
   "cell_type": "code",
   "execution_count": 10,
   "metadata": {
    "ExecuteTime": {
     "end_time": "2021-01-20T05:06:27.993134Z",
     "start_time": "2021-01-20T05:06:23.417369Z"
    }
   },
   "outputs": [
    {
     "data": {
      "text/html": [
       "<div>\n",
       "<style scoped>\n",
       "    .dataframe tbody tr th:only-of-type {\n",
       "        vertical-align: middle;\n",
       "    }\n",
       "\n",
       "    .dataframe tbody tr th {\n",
       "        vertical-align: top;\n",
       "    }\n",
       "\n",
       "    .dataframe thead th {\n",
       "        text-align: right;\n",
       "    }\n",
       "</style>\n",
       "<table border=\"1\" class=\"dataframe\">\n",
       "  <thead>\n",
       "    <tr style=\"text-align: right;\">\n",
       "      <th></th>\n",
       "      <th>minute</th>\n",
       "      <th>ret1min</th>\n",
       "      <th>ret2min</th>\n",
       "      <th>ret3min</th>\n",
       "      <th>ret4min</th>\n",
       "      <th>ret5min</th>\n",
       "      <th>ret6min</th>\n",
       "      <th>ret7min</th>\n",
       "      <th>ret8min</th>\n",
       "      <th>ret9min</th>\n",
       "      <th>...</th>\n",
       "      <th>rup</th>\n",
       "      <th>rdown</th>\n",
       "      <th>BOP</th>\n",
       "      <th>CCI</th>\n",
       "      <th>MFI</th>\n",
       "      <th>STOCHRSI</th>\n",
       "      <th>slowd</th>\n",
       "      <th>slowk</th>\n",
       "      <th>NATR</th>\n",
       "      <th>trades_bid_ask</th>\n",
       "    </tr>\n",
       "  </thead>\n",
       "  <tbody>\n",
       "    <tr>\n",
       "      <th>count</th>\n",
       "      <td>3.087565e+06</td>\n",
       "      <td>3.061362e+06</td>\n",
       "      <td>3.030188e+06</td>\n",
       "      <td>3.022019e+06</td>\n",
       "      <td>3.014197e+06</td>\n",
       "      <td>3.006300e+06</td>\n",
       "      <td>2.998519e+06</td>\n",
       "      <td>2.990312e+06</td>\n",
       "      <td>2.982506e+06</td>\n",
       "      <td>2.974622e+06</td>\n",
       "      <td>...</td>\n",
       "      <td>3.008589e+06</td>\n",
       "      <td>3.008589e+06</td>\n",
       "      <td>3.061362e+06</td>\n",
       "      <td>2.851899e+06</td>\n",
       "      <td>3.087384e+06</td>\n",
       "      <td>3.087191e+06</td>\n",
       "      <td>3.087349e+06</td>\n",
       "      <td>3.087349e+06</td>\n",
       "      <td>3.087384e+06</td>\n",
       "      <td>3.008589e+06</td>\n",
       "    </tr>\n",
       "    <tr>\n",
       "      <th>mean</th>\n",
       "      <td>1.944889e+02</td>\n",
       "      <td>-1.887610e-06</td>\n",
       "      <td>-8.065035e-07</td>\n",
       "      <td>-3.297842e-07</td>\n",
       "      <td>-4.814377e-07</td>\n",
       "      <td>6.583596e-07</td>\n",
       "      <td>1.191438e-06</td>\n",
       "      <td>1.954482e-06</td>\n",
       "      <td>2.060055e-06</td>\n",
       "      <td>3.576109e-06</td>\n",
       "      <td>...</td>\n",
       "      <td>5.227384e-01</td>\n",
       "      <td>5.130955e-01</td>\n",
       "      <td>-1.655015e-03</td>\n",
       "      <td>3.004653e-01</td>\n",
       "      <td>4.996978e+01</td>\n",
       "      <td>5.001287e+01</td>\n",
       "      <td>5.029402e+01</td>\n",
       "      <td>5.029088e+01</td>\n",
       "      <td>9.570635e-02</td>\n",
       "      <td>-3.983051e-02</td>\n",
       "    </tr>\n",
       "    <tr>\n",
       "      <th>std</th>\n",
       "      <td>1.127687e+02</td>\n",
       "      <td>8.402842e-04</td>\n",
       "      <td>1.137302e-03</td>\n",
       "      <td>1.364995e-03</td>\n",
       "      <td>1.549582e-03</td>\n",
       "      <td>1.711209e-03</td>\n",
       "      <td>1.856188e-03</td>\n",
       "      <td>1.991086e-03</td>\n",
       "      <td>2.108870e-03</td>\n",
       "      <td>2.230834e-03</td>\n",
       "      <td>...</td>\n",
       "      <td>2.346806e+01</td>\n",
       "      <td>1.366348e+01</td>\n",
       "      <td>6.262360e-01</td>\n",
       "      <td>1.089129e+02</td>\n",
       "      <td>1.968310e+01</td>\n",
       "      <td>3.549217e+01</td>\n",
       "      <td>2.770684e+01</td>\n",
       "      <td>2.860364e+01</td>\n",
       "      <td>7.491701e-02</td>\n",
       "      <td>3.371447e+01</td>\n",
       "    </tr>\n",
       "    <tr>\n",
       "      <th>min</th>\n",
       "      <td>0.000000e+00</td>\n",
       "      <td>-1.065409e-01</td>\n",
       "      <td>-1.357125e-01</td>\n",
       "      <td>-1.090065e-01</td>\n",
       "      <td>-1.209821e-01</td>\n",
       "      <td>-1.295314e-01</td>\n",
       "      <td>-1.674419e-01</td>\n",
       "      <td>-2.063684e-01</td>\n",
       "      <td>-2.114537e-01</td>\n",
       "      <td>-2.368217e-01</td>\n",
       "      <td>...</td>\n",
       "      <td>0.000000e+00</td>\n",
       "      <td>0.000000e+00</td>\n",
       "      <td>-1.000000e+00</td>\n",
       "      <td>-4.666667e+02</td>\n",
       "      <td>-1.116565e-06</td>\n",
       "      <td>0.000000e+00</td>\n",
       "      <td>-5.626709e-12</td>\n",
       "      <td>-5.082749e-12</td>\n",
       "      <td>1.457662e-07</td>\n",
       "      <td>-3.749900e+04</td>\n",
       "    </tr>\n",
       "    <tr>\n",
       "      <th>10%</th>\n",
       "      <td>3.800000e+01</td>\n",
       "      <td>-7.465472e-04</td>\n",
       "      <td>-1.046987e-03</td>\n",
       "      <td>-1.267427e-03</td>\n",
       "      <td>-1.452855e-03</td>\n",
       "      <td>-1.611665e-03</td>\n",
       "      <td>-1.758352e-03</td>\n",
       "      <td>-1.893561e-03</td>\n",
       "      <td>-2.022180e-03</td>\n",
       "      <td>-2.134069e-03</td>\n",
       "      <td>...</td>\n",
       "      <td>0.000000e+00</td>\n",
       "      <td>0.000000e+00</td>\n",
       "      <td>-9.000000e-01</td>\n",
       "      <td>-1.376849e+02</td>\n",
       "      <td>2.396122e+01</td>\n",
       "      <td>0.000000e+00</td>\n",
       "      <td>1.251537e+01</td>\n",
       "      <td>1.125000e+01</td>\n",
       "      <td>4.014872e-02</td>\n",
       "      <td>-7.305315e-01</td>\n",
       "    </tr>\n",
       "    <tr>\n",
       "      <th>20%</th>\n",
       "      <td>7.700000e+01</td>\n",
       "      <td>-4.079413e-04</td>\n",
       "      <td>-5.921540e-04</td>\n",
       "      <td>-7.198604e-04</td>\n",
       "      <td>-8.276898e-04</td>\n",
       "      <td>-9.196516e-04</td>\n",
       "      <td>-1.001447e-03</td>\n",
       "      <td>-1.078255e-03</td>\n",
       "      <td>-1.149260e-03</td>\n",
       "      <td>-1.214834e-03</td>\n",
       "      <td>...</td>\n",
       "      <td>9.671180e-02</td>\n",
       "      <td>9.907250e-02</td>\n",
       "      <td>-6.610169e-01</td>\n",
       "      <td>-9.985106e+01</td>\n",
       "      <td>3.242074e+01</td>\n",
       "      <td>9.822256e+00</td>\n",
       "      <td>2.097242e+01</td>\n",
       "      <td>2.000000e+01</td>\n",
       "      <td>4.869510e-02</td>\n",
       "      <td>-4.594821e-01</td>\n",
       "    </tr>\n",
       "    <tr>\n",
       "      <th>30%</th>\n",
       "      <td>1.160000e+02</td>\n",
       "      <td>-2.292001e-04</td>\n",
       "      <td>-3.363869e-04</td>\n",
       "      <td>-4.073320e-04</td>\n",
       "      <td>-4.719207e-04</td>\n",
       "      <td>-5.242006e-04</td>\n",
       "      <td>-5.726557e-04</td>\n",
       "      <td>-6.171570e-04</td>\n",
       "      <td>-6.579349e-04</td>\n",
       "      <td>-6.951686e-04</td>\n",
       "      <td>...</td>\n",
       "      <td>1.981744e-01</td>\n",
       "      <td>2.011529e-01</td>\n",
       "      <td>-4.457649e-01</td>\n",
       "      <td>-6.908105e+01</td>\n",
       "      <td>3.886708e+01</td>\n",
       "      <td>2.371294e+01</td>\n",
       "      <td>3.009259e+01</td>\n",
       "      <td>2.942601e+01</td>\n",
       "      <td>5.663596e-02</td>\n",
       "      <td>-2.769660e-01</td>\n",
       "    </tr>\n",
       "    <tr>\n",
       "      <th>40%</th>\n",
       "      <td>1.550000e+02</td>\n",
       "      <td>-9.559316e-05</td>\n",
       "      <td>-1.547269e-04</td>\n",
       "      <td>-1.857526e-04</td>\n",
       "      <td>-2.147592e-04</td>\n",
       "      <td>-2.382654e-04</td>\n",
       "      <td>-2.584811e-04</td>\n",
       "      <td>-2.798648e-04</td>\n",
       "      <td>-2.994012e-04</td>\n",
       "      <td>-3.157469e-04</td>\n",
       "      <td>...</td>\n",
       "      <td>2.863040e-01</td>\n",
       "      <td>2.913507e-01</td>\n",
       "      <td>-1.800000e-01</td>\n",
       "      <td>-3.692409e+01</td>\n",
       "      <td>4.454042e+01</td>\n",
       "      <td>3.692968e+01</td>\n",
       "      <td>4.000000e+01</td>\n",
       "      <td>3.966623e+01</td>\n",
       "      <td>6.516254e-02</td>\n",
       "      <td>-1.300594e-01</td>\n",
       "    </tr>\n",
       "    <tr>\n",
       "      <th>50%</th>\n",
       "      <td>1.940000e+02</td>\n",
       "      <td>0.000000e+00</td>\n",
       "      <td>0.000000e+00</td>\n",
       "      <td>0.000000e+00</td>\n",
       "      <td>0.000000e+00</td>\n",
       "      <td>0.000000e+00</td>\n",
       "      <td>0.000000e+00</td>\n",
       "      <td>0.000000e+00</td>\n",
       "      <td>0.000000e+00</td>\n",
       "      <td>0.000000e+00</td>\n",
       "      <td>...</td>\n",
       "      <td>3.708041e-01</td>\n",
       "      <td>3.756504e-01</td>\n",
       "      <td>0.000000e+00</td>\n",
       "      <td>7.582775e-01</td>\n",
       "      <td>4.992247e+01</td>\n",
       "      <td>5.005795e+01</td>\n",
       "      <td>5.037037e+01</td>\n",
       "      <td>5.017387e+01</td>\n",
       "      <td>7.511136e-02</td>\n",
       "      <td>0.000000e+00</td>\n",
       "    </tr>\n",
       "    <tr>\n",
       "      <th>60%</th>\n",
       "      <td>2.340000e+02</td>\n",
       "      <td>9.157509e-05</td>\n",
       "      <td>1.513008e-04</td>\n",
       "      <td>1.806358e-04</td>\n",
       "      <td>2.086811e-04</td>\n",
       "      <td>2.333086e-04</td>\n",
       "      <td>2.551020e-04</td>\n",
       "      <td>2.762813e-04</td>\n",
       "      <td>2.967183e-04</td>\n",
       "      <td>3.158873e-04</td>\n",
       "      <td>...</td>\n",
       "      <td>4.586026e-01</td>\n",
       "      <td>4.635415e-01</td>\n",
       "      <td>1.669449e-01</td>\n",
       "      <td>3.808214e+01</td>\n",
       "      <td>5.530285e+01</td>\n",
       "      <td>6.315001e+01</td>\n",
       "      <td>6.077778e+01</td>\n",
       "      <td>6.111111e+01</td>\n",
       "      <td>8.747754e-02</td>\n",
       "      <td>1.045131e-01</td>\n",
       "    </tr>\n",
       "    <tr>\n",
       "      <th>70%</th>\n",
       "      <td>2.730000e+02</td>\n",
       "      <td>2.256318e-04</td>\n",
       "      <td>3.319299e-04</td>\n",
       "      <td>4.021448e-04</td>\n",
       "      <td>4.663144e-04</td>\n",
       "      <td>5.179864e-04</td>\n",
       "      <td>5.679857e-04</td>\n",
       "      <td>6.130259e-04</td>\n",
       "      <td>6.544113e-04</td>\n",
       "      <td>6.962172e-04</td>\n",
       "      <td>...</td>\n",
       "      <td>5.555556e-01</td>\n",
       "      <td>5.596271e-01</td>\n",
       "      <td>4.434907e-01</td>\n",
       "      <td>6.975286e+01</td>\n",
       "      <td>6.099915e+01</td>\n",
       "      <td>7.632350e+01</td>\n",
       "      <td>7.058915e+01</td>\n",
       "      <td>7.127083e+01</td>\n",
       "      <td>1.040511e-01</td>\n",
       "      <td>2.518892e-01</td>\n",
       "    </tr>\n",
       "    <tr>\n",
       "      <th>80%</th>\n",
       "      <td>3.120000e+02</td>\n",
       "      <td>4.033885e-04</td>\n",
       "      <td>5.865103e-04</td>\n",
       "      <td>7.146260e-04</td>\n",
       "      <td>8.204592e-04</td>\n",
       "      <td>9.134627e-04</td>\n",
       "      <td>9.960761e-04</td>\n",
       "      <td>1.074922e-03</td>\n",
       "      <td>1.145850e-03</td>\n",
       "      <td>1.214863e-03</td>\n",
       "      <td>...</td>\n",
       "      <td>6.800000e-01</td>\n",
       "      <td>6.823803e-01</td>\n",
       "      <td>6.550789e-01</td>\n",
       "      <td>9.996249e+01</td>\n",
       "      <td>6.751697e+01</td>\n",
       "      <td>9.017187e+01</td>\n",
       "      <td>7.962202e+01</td>\n",
       "      <td>8.060350e+01</td>\n",
       "      <td>1.289002e-01</td>\n",
       "      <td>4.367032e-01</td>\n",
       "    </tr>\n",
       "    <tr>\n",
       "      <th>90%</th>\n",
       "      <td>3.510000e+02</td>\n",
       "      <td>7.397317e-04</td>\n",
       "      <td>1.042608e-03</td>\n",
       "      <td>1.265557e-03</td>\n",
       "      <td>1.447068e-03</td>\n",
       "      <td>1.609691e-03</td>\n",
       "      <td>1.757469e-03</td>\n",
       "      <td>1.893461e-03</td>\n",
       "      <td>2.017654e-03</td>\n",
       "      <td>2.134746e-03</td>\n",
       "      <td>...</td>\n",
       "      <td>8.667764e-01</td>\n",
       "      <td>8.666667e-01</td>\n",
       "      <td>9.000000e-01</td>\n",
       "      <td>1.376073e+02</td>\n",
       "      <td>7.609930e+01</td>\n",
       "      <td>1.000000e+02</td>\n",
       "      <td>8.790123e+01</td>\n",
       "      <td>8.908189e+01</td>\n",
       "      <td>1.755477e-01</td>\n",
       "      <td>7.094552e-01</td>\n",
       "    </tr>\n",
       "    <tr>\n",
       "      <th>max</th>\n",
       "      <td>3.890000e+02</td>\n",
       "      <td>6.347148e-02</td>\n",
       "      <td>9.052632e-02</td>\n",
       "      <td>1.287625e-01</td>\n",
       "      <td>1.911828e-01</td>\n",
       "      <td>1.065574e-01</td>\n",
       "      <td>1.329428e-01</td>\n",
       "      <td>1.281337e-01</td>\n",
       "      <td>9.958756e-02</td>\n",
       "      <td>1.003439e-01</td>\n",
       "      <td>...</td>\n",
       "      <td>3.750000e+04</td>\n",
       "      <td>1.946767e+04</td>\n",
       "      <td>1.000000e+00</td>\n",
       "      <td>4.666667e+02</td>\n",
       "      <td>1.000000e+02</td>\n",
       "      <td>1.000000e+02</td>\n",
       "      <td>1.000000e+02</td>\n",
       "      <td>1.000000e+02</td>\n",
       "      <td>2.584559e+01</td>\n",
       "      <td>1.016000e+04</td>\n",
       "    </tr>\n",
       "  </tbody>\n",
       "</table>\n",
       "<p>14 rows × 22 columns</p>\n",
       "</div>"
      ],
      "text/plain": [
       "             minute       ret1min       ret2min       ret3min       ret4min  \\\n",
       "count  3.087565e+06  3.061362e+06  3.030188e+06  3.022019e+06  3.014197e+06   \n",
       "mean   1.944889e+02 -1.887610e-06 -8.065035e-07 -3.297842e-07 -4.814377e-07   \n",
       "std    1.127687e+02  8.402842e-04  1.137302e-03  1.364995e-03  1.549582e-03   \n",
       "min    0.000000e+00 -1.065409e-01 -1.357125e-01 -1.090065e-01 -1.209821e-01   \n",
       "10%    3.800000e+01 -7.465472e-04 -1.046987e-03 -1.267427e-03 -1.452855e-03   \n",
       "20%    7.700000e+01 -4.079413e-04 -5.921540e-04 -7.198604e-04 -8.276898e-04   \n",
       "30%    1.160000e+02 -2.292001e-04 -3.363869e-04 -4.073320e-04 -4.719207e-04   \n",
       "40%    1.550000e+02 -9.559316e-05 -1.547269e-04 -1.857526e-04 -2.147592e-04   \n",
       "50%    1.940000e+02  0.000000e+00  0.000000e+00  0.000000e+00  0.000000e+00   \n",
       "60%    2.340000e+02  9.157509e-05  1.513008e-04  1.806358e-04  2.086811e-04   \n",
       "70%    2.730000e+02  2.256318e-04  3.319299e-04  4.021448e-04  4.663144e-04   \n",
       "80%    3.120000e+02  4.033885e-04  5.865103e-04  7.146260e-04  8.204592e-04   \n",
       "90%    3.510000e+02  7.397317e-04  1.042608e-03  1.265557e-03  1.447068e-03   \n",
       "max    3.890000e+02  6.347148e-02  9.052632e-02  1.287625e-01  1.911828e-01   \n",
       "\n",
       "            ret5min       ret6min       ret7min       ret8min       ret9min  \\\n",
       "count  3.006300e+06  2.998519e+06  2.990312e+06  2.982506e+06  2.974622e+06   \n",
       "mean   6.583596e-07  1.191438e-06  1.954482e-06  2.060055e-06  3.576109e-06   \n",
       "std    1.711209e-03  1.856188e-03  1.991086e-03  2.108870e-03  2.230834e-03   \n",
       "min   -1.295314e-01 -1.674419e-01 -2.063684e-01 -2.114537e-01 -2.368217e-01   \n",
       "10%   -1.611665e-03 -1.758352e-03 -1.893561e-03 -2.022180e-03 -2.134069e-03   \n",
       "20%   -9.196516e-04 -1.001447e-03 -1.078255e-03 -1.149260e-03 -1.214834e-03   \n",
       "30%   -5.242006e-04 -5.726557e-04 -6.171570e-04 -6.579349e-04 -6.951686e-04   \n",
       "40%   -2.382654e-04 -2.584811e-04 -2.798648e-04 -2.994012e-04 -3.157469e-04   \n",
       "50%    0.000000e+00  0.000000e+00  0.000000e+00  0.000000e+00  0.000000e+00   \n",
       "60%    2.333086e-04  2.551020e-04  2.762813e-04  2.967183e-04  3.158873e-04   \n",
       "70%    5.179864e-04  5.679857e-04  6.130259e-04  6.544113e-04  6.962172e-04   \n",
       "80%    9.134627e-04  9.960761e-04  1.074922e-03  1.145850e-03  1.214863e-03   \n",
       "90%    1.609691e-03  1.757469e-03  1.893461e-03  2.017654e-03  2.134746e-03   \n",
       "max    1.065574e-01  1.329428e-01  1.281337e-01  9.958756e-02  1.003439e-01   \n",
       "\n",
       "       ...           rup         rdown           BOP           CCI  \\\n",
       "count  ...  3.008589e+06  3.008589e+06  3.061362e+06  2.851899e+06   \n",
       "mean   ...  5.227384e-01  5.130955e-01 -1.655015e-03  3.004653e-01   \n",
       "std    ...  2.346806e+01  1.366348e+01  6.262360e-01  1.089129e+02   \n",
       "min    ...  0.000000e+00  0.000000e+00 -1.000000e+00 -4.666667e+02   \n",
       "10%    ...  0.000000e+00  0.000000e+00 -9.000000e-01 -1.376849e+02   \n",
       "20%    ...  9.671180e-02  9.907250e-02 -6.610169e-01 -9.985106e+01   \n",
       "30%    ...  1.981744e-01  2.011529e-01 -4.457649e-01 -6.908105e+01   \n",
       "40%    ...  2.863040e-01  2.913507e-01 -1.800000e-01 -3.692409e+01   \n",
       "50%    ...  3.708041e-01  3.756504e-01  0.000000e+00  7.582775e-01   \n",
       "60%    ...  4.586026e-01  4.635415e-01  1.669449e-01  3.808214e+01   \n",
       "70%    ...  5.555556e-01  5.596271e-01  4.434907e-01  6.975286e+01   \n",
       "80%    ...  6.800000e-01  6.823803e-01  6.550789e-01  9.996249e+01   \n",
       "90%    ...  8.667764e-01  8.666667e-01  9.000000e-01  1.376073e+02   \n",
       "max    ...  3.750000e+04  1.946767e+04  1.000000e+00  4.666667e+02   \n",
       "\n",
       "                MFI      STOCHRSI         slowd         slowk          NATR  \\\n",
       "count  3.087384e+06  3.087191e+06  3.087349e+06  3.087349e+06  3.087384e+06   \n",
       "mean   4.996978e+01  5.001287e+01  5.029402e+01  5.029088e+01  9.570635e-02   \n",
       "std    1.968310e+01  3.549217e+01  2.770684e+01  2.860364e+01  7.491701e-02   \n",
       "min   -1.116565e-06  0.000000e+00 -5.626709e-12 -5.082749e-12  1.457662e-07   \n",
       "10%    2.396122e+01  0.000000e+00  1.251537e+01  1.125000e+01  4.014872e-02   \n",
       "20%    3.242074e+01  9.822256e+00  2.097242e+01  2.000000e+01  4.869510e-02   \n",
       "30%    3.886708e+01  2.371294e+01  3.009259e+01  2.942601e+01  5.663596e-02   \n",
       "40%    4.454042e+01  3.692968e+01  4.000000e+01  3.966623e+01  6.516254e-02   \n",
       "50%    4.992247e+01  5.005795e+01  5.037037e+01  5.017387e+01  7.511136e-02   \n",
       "60%    5.530285e+01  6.315001e+01  6.077778e+01  6.111111e+01  8.747754e-02   \n",
       "70%    6.099915e+01  7.632350e+01  7.058915e+01  7.127083e+01  1.040511e-01   \n",
       "80%    6.751697e+01  9.017187e+01  7.962202e+01  8.060350e+01  1.289002e-01   \n",
       "90%    7.609930e+01  1.000000e+02  8.790123e+01  8.908189e+01  1.755477e-01   \n",
       "max    1.000000e+02  1.000000e+02  1.000000e+02  1.000000e+02  2.584559e+01   \n",
       "\n",
       "       trades_bid_ask  \n",
       "count    3.008589e+06  \n",
       "mean    -3.983051e-02  \n",
       "std      3.371447e+01  \n",
       "min     -3.749900e+04  \n",
       "10%     -7.305315e-01  \n",
       "20%     -4.594821e-01  \n",
       "30%     -2.769660e-01  \n",
       "40%     -1.300594e-01  \n",
       "50%      0.000000e+00  \n",
       "60%      1.045131e-01  \n",
       "70%      2.518892e-01  \n",
       "80%      4.367032e-01  \n",
       "90%      7.094552e-01  \n",
       "max      1.016000e+04  \n",
       "\n",
       "[14 rows x 22 columns]"
      ]
     },
     "execution_count": 10,
     "metadata": {},
     "output_type": "execute_result"
    }
   ],
   "source": [
    "data.sample(frac=.1).describe(percentiles=np.arange(.1, 1, .1))"
   ]
  },
  {
   "cell_type": "markdown",
   "metadata": {},
   "source": [
    "## Model Training"
   ]
  },
  {
   "cell_type": "markdown",
   "metadata": {},
   "source": [
    "### Helper functions"
   ]
  },
  {
   "cell_type": "code",
   "execution_count": 11,
   "metadata": {
    "ExecuteTime": {
     "end_time": "2021-01-20T05:06:27.999759Z",
     "start_time": "2021-01-20T05:06:27.994007Z"
    }
   },
   "outputs": [],
   "source": [
    "class MultipleTimeSeriesCV:\n",
    "    \"\"\"Generates tuples of train_idx, test_idx pairs\n",
    "    Assumes the MultiIndex contains levels 'symbol' and 'date'\n",
    "    purges overlapping outcomes\"\"\"\n",
    "\n",
    "    def __init__(self,\n",
    "                 n_splits=3,\n",
    "                 train_period_length=126,\n",
    "                 test_period_length=21,\n",
    "                 lookahead=None,\n",
    "                 date_idx='date',\n",
    "                 shuffle=False):\n",
    "        self.n_splits = n_splits\n",
    "        self.lookahead = lookahead\n",
    "        self.test_length = test_period_length\n",
    "        self.train_length = train_period_length\n",
    "        self.shuffle = shuffle\n",
    "        self.date_idx = date_idx\n",
    "\n",
    "    def split(self, X, y=None, groups=None):\n",
    "        unique_dates = X.index.get_level_values(self.date_idx).unique()\n",
    "        days = sorted(unique_dates, reverse=True)\n",
    "        split_idx = []\n",
    "        for i in range(self.n_splits):\n",
    "            test_end_idx = i * self.test_length\n",
    "            test_start_idx = test_end_idx + self.test_length\n",
    "            train_end_idx = test_start_idx + self.lookahead - 1\n",
    "            train_start_idx = train_end_idx + self.train_length + self.lookahead - 1\n",
    "            split_idx.append([train_start_idx, train_end_idx,\n",
    "                              test_start_idx, test_end_idx])\n",
    "\n",
    "        dates = X.reset_index()[[self.date_idx]]\n",
    "        for train_start, train_end, test_start, test_end in split_idx:\n",
    "\n",
    "            train_idx = dates[(dates[self.date_idx] > days[train_start])\n",
    "                              & (dates[self.date_idx] <= days[train_end])].index\n",
    "            test_idx = dates[(dates[self.date_idx] > days[test_start])\n",
    "                             & (dates[self.date_idx] <= days[test_end])].index\n",
    "            if self.shuffle:\n",
    "                np.random.shuffle(list(train_idx))\n",
    "            yield train_idx.to_numpy(), test_idx.to_numpy()\n",
    "\n",
    "    def get_n_splits(self, X, y, groups=None):\n",
    "        return self.n_splits\n"
   ]
  },
  {
   "cell_type": "code",
   "execution_count": 12,
   "metadata": {
    "ExecuteTime": {
     "end_time": "2021-01-20T05:06:28.012433Z",
     "start_time": "2021-01-20T05:06:28.001098Z"
    }
   },
   "outputs": [],
   "source": [
    "def get_fi(model):\n",
    "    fi = model.feature_importance(importance_type='gain')\n",
    "    return (pd.Series(fi / fi.sum(),\n",
    "                      index=model.feature_name()))"
   ]
  },
  {
   "cell_type": "markdown",
   "metadata": {},
   "source": [
    "### Categorical Variables"
   ]
  },
  {
   "cell_type": "code",
   "execution_count": 13,
   "metadata": {
    "ExecuteTime": {
     "end_time": "2021-01-20T05:06:29.444688Z",
     "start_time": "2021-01-20T05:06:28.013407Z"
    }
   },
   "outputs": [],
   "source": [
    "data['stock_id'] = pd.factorize(data.index.get_level_values('ticker'), sort=True)[0]"
   ]
  },
  {
   "cell_type": "code",
   "execution_count": 14,
   "metadata": {
    "ExecuteTime": {
     "end_time": "2021-01-20T05:06:29.447321Z",
     "start_time": "2021-01-20T05:06:29.445657Z"
    }
   },
   "outputs": [],
   "source": [
    "categoricals = ['stock_id']"
   ]
  },
  {
   "cell_type": "markdown",
   "metadata": {},
   "source": [
    "### Custom Metric"
   ]
  },
  {
   "cell_type": "code",
   "execution_count": 2,
   "metadata": {
    "ExecuteTime": {
     "end_time": "2021-01-20T05:06:29.458526Z",
     "start_time": "2021-01-20T05:06:29.448529Z"
    }
   },
   "outputs": [
    {
     "data": {
      "text/plain": [
       "1"
      ]
     },
     "execution_count": 2,
     "metadata": {},
     "output_type": "execute_result"
    }
   ],
   "source": [
    "import cupy\n",
    "import cupyx.scipy.stats as cupy_stats\n",
    "\n",
    "# This doesn't work because CuPy doesn't have stats.spearmanr, or most other scipy.stats functions.\n",
    "def ic_lgbm(preds, train_data):\n",
    "    \"\"\"Custom IC eval metric for lightgbm\"\"\"\n",
    "    # is_higher_better = True\n",
    "    preds_gpu = cupy.array(preds)\n",
    "    labels_gpu = cupy.array(train_data.get_label())\n",
    "    return 'ic', cpstats.spearmanr(preds_gpu, labels_gpu)[0], True\n",
    "\n",
    "cupy.cuda.runtime.getDeviceCount()"
   ]
  },
  {
   "cell_type": "code",
   "execution_count": 15,
   "metadata": {
    "ExecuteTime": {
     "end_time": "2021-01-20T05:06:29.458526Z",
     "start_time": "2021-01-20T05:06:29.448529Z"
    }
   },
   "outputs": [],
   "source": [
    "from scipy.stats import spearmanr\n",
    "\n",
    "\n",
    "def ic_lgbm(preds: np.ndarray, train_data: np.ndarray):\n",
    "    \"\"\"Custom IC eval metric for lightgbm\"\"\"\n",
    "    return 'ic', spearmanr(preds, train_data.get_label())[0], True # is_higher_better"
   ]
  },
  {
   "cell_type": "code",
   "execution_count": 45,
   "metadata": {
    "ExecuteTime": {
     "end_time": "2021-01-20T05:06:29.458526Z",
     "start_time": "2021-01-20T05:06:29.448529Z"
    }
   },
   "outputs": [],
   "source": [
    "%%cython\n",
    "\n",
    "\n",
    "# Source from https://github.com/scipy/scipy/blob/main/scipy/stats/_mstats_basic.py\n",
    "# Inline Cython because these functions aren't .pyx in SciPy.\n",
    "\n",
    "import numpy as np\n",
    "from numpy import ndarray\n",
    "import numpy.ma as ma\n",
    "from numpy.ma import masked, nomask\n",
    "import math\n",
    "\n",
    "import itertools\n",
    "import warnings\n",
    "from collections import namedtuple\n",
    "\n",
    "from scipy._lib._util import _rename_parameter, _contains_nan\n",
    "from scipy._lib._bunch import _make_tuple_bunch\n",
    "import scipy.special as special\n",
    "import scipy.stats._stats_py\n",
    "import scipy.stats._stats_py as _stats_py\n",
    "\n",
    "\n",
    "def _chk_asarray(a, axis):\n",
    "    # Always returns a masked array, raveled for axis=None\n",
    "    a = ma.asanyarray(a)\n",
    "    if axis is None:\n",
    "        a = ma.ravel(a)\n",
    "        outaxis = 0\n",
    "    else:\n",
    "        outaxis = axis\n",
    "    return a, outaxis\n",
    "\n",
    "\n",
    "def _ttest_finish(df, t, alternative):\n",
    "    \"\"\"Common code between all 3 t-test functions.\"\"\"\n",
    "    # We use ``stdtr`` directly here to preserve masked arrays\n",
    "\n",
    "    if alternative == 'less':\n",
    "        pval = special._ufuncs.stdtr(df, t)\n",
    "    elif alternative == 'greater':\n",
    "        pval = special._ufuncs.stdtr(df, -t)\n",
    "    elif alternative == 'two-sided':\n",
    "        pval = special._ufuncs.stdtr(df, -np.abs(t))*2\n",
    "    else:\n",
    "        raise ValueError(\"alternative must be \"\n",
    "                         \"'less', 'greater' or 'two-sided'\")\n",
    "\n",
    "    if t.ndim == 0:\n",
    "        t = t[()]\n",
    "    if pval.ndim == 0:\n",
    "        pval = pval[()]\n",
    "\n",
    "    return t, pval\n",
    "\n",
    "\n",
    "def _find_repeats(arr):\n",
    "    # This function assumes it may clobber its input.\n",
    "    if len(arr) == 0:\n",
    "        return np.array(0, np.float64), np.array(0, np.intp)\n",
    "\n",
    "    # XXX This cast was previously needed for the Fortran implementation,\n",
    "    # should we ditch it?\n",
    "    arr = np.asarray(arr, np.float64).ravel()\n",
    "    arr.sort()\n",
    "\n",
    "    # Taken from NumPy 1.9's np.unique.\n",
    "    change = np.concatenate(([True], arr[1:] != arr[:-1]))\n",
    "    unique = arr[change]\n",
    "    change_idx = np.concatenate(np.nonzero(change) + ([arr.size],))\n",
    "    freq = np.diff(change_idx)\n",
    "    atleast2 = freq > 1\n",
    "    return unique[atleast2], freq[atleast2]\n",
    "\n",
    "\n",
    "def find_repeats(arr):\n",
    "    \"\"\"Find repeats in arr and return a tuple (repeats, repeat_count).\n",
    "\n",
    "    The input is cast to float64. Masked values are discarded.\n",
    "\n",
    "    Parameters\n",
    "    ----------\n",
    "    arr : sequence\n",
    "        Input array. The array is flattened if it is not 1D.\n",
    "\n",
    "    Returns\n",
    "    -------\n",
    "    repeats : ndarray\n",
    "        Array of repeated values.\n",
    "    counts : ndarray\n",
    "        Array of counts.\n",
    "\n",
    "    Examples\n",
    "    --------\n",
    "    >>> from scipy.stats import mstats\n",
    "    >>> mstats.find_repeats([2, 1, 2, 3, 2, 2, 5])\n",
    "    (array([2.]), array([4]))\n",
    "\n",
    "    In the above example, 2 repeats 4 times.\n",
    "\n",
    "    >>> mstats.find_repeats([[10, 20, 1, 2], [5, 5, 4, 4]])\n",
    "    (array([4., 5.]), array([2, 2]))\n",
    "\n",
    "    In the above example, both 4 and 5 repeat 2 times.\n",
    "\n",
    "    \"\"\"\n",
    "    # Make sure we get a copy. ma.compressed promises a \"new array\", but can\n",
    "    # actually return a reference.\n",
    "    compr = np.asarray(ma.compressed(arr), dtype=np.float64)\n",
    "    try:\n",
    "        need_copy = np.may_share_memory(compr, arr)\n",
    "    except AttributeError:\n",
    "        # numpy < 1.8.2 bug: np.may_share_memory([], []) raises,\n",
    "        # while in numpy 1.8.2 and above it just (correctly) returns False.\n",
    "        need_copy = False\n",
    "    if need_copy:\n",
    "        compr = compr.copy()\n",
    "    return _find_repeats(compr)\n",
    "\n",
    "\n",
    "def rankdata(data, axis=None, use_missing=False):\n",
    "    \"\"\"Returns the rank (also known as order statistics) of each data point\n",
    "    along the given axis.\n",
    "\n",
    "    If some values are tied, their rank is averaged.\n",
    "    If some values are masked, their rank is set to 0 if use_missing is False,\n",
    "    or set to the average rank of the unmasked values if use_missing is True.\n",
    "\n",
    "    Parameters\n",
    "    ----------\n",
    "    data : sequence\n",
    "        Input data. The data is transformed to a masked array\n",
    "    axis : {None,int}, optional\n",
    "        Axis along which to perform the ranking.\n",
    "        If None, the array is first flattened. An exception is raised if\n",
    "        the axis is specified for arrays with a dimension larger than 2\n",
    "    use_missing : bool, optional\n",
    "        Whether the masked values have a rank of 0 (False) or equal to the\n",
    "        average rank of the unmasked values (True).\n",
    "\n",
    "    \"\"\"\n",
    "    def _rank1d(data, use_missing=False):\n",
    "        n = data.count()\n",
    "        rk = np.empty(data.size, dtype=float)\n",
    "        idx = data.argsort()\n",
    "        rk[idx[:n]] = np.arange(1,n+1)\n",
    "\n",
    "        if use_missing:\n",
    "            rk[idx[n:]] = (n+1)/2.\n",
    "        else:\n",
    "            rk[idx[n:]] = 0\n",
    "\n",
    "        repeats = find_repeats(data.copy())\n",
    "        for r in repeats[0]:\n",
    "            condition = (data == r).filled(False)\n",
    "            rk[condition] = rk[condition].mean()\n",
    "        return rk\n",
    "\n",
    "    data = ma.array(data, copy=False)\n",
    "    if axis is None:\n",
    "        if data.ndim > 1:\n",
    "            return _rank1d(data.ravel(), use_missing).reshape(data.shape)\n",
    "        else:\n",
    "            return _rank1d(data, use_missing)\n",
    "    else:\n",
    "        return ma.apply_along_axis(_rank1d,axis,data,use_missing).view(ndarray)\n",
    "\n",
    "\n",
    "    ModeResult = namedtuple('ModeResult', ('mode', 'count'))\n",
    "\n",
    "\n",
    "\n",
    "def spearmanr(x, y=None, use_ties=True, axis=None, nan_policy='propagate',\n",
    "              alternative='two-sided'):\n",
    "    \"\"\"\n",
    "    Calculates a Spearman rank-order correlation coefficient and the p-value\n",
    "    to test for non-correlation.\n",
    "\n",
    "    The Spearman correlation is a nonparametric measure of the linear\n",
    "    relationship between two datasets. Unlike the Pearson correlation, the\n",
    "    Spearman correlation does not assume that both datasets are normally\n",
    "    distributed. Like other correlation coefficients, this one varies\n",
    "    between -1 and +1 with 0 implying no correlation. Correlations of -1 or\n",
    "    +1 imply a monotonic relationship. Positive correlations imply that\n",
    "    as `x` increases, so does `y`. Negative correlations imply that as `x`\n",
    "    increases, `y` decreases.\n",
    "\n",
    "    Missing values are discarded pair-wise: if a value is missing in `x`, the\n",
    "    corresponding value in `y` is masked.\n",
    "\n",
    "    The p-value roughly indicates the probability of an uncorrelated system\n",
    "    producing datasets that have a Spearman correlation at least as extreme\n",
    "    as the one computed from these datasets. The p-values are not entirely\n",
    "    reliable but are probably reasonable for datasets larger than 500 or so.\n",
    "\n",
    "    Parameters\n",
    "    ----------\n",
    "    x, y : 1D or 2D array_like, y is optional\n",
    "        One or two 1-D or 2-D arrays containing multiple variables and\n",
    "        observations. When these are 1-D, each represents a vector of\n",
    "        observations of a single variable. For the behavior in the 2-D case,\n",
    "        see under ``axis``, below.\n",
    "    use_ties : bool, optional\n",
    "        DO NOT USE.  Does not do anything, keyword is only left in place for\n",
    "        backwards compatibility reasons.\n",
    "    axis : int or None, optional\n",
    "        If axis=0 (default), then each column represents a variable, with\n",
    "        observations in the rows. If axis=1, the relationship is transposed:\n",
    "        each row represents a variable, while the columns contain observations.\n",
    "        If axis=None, then both arrays will be raveled.\n",
    "    nan_policy : {'propagate', 'raise', 'omit'}, optional\n",
    "        Defines how to handle when input contains nan. 'propagate' returns nan,\n",
    "        'raise' throws an error, 'omit' performs the calculations ignoring nan\n",
    "        values. Default is 'propagate'.\n",
    "    alternative : {'two-sided', 'less', 'greater'}, optional\n",
    "        Defines the alternative hypothesis. Default is 'two-sided'.\n",
    "        The following options are available:\n",
    "\n",
    "        * 'two-sided': the correlation is nonzero\n",
    "        * 'less': the correlation is negative (less than zero)\n",
    "        * 'greater':  the correlation is positive (greater than zero)\n",
    "\n",
    "        .. versionadded:: 1.7.0\n",
    "\n",
    "    Returns\n",
    "    -------\n",
    "    res : SignificanceResult\n",
    "        An object containing attributes:\n",
    "\n",
    "        statistic : float or ndarray (2-D square)\n",
    "            Spearman correlation matrix or correlation coefficient (if only 2\n",
    "            variables are given as parameters). Correlation matrix is square\n",
    "            with length equal to total number of variables (columns or rows) in\n",
    "            ``a`` and ``b`` combined.\n",
    "        pvalue : float\n",
    "            The p-value for a hypothesis test whose null hypothesis\n",
    "            is that two sets of data are linearly uncorrelated. See\n",
    "            `alternative` above for alternative hypotheses. `pvalue` has the\n",
    "            same shape as `statistic`.\n",
    "\n",
    "    References\n",
    "    ----------\n",
    "    [CRCProbStat2000] section 14.7\n",
    "\n",
    "    \"\"\"\n",
    "    if not use_ties:\n",
    "        raise ValueError(\"`use_ties=False` is not supported in SciPy >= 1.2.0\")\n",
    "\n",
    "    # Always returns a masked array, raveled if axis=None\n",
    "    x, axisout = _chk_asarray(x, axis)\n",
    "    if y is not None:\n",
    "        # Deal only with 2-D `x` case.\n",
    "        y, _ = _chk_asarray(y, axis)\n",
    "        if axisout == 0:\n",
    "            x = ma.column_stack((x, y))\n",
    "        else:\n",
    "            x = ma.vstack((x, y))\n",
    "\n",
    "    if axisout == 1:\n",
    "        # To simplify the code that follow (always use `n_obs, n_vars` shape)\n",
    "        x = x.T\n",
    "\n",
    "    if nan_policy == 'omit':\n",
    "        x = ma.masked_invalid(x)\n",
    "\n",
    "    def _spearmanr_2cols(x):\n",
    "        # Mask the same observations for all variables, and then drop those\n",
    "        # observations (can't leave them masked, rankdata is weird).\n",
    "        x = ma.mask_rowcols(x, axis=0)\n",
    "        x = x[~x.mask.any(axis=1), :]\n",
    "\n",
    "        # If either column is entirely NaN or Inf\n",
    "        if not np.any(x.data):\n",
    "            res = scipy.stats._stats_py.SignificanceResult(np.nan, np.nan)\n",
    "            res.correlation = np.nan\n",
    "            return res\n",
    "\n",
    "        m = ma.getmask(x)\n",
    "        n_obs = x.shape[0]\n",
    "        dof = n_obs - 2 - int(m.sum(axis=0)[0])\n",
    "        if dof < 0:\n",
    "            raise ValueError(\"The input must have at least 3 entries!\")\n",
    "\n",
    "        # Gets the ranks and rank differences\n",
    "        x_ranked = rankdata(x, axis=0)\n",
    "        rs = ma.corrcoef(x_ranked, rowvar=False).data\n",
    "\n",
    "        # rs can have elements equal to 1, so avoid zero division warnings\n",
    "        with np.errstate(divide='ignore'):\n",
    "            # clip the small negative values possibly caused by rounding\n",
    "            # errors before taking the square root\n",
    "            t = rs * np.sqrt((dof / ((rs+1.0) * (1.0-rs))).clip(0))\n",
    "\n",
    "        t, prob = _ttest_finish(dof, t, alternative)\n",
    "\n",
    "        # For backwards compatibility, return scalars when comparing 2 columns\n",
    "        if rs.shape == (2, 2):\n",
    "            res = scipy.stats._stats_py.SignificanceResult(rs[1, 0],\n",
    "                                                           prob[1, 0])\n",
    "            res.correlation = rs[1, 0]\n",
    "            return res\n",
    "        else:\n",
    "            res = scipy.stats._stats_py.SignificanceResult(rs, prob)\n",
    "            res.correlation = rs\n",
    "            return res\n",
    "\n",
    "    # Need to do this per pair of variables, otherwise the dropped observations\n",
    "    # in a third column mess up the result for a pair.\n",
    "    n_vars = x.shape[1]\n",
    "    if n_vars == 2:\n",
    "        return _spearmanr_2cols(x)\n",
    "    else:\n",
    "        rs = np.ones((n_vars, n_vars), dtype=float)\n",
    "        prob = np.zeros((n_vars, n_vars), dtype=float)\n",
    "        for var1 in range(n_vars - 1):\n",
    "            for var2 in range(var1+1, n_vars):\n",
    "                result = _spearmanr_2cols(x[:, [var1, var2]])\n",
    "                rs[var1, var2] = result.correlation\n",
    "                rs[var2, var1] = result.correlation\n",
    "                prob[var1, var2] = result.pvalue\n",
    "                prob[var2, var1] = result.pvalue\n",
    "\n",
    "        res = scipy.stats._stats_py.SignificanceResult(rs, prob)\n",
    "        res.correlation = rs\n",
    "        return res\n",
    "\n",
    "\n",
    "def ic_lgbm(preds: np.narray, train_data: np.narray):\n",
    "    \"\"\"Custom IC eval metric for lightgbm\"\"\"\n",
    "    is_higher_better = True\n",
    "    return 'ic', spearmanr(preds, train_data.get_label())[0], is_higher_better"
   ]
  },
  {
   "cell_type": "markdown",
   "metadata": {},
   "source": [
    "### Cross-validation setup"
   ]
  },
  {
   "cell_type": "code",
   "execution_count": 16,
   "metadata": {
    "ExecuteTime": {
     "end_time": "2021-01-20T05:06:29.467434Z",
     "start_time": "2021-01-20T05:06:29.459453Z"
    }
   },
   "outputs": [],
   "source": [
    "DAY = 390   # number of minute bars in a trading day of 6.5 hrs (9:30 - 15:59)\n",
    "MONTH = 21  # trading days"
   ]
  },
  {
   "cell_type": "code",
   "execution_count": 17,
   "metadata": {
    "ExecuteTime": {
     "end_time": "2021-01-20T05:06:29.479937Z",
     "start_time": "2021-01-20T05:06:29.468438Z"
    }
   },
   "outputs": [],
   "source": [
    "def get_cv(n_splits=23):\n",
    "    return MultipleTimeSeriesCV(n_splits=n_splits,\n",
    "                                lookahead=1,\n",
    "                                test_period_length=MONTH * DAY,       # test for 1 month\n",
    "                                train_period_length=12 * MONTH * DAY,  # train for 1 year\n",
    "                                date_idx='date_time')"
   ]
  },
  {
   "cell_type": "markdown",
   "metadata": {},
   "source": [
    "Show train/validation periods:"
   ]
  },
  {
   "cell_type": "code",
   "execution_count": 18,
   "metadata": {
    "ExecuteTime": {
     "end_time": "2021-01-20T05:06:55.998459Z",
     "start_time": "2021-01-20T05:06:29.480837Z"
    }
   },
   "outputs": [
    {
     "name": "stdout",
     "output_type": "stream",
     "text": [
      "2016-11-29 15:59:00 2017-11-29 15:59:00 2017-11-30 09:30:00 2017-12-29 15:59:00\n",
      "2016-10-28 15:47:00 2017-10-30 15:58:00 2017-10-30 15:59:00 2017-11-29 15:59:00\n",
      "2016-09-29 15:47:00 2017-09-29 15:58:00 2017-09-29 15:59:00 2017-10-30 15:58:00\n",
      "2016-08-30 15:47:00 2017-08-30 15:58:00 2017-08-30 15:59:00 2017-09-29 15:58:00\n",
      "2016-08-01 15:47:00 2017-08-01 15:58:00 2017-08-01 15:59:00 2017-08-30 15:58:00\n",
      "2016-06-30 15:47:00 2017-06-30 15:58:00 2017-06-30 15:59:00 2017-08-01 15:58:00\n",
      "2016-06-01 15:47:00 2017-06-01 15:58:00 2017-06-01 15:59:00 2017-06-30 15:58:00\n",
      "2016-05-02 15:47:00 2017-05-02 15:58:00 2017-05-02 15:59:00 2017-06-01 15:58:00\n",
      "2016-04-01 15:47:00 2017-03-31 15:58:00 2017-03-31 15:59:00 2017-05-02 15:58:00\n",
      "2016-03-02 15:47:00 2017-03-02 15:58:00 2017-03-02 15:59:00 2017-03-31 15:58:00\n",
      "2016-02-01 15:47:00 2017-01-31 15:58:00 2017-01-31 15:59:00 2017-03-02 15:58:00\n",
      "2015-12-30 15:47:00 2016-12-29 15:58:00 2016-12-29 15:59:00 2017-01-31 15:58:00\n",
      "2015-11-30 15:23:00 2016-11-29 15:58:00 2016-11-29 15:59:00 2016-12-29 15:58:00\n",
      "2015-10-29 15:09:00 2016-10-28 15:46:00 2016-10-28 15:47:00 2016-11-29 15:58:00\n",
      "2015-09-30 15:09:00 2016-09-29 15:46:00 2016-09-29 15:47:00 2016-10-28 15:46:00\n",
      "2015-08-31 15:09:00 2016-08-30 15:46:00 2016-08-30 15:47:00 2016-09-29 15:46:00\n",
      "2015-07-31 15:09:00 2016-08-01 15:46:00 2016-08-01 15:47:00 2016-08-30 15:46:00\n",
      "2015-07-01 15:09:00 2016-06-30 15:46:00 2016-06-30 15:47:00 2016-08-01 15:46:00\n",
      "2015-06-02 15:09:00 2016-06-01 15:46:00 2016-06-01 15:47:00 2016-06-30 15:46:00\n",
      "2015-05-01 15:09:00 2016-05-02 15:46:00 2016-05-02 15:47:00 2016-06-01 15:46:00\n",
      "2015-04-01 15:09:00 2016-04-01 15:46:00 2016-04-01 15:47:00 2016-05-02 15:46:00\n",
      "2015-03-03 15:09:00 2016-03-02 15:46:00 2016-03-02 15:47:00 2016-04-01 15:46:00\n",
      "2015-01-30 15:09:00 2016-02-01 15:46:00 2016-02-01 15:47:00 2016-03-02 15:46:00\n"
     ]
    }
   ],
   "source": [
    "for i, (train_idx, test_idx) in enumerate(get_cv().split(X=data)):\n",
    "    train_dates = data.iloc[train_idx].index.unique('date_time')\n",
    "    test_dates = data.iloc[test_idx].index.unique('date_time')\n",
    "    print(train_dates.min(), train_dates.max(), test_dates.min(), test_dates.max())"
   ]
  },
  {
   "cell_type": "markdown",
   "metadata": {},
   "source": [
    "### Train model"
   ]
  },
  {
   "cell_type": "code",
   "execution_count": 19,
   "metadata": {
    "ExecuteTime": {
     "end_time": "2021-01-20T05:06:56.047385Z",
     "start_time": "2021-01-20T05:06:55.999417Z"
    }
   },
   "outputs": [],
   "source": [
    "label = sorted(data.filter(like='fwd').columns)\n",
    "features = data.columns.difference(label).tolist()\n",
    "label = label[0]"
   ]
  },
  {
   "cell_type": "code",
   "execution_count": 20,
   "metadata": {
    "ExecuteTime": {
     "end_time": "2021-01-20T08:46:36.812958Z",
     "start_time": "2021-01-20T08:46:36.804194Z"
    }
   },
   "outputs": [],
   "source": [
    "params = dict(objective='regression',\n",
    "              metric=['rmse'],\n",
    "              device='gpu',\n",
    "              max_bin=63,\n",
    "              gpu_use_dp=False,\n",
    "              num_leaves=16,\n",
    "              min_data_in_leaf=500,\n",
    "              feature_fraction=.8,\n",
    "              verbose=-1)"
   ]
  },
  {
   "cell_type": "code",
   "execution_count": 21,
   "metadata": {
    "ExecuteTime": {
     "end_time": "2021-01-20T08:46:36.812958Z",
     "start_time": "2021-01-20T08:46:36.804194Z"
    }
   },
   "outputs": [],
   "source": [
    "params = dict(objective='regression',\n",
    "              metric=['rmse'],\n",
    "              device='cpu',\n",
    "              max_bin=63,\n",
    "              gpu_use_dp=False,\n",
    "              num_leaves=16,\n",
    "              min_data_in_leaf=500,\n",
    "              feature_fraction=.8,\n",
    "              verbose=-1)"
   ]
  },
  {
   "cell_type": "code",
   "execution_count": 21,
   "metadata": {
    "ExecuteTime": {
     "end_time": "2021-01-20T08:46:37.104909Z",
     "start_time": "2021-01-20T08:46:37.100050Z"
    }
   },
   "outputs": [],
   "source": [
    "num_boost_round = 250"
   ]
  },
  {
   "cell_type": "code",
   "execution_count": 22,
   "metadata": {
    "ExecuteTime": {
     "end_time": "2021-01-20T08:46:37.568191Z",
     "start_time": "2021-01-20T08:46:37.566003Z"
    }
   },
   "outputs": [],
   "source": [
    "cv = get_cv(n_splits=23) # we have enough data for 23 different test periods"
   ]
  },
  {
   "cell_type": "code",
   "execution_count": 23,
   "metadata": {
    "ExecuteTime": {
     "end_time": "2021-01-20T08:46:38.707531Z",
     "start_time": "2021-01-20T08:46:38.705448Z"
    }
   },
   "outputs": [],
   "source": [
    "def get_scores(result):\n",
    "    return pd.DataFrame({'train': result['training']['ic'],\n",
    "                         'valid': result['valid_1']['ic']})"
   ]
  },
  {
   "cell_type": "markdown",
   "metadata": {},
   "source": [
    "The following model-training loop will take more than 10 hours to run and also consumes substantial memory. If you run into resource constraints, you can modify the code, e.g., by:\n",
    "1. Only loading data required for one iteration.\n",
    "2. Shortening the training period to require less than one year.\n",
    "\n",
    "You can also speed up the process by using fewer `n_splits`, which implies longer test periods."
   ]
  },
  {
   "cell_type": "code",
   "execution_count": 24,
   "metadata": {
    "ExecuteTime": {
     "end_time": "2021-01-20T17:43:20.892339Z",
     "start_time": "2021-01-20T08:46:39.637329Z"
    }
   },
   "outputs": [
    {
     "name": "stdout",
     "output_type": "stream",
     "text": [
      "Training until validation scores don't improve for 50 rounds\n",
      "Early stopping, best iteration is:\n",
      "[86]\ttraining's rmse: 0.000695745\ttraining's ic: 0.0428019\tvalid_1's rmse: 0.000816056\tvalid_1's ic: 0.0558975\n",
      "\n",
      "Fold: 01 | 00:05:24 | IC per minute: 5.64%\n",
      "\n",
      "Training until validation scores don't improve for 50 rounds\n",
      "Early stopping, best iteration is:\n",
      "[146]\ttraining's rmse: 0.000698866\ttraining's ic: 0.0456962\tvalid_1's rmse: 0.000847735\tvalid_1's ic: 0.0438048\n",
      "\n",
      "Fold: 02 | 00:13:01 | IC per minute: 4.29%\n",
      "\n",
      "Training until validation scores don't improve for 50 rounds\n",
      "Early stopping, best iteration is:\n",
      "[146]\ttraining's rmse: 0.000697442\ttraining's ic: 0.0451649\tvalid_1's rmse: 0.000706078\tvalid_1's ic: 0.041496\n",
      "\n",
      "Fold: 03 | 00:20:41 | IC per minute: 4.43%\n",
      "\n",
      "Training until validation scores don't improve for 50 rounds\n",
      "Early stopping, best iteration is:\n",
      "[192]\ttraining's rmse: 0.000699919\ttraining's ic: 0.0474068\tvalid_1's rmse: 0.000669584\tvalid_1's ic: 0.035081\n",
      "\n",
      "Fold: 04 | 00:29:57 | IC per minute: 3.80%\n",
      "\n",
      "Training until validation scores don't improve for 50 rounds\n",
      "Did not meet early stopping. Best iteration is:\n",
      "[228]\ttraining's rmse: 0.000695139\ttraining's ic: 0.0486687\tvalid_1's rmse: 0.00069683\tvalid_1's ic: 0.0289829\n",
      "\n",
      "Fold: 05 | 00:39:30 | IC per minute: 3.20%\n",
      "\n",
      "Training until validation scores don't improve for 50 rounds\n",
      "Early stopping, best iteration is:\n",
      "[94]\ttraining's rmse: 0.000696131\ttraining's ic: 0.039979\tvalid_1's rmse: 0.000701249\tvalid_1's ic: 0.0292095\n",
      "\n",
      "Fold: 06 | 00:45:17 | IC per minute: 3.16%\n",
      "\n",
      "Training until validation scores don't improve for 50 rounds\n",
      "Early stopping, best iteration is:\n",
      "[82]\ttraining's rmse: 0.000702443\ttraining's ic: 0.0376923\tvalid_1's rmse: 0.000744213\tvalid_1's ic: 0.0277163\n",
      "\n",
      "Fold: 07 | 00:50:30 | IC per minute: 3.17%\n",
      "\n",
      "Training until validation scores don't improve for 50 rounds\n",
      "Did not meet early stopping. Best iteration is:\n",
      "[250]\ttraining's rmse: 0.000720398\ttraining's ic: 0.0473557\tvalid_1's rmse: 0.000620406\tvalid_1's ic: 0.0352785\n",
      "\n",
      "Fold: 08 | 01:00:15 | IC per minute: 3.70%\n",
      "\n",
      "Training until validation scores don't improve for 50 rounds\n",
      "Early stopping, best iteration is:\n",
      "[75]\ttraining's rmse: 0.000752385\ttraining's ic: 0.0351478\tvalid_1's rmse: 0.000584128\tvalid_1's ic: 0.0271296\n",
      "\n",
      "Fold: 09 | 01:05:13 | IC per minute: 2.89%\n",
      "\n",
      "Training until validation scores don't improve for 50 rounds\n",
      "Early stopping, best iteration is:\n",
      "[107]\ttraining's rmse: 0.00077209\ttraining's ic: 0.0378503\tvalid_1's rmse: 0.000633396\tvalid_1's ic: 0.030961\n",
      "\n",
      "Fold: 10 | 01:11:38 | IC per minute: 2.86%\n",
      "\n",
      "Training until validation scores don't improve for 50 rounds\n",
      "Early stopping, best iteration is:\n",
      "[124]\ttraining's rmse: 0.000830995\ttraining's ic: 0.0398056\tvalid_1's rmse: 0.000653593\tvalid_1's ic: 0.028587\n",
      "\n",
      "Fold: 11 | 01:18:27 | IC per minute: 2.80%\n",
      "\n",
      "Training until validation scores don't improve for 50 rounds\n",
      "Did not meet early stopping. Best iteration is:\n",
      "[250]\ttraining's rmse: 0.000875013\ttraining's ic: 0.0466277\tvalid_1's rmse: 0.000721344\tvalid_1's ic: 0.0281621\n",
      "\n",
      "Fold: 12 | 01:28:08 | IC per minute: 2.96%\n",
      "\n",
      "Training until validation scores don't improve for 50 rounds\n",
      "Early stopping, best iteration is:\n",
      "[190]\ttraining's rmse: 0.000885183\ttraining's ic: 0.0431603\tvalid_1's rmse: 0.000749308\tvalid_1's ic: 0.0298107\n",
      "\n",
      "Fold: 13 | 01:37:25 | IC per minute: 2.97%\n",
      "\n",
      "Training until validation scores don't improve for 50 rounds\n",
      "Early stopping, best iteration is:\n",
      "[164]\ttraining's rmse: 0.000890852\ttraining's ic: 0.0415839\tvalid_1's rmse: 0.000884839\tvalid_1's ic: 0.0251399\n",
      "\n",
      "Fold: 14 | 01:45:47 | IC per minute: 2.90%\n",
      "\n",
      "Training until validation scores don't improve for 50 rounds\n",
      "Did not meet early stopping. Best iteration is:\n",
      "[230]\ttraining's rmse: 0.000919356\ttraining's ic: 0.0447854\tvalid_1's rmse: 0.000688682\tvalid_1's ic: 0.0269684\n",
      "\n",
      "Fold: 15 | 01:55:27 | IC per minute: 2.75%\n",
      "\n",
      "Training until validation scores don't improve for 50 rounds\n",
      "Early stopping, best iteration is:\n",
      "[41]\ttraining's rmse: 0.000940792\ttraining's ic: 0.0324649\tvalid_1's rmse: 0.000706071\tvalid_1's ic: 0.020132\n",
      "\n",
      "Fold: 16 | 01:59:07 | IC per minute: 2.09%\n",
      "\n",
      "Training until validation scores don't improve for 50 rounds\n",
      "Early stopping, best iteration is:\n",
      "[41]\ttraining's rmse: 0.000985565\ttraining's ic: 0.0317926\tvalid_1's rmse: 0.000640329\tvalid_1's ic: 0.0216848\n",
      "\n",
      "Fold: 17 | 02:02:51 | IC per minute: 2.43%\n",
      "\n",
      "Training until validation scores don't improve for 50 rounds\n",
      "Early stopping, best iteration is:\n",
      "[91]\ttraining's rmse: 0.000991992\ttraining's ic: 0.0372309\tvalid_1's rmse: 0.000698741\tvalid_1's ic: 0.019099\n",
      "\n",
      "Fold: 18 | 02:08:26 | IC per minute: 2.22%\n",
      "\n",
      "Training until validation scores don't improve for 50 rounds\n",
      "Early stopping, best iteration is:\n",
      "[37]\ttraining's rmse: 0.000981966\ttraining's ic: 0.0322683\tvalid_1's rmse: 0.000807836\tvalid_1's ic: 0.0192519\n",
      "\n",
      "Fold: 19 | 02:11:60 | IC per minute: 2.43%\n",
      "\n",
      "Training until validation scores don't improve for 50 rounds\n",
      "Early stopping, best iteration is:\n",
      "[10]\ttraining's rmse: 0.000972716\ttraining's ic: 0.0259781\tvalid_1's rmse: 0.000847487\tvalid_1's ic: 0.0217968\n",
      "\n",
      "Fold: 20 | 02:14:35 | IC per minute: 2.61%\n",
      "\n",
      "Training until validation scores don't improve for 50 rounds\n",
      "Early stopping, best iteration is:\n",
      "[1]\ttraining's rmse: 0.000958046\ttraining's ic: 0.0163298\tvalid_1's rmse: 0.000935446\tvalid_1's ic: 0.0135683\n",
      "\n",
      "Fold: 21 | 02:16:48 | IC per minute: 1.25%\n",
      "\n",
      "Training until validation scores don't improve for 50 rounds\n",
      "Early stopping, best iteration is:\n",
      "[58]\ttraining's rmse: 0.000945125\ttraining's ic: 0.0359455\tvalid_1's rmse: 0.000878316\tvalid_1's ic: 0.0240471\n",
      "\n",
      "Fold: 22 | 02:21:09 | IC per minute: 2.66%\n",
      "\n",
      "Training until validation scores don't improve for 50 rounds\n",
      "Early stopping, best iteration is:\n",
      "[22]\ttraining's rmse: 0.000902621\ttraining's ic: 0.0285492\tvalid_1's rmse: 0.00124884\tvalid_1's ic: 0.0230472\n",
      "\n",
      "Fold: 23 | 02:24:12 | IC per minute: 2.54%\n",
      "\n"
     ]
    }
   ],
   "source": [
    "start = time()\n",
    "for fold, (train_idx, test_idx) in enumerate(cv.split(X=data), 1):\n",
    "    # create lgb train set\n",
    "    train_set = data.iloc[train_idx, :]\n",
    "    lgb_train = lgb.Dataset(data=train_set.drop(label, axis=1),\n",
    "                            label=train_set[label],\n",
    "                            categorical_feature=categoricals)\n",
    "    \n",
    "    # create lgb test set\n",
    "    test_set = data.iloc[test_idx, :]\n",
    "    lgb_test = lgb.Dataset(data=test_set.drop(label, axis=1),\n",
    "                           label=test_set[label],\n",
    "                           categorical_feature=categoricals, \n",
    "                           reference=lgb_train)\n",
    "\n",
    "    # train model\n",
    "    evals_result = {}\n",
    "    model = lgb.train(params=params,\n",
    "                      train_set=lgb_train,\n",
    "                      valid_sets=[lgb_train, lgb_test],\n",
    "                      feval=ic_lgbm,\n",
    "                      num_boost_round=num_boost_round,\n",
    "                      callbacks=[lgb.early_stopping(stopping_rounds=50), lgb.record_evaluation(evals_result)])\n",
    "    model.save_model((model_path / f'{fold:02}.txt').as_posix())\n",
    "    \n",
    "    # get train/valid ic scores\n",
    "    scores = get_scores(evals_result)\n",
    "    scores.to_hdf(result_store, f'ic/{fold:02}')\n",
    "    \n",
    "    # get feature importance\n",
    "    fi = get_fi(model)\n",
    "    fi.to_hdf(result_store, f'fi/{fold:02}')\n",
    "    \n",
    "    # generate validation predictions\n",
    "    X_test = test_set.loc[:, model.feature_name()]\n",
    "    y_test = test_set.loc[:, [label]]\n",
    "    y_test['pred'] = model.predict(X_test)\n",
    "    y_test.to_hdf(result_store, f'predictions/{fold:02}')\n",
    "    \n",
    "    # compute average IC per minute\n",
    "    by_minute = y_test.groupby(test_set.index.get_level_values('date_time'))\n",
    "    daily_ic = by_minute.apply(lambda x: spearmanr(x[label], x.pred)[0]).mean()\n",
    "    print(f'\\nFold: {fold:02} | {format_time(time()-start)} | IC per minute: {daily_ic:.2%}\\n')"
   ]
  },
  {
   "cell_type": "code",
   "execution_count": 25,
   "metadata": {},
   "outputs": [
    {
     "data": {
      "text/plain": [
       "1729225013.320666"
      ]
     },
     "execution_count": 25,
     "metadata": {},
     "output_type": "execute_result"
    }
   ],
   "source": [
    "start"
   ]
  },
  {
   "cell_type": "markdown",
   "metadata": {},
   "source": [
    "## Signal Evaluation"
   ]
  },
  {
   "cell_type": "code",
   "execution_count": 253,
   "metadata": {
    "ExecuteTime": {
     "end_time": "2021-01-20T18:06:46.180269Z",
     "start_time": "2021-01-20T18:06:39.512596Z"
    }
   },
   "outputs": [],
   "source": [
    "with pd.HDFStore(result_store) as store:\n",
    "    pred_keys = [k[1:] for k in store.keys() if k[1:].startswith('pred')]\n",
    "    cv_predictions = pd.concat([store[k] for k in pred_keys]).sort_index()"
   ]
  },
  {
   "cell_type": "code",
   "execution_count": 254,
   "metadata": {
    "ExecuteTime": {
     "end_time": "2021-01-20T18:06:46.471211Z",
     "start_time": "2021-01-20T18:06:46.181680Z"
    }
   },
   "outputs": [
    {
     "name": "stdout",
     "output_type": "stream",
     "text": [
      "<class 'pandas.core.frame.DataFrame'>\n",
      "MultiIndex: 19648064 entries, ('AAL', Timestamp('2016-02-01 15:47:00')) to ('YHOO', Timestamp('2017-06-16 15:59:00'))\n",
      "Data columns (total 2 columns):\n",
      " #   Column   Non-Null Count     Dtype  \n",
      "---  ------   --------------     -----  \n",
      " 0   fwd1min  19648064 non-null  float64\n",
      " 1   pred     19648064 non-null  float64\n",
      "dtypes: float64(2)\n",
      "memory usage: 422.6+ MB\n"
     ]
    }
   ],
   "source": [
    "cv_predictions.info(show_counts=True)"
   ]
  },
  {
   "cell_type": "code",
   "execution_count": 255,
   "metadata": {
    "ExecuteTime": {
     "end_time": "2021-01-20T18:07:05.478729Z",
     "start_time": "2021-01-20T18:07:05.386471Z"
    }
   },
   "outputs": [],
   "source": [
    "time_stamp = cv_predictions.index.get_level_values('date_time')\n",
    "dates = sorted(np.unique(time_stamp.date))"
   ]
  },
  {
   "cell_type": "markdown",
   "metadata": {},
   "source": [
    "We have out-of-sample predictions for 484 days from February 2016 through December 2017:"
   ]
  },
  {
   "cell_type": "code",
   "execution_count": 256,
   "metadata": {
    "ExecuteTime": {
     "end_time": "2021-01-20T18:08:09.303385Z",
     "start_time": "2021-01-20T18:08:09.299517Z"
    }
   },
   "outputs": [
    {
     "name": "stdout",
     "output_type": "stream",
     "text": [
      "# Days: 484 | First: 2016-02-01 | Last: 2017-12-29\n"
     ]
    }
   ],
   "source": [
    "print(f'# Days: {len(dates)} | First: {dates[0]} | Last: {dates[-1]}')"
   ]
  },
  {
   "cell_type": "markdown",
   "metadata": {},
   "source": [
    "We only use minutes with at least 100 predictions:"
   ]
  },
  {
   "cell_type": "code",
   "execution_count": 257,
   "metadata": {
    "ExecuteTime": {
     "end_time": "2021-01-20T18:08:19.857439Z",
     "start_time": "2021-01-20T18:08:19.511736Z"
    }
   },
   "outputs": [],
   "source": [
    "n = cv_predictions.groupby('date_time').size()"
   ]
  },
  {
   "cell_type": "markdown",
   "metadata": {},
   "source": [
    "There are ~700 periods, equivalent to a bit over a single trading day (0.67% of all periods in the sample), with fewer than 100 predictions over the 23 test months:"
   ]
  },
  {
   "cell_type": "code",
   "execution_count": 258,
   "metadata": {},
   "outputs": [
    {
     "data": {
      "text/plain": [
       "date_time\n",
       "2016-02-01 15:47:00    106\n",
       "2016-02-01 15:48:00    106\n",
       "2016-02-01 15:49:00    106\n",
       "2016-02-01 15:50:00    106\n",
       "2016-02-01 15:51:00    106\n",
       "                      ... \n",
       "2017-12-29 15:55:00    104\n",
       "2017-12-29 15:56:00    104\n",
       "2017-12-29 15:57:00    104\n",
       "2017-12-29 15:58:00    104\n",
       "2017-12-29 15:59:00    104\n",
       "Length: 188370, dtype: int64"
      ]
     },
     "execution_count": 258,
     "metadata": {},
     "output_type": "execute_result"
    }
   ],
   "source": [
    "n"
   ]
  },
  {
   "cell_type": "code",
   "execution_count": 259,
   "metadata": {
    "ExecuteTime": {
     "end_time": "2021-01-20T18:09:25.100235Z",
     "start_time": "2021-01-20T18:09:25.092057Z"
    }
   },
   "outputs": [
    {
     "data": {
      "text/plain": [
       "DatetimeIndex(['2016-02-05 09:31:00', '2016-02-22 12:53:00',\n",
       "               '2016-02-23 12:07:00', '2016-03-02 12:39:00',\n",
       "               '2016-03-14 12:05:00', '2016-03-23 11:38:00',\n",
       "               '2016-03-24 13:14:00', '2016-03-28 13:06:00',\n",
       "               '2016-03-28 13:37:00', '2016-04-01 13:36:00',\n",
       "               ...\n",
       "               '2017-12-29 13:14:00', '2017-12-29 13:18:00',\n",
       "               '2017-12-29 13:20:00', '2017-12-29 13:30:00',\n",
       "               '2017-12-29 13:32:00', '2017-12-29 13:47:00',\n",
       "               '2017-12-29 13:48:00', '2017-12-29 14:20:00',\n",
       "               '2017-12-29 14:24:00', '2017-12-29 14:32:00'],\n",
       "              dtype='datetime64[ns]', name='date_time', length=1255, freq=None)"
      ]
     },
     "execution_count": 259,
     "metadata": {},
     "output_type": "execute_result"
    }
   ],
   "source": [
    "incomplete_minutes = n[n<100].index\n",
    "incomplete_minutes"
   ]
  },
  {
   "cell_type": "code",
   "execution_count": 260,
   "metadata": {
    "ExecuteTime": {
     "end_time": "2021-01-20T18:09:53.749791Z",
     "start_time": "2021-01-20T18:09:53.741585Z"
    }
   },
   "outputs": [
    {
     "name": "stdout",
     "output_type": "stream",
     "text": [
      "1255 (0.67%)\n"
     ]
    }
   ],
   "source": [
    "print(f'{len(incomplete_minutes)} ({len(incomplete_minutes)/len(n):.2%})')"
   ]
  },
  {
   "cell_type": "code",
   "execution_count": 261,
   "metadata": {
    "ExecuteTime": {
     "end_time": "2021-01-20T18:10:25.384858Z",
     "start_time": "2021-01-20T18:10:24.845981Z"
    }
   },
   "outputs": [],
   "source": [
    "cv_predictions = cv_predictions[~time_stamp.isin(incomplete_minutes)]\n",
    "time_stamp = cv_predictions.index.get_level_values('date_time')"
   ]
  },
  {
   "cell_type": "code",
   "execution_count": 262,
   "metadata": {},
   "outputs": [],
   "source": [
    "# We also need at least 10 different pred values in order to bin them."
   ]
  },
  {
   "cell_type": "code",
   "execution_count": 263,
   "metadata": {},
   "outputs": [
    {
     "data": {
      "text/plain": [
       "date_time\n",
       "2016-02-01 15:47:00     78\n",
       "2016-02-01 15:48:00     75\n",
       "2016-02-01 15:49:00     65\n",
       "2016-02-01 15:50:00     83\n",
       "2016-02-01 15:51:00     61\n",
       "                      ... \n",
       "2017-12-29 15:55:00    104\n",
       "2017-12-29 15:56:00    104\n",
       "2017-12-29 15:57:00    104\n",
       "2017-12-29 15:58:00    104\n",
       "2017-12-29 15:59:00    104\n",
       "Name: pred, Length: 187115, dtype: int64"
      ]
     },
     "execution_count": 263,
     "metadata": {},
     "output_type": "execute_result"
    }
   ],
   "source": [
    "nv = cv_predictions[\"pred\"].groupby('date_time').nunique()\n",
    "nv"
   ]
  },
  {
   "cell_type": "code",
   "execution_count": 264,
   "metadata": {},
   "outputs": [
    {
     "data": {
      "text/plain": [
       "DatetimeIndex(['2016-02-01 15:47:00', '2016-02-01 15:48:00',\n",
       "               '2016-02-01 15:49:00', '2016-02-01 15:50:00',\n",
       "               '2016-02-01 15:51:00', '2016-02-01 15:52:00',\n",
       "               '2016-02-01 15:53:00', '2016-02-01 15:54:00',\n",
       "               '2016-02-01 15:55:00', '2016-02-01 15:56:00',\n",
       "               ...\n",
       "               '2016-08-30 14:35:00', '2016-08-30 14:57:00',\n",
       "               '2016-08-30 15:02:00', '2016-08-30 15:21:00',\n",
       "               '2016-08-31 14:05:00', '2016-09-01 13:20:00',\n",
       "               '2016-09-01 14:46:00', '2016-09-14 14:42:00',\n",
       "               '2016-09-16 12:40:00', '2016-09-20 14:56:00'],\n",
       "              dtype='datetime64[ns]', name='date_time', length=20659, freq=None)"
      ]
     },
     "execution_count": 264,
     "metadata": {},
     "output_type": "execute_result"
    }
   ],
   "source": [
    "incomplete_minutesv = nv[nv <= 90].index\n",
    "incomplete_minutesv"
   ]
  },
  {
   "cell_type": "code",
   "execution_count": 265,
   "metadata": {},
   "outputs": [
    {
     "name": "stdout",
     "output_type": "stream",
     "text": [
      "20659 (11.04%)\n"
     ]
    }
   ],
   "source": [
    "print(f'{len(incomplete_minutesv)} ({len(incomplete_minutesv)/len(nv):.2%})')"
   ]
  },
  {
   "cell_type": "code",
   "execution_count": 266,
   "metadata": {},
   "outputs": [],
   "source": [
    "cv_predictions = cv_predictions[~time_stamp.isin(incomplete_minutesv)]"
   ]
  },
  {
   "cell_type": "code",
   "execution_count": 267,
   "metadata": {
    "ExecuteTime": {
     "end_time": "2021-01-20T18:10:25.858482Z",
     "start_time": "2021-01-20T18:10:25.572372Z"
    }
   },
   "outputs": [
    {
     "name": "stdout",
     "output_type": "stream",
     "text": [
      "<class 'pandas.core.frame.DataFrame'>\n",
      "MultiIndex: 17377280 entries, ('AAL', Timestamp('2016-02-02 09:31:00')) to ('YHOO', Timestamp('2017-06-16 15:59:00'))\n",
      "Data columns (total 2 columns):\n",
      " #   Column   Non-Null Count     Dtype  \n",
      "---  ------   --------------     -----  \n",
      " 0   fwd1min  17377280 non-null  float64\n",
      " 1   pred     17377280 non-null  float64\n",
      "dtypes: float64(2)\n",
      "memory usage: 374.9+ MB\n"
     ]
    }
   ],
   "source": [
    "cv_predictions.info(show_counts=True)"
   ]
  },
  {
   "cell_type": "markdown",
   "metadata": {},
   "source": [
    "### Information Coefficient"
   ]
  },
  {
   "cell_type": "markdown",
   "metadata": {},
   "source": [
    "#### Across all periods"
   ]
  },
  {
   "cell_type": "code",
   "execution_count": 268,
   "metadata": {
    "ExecuteTime": {
     "end_time": "2021-01-20T18:10:39.620370Z",
     "start_time": "2021-01-20T18:10:31.108754Z"
    }
   },
   "outputs": [],
   "source": [
    "ic = spearmanr(cv_predictions.fwd1min, cv_predictions.pred)[0]"
   ]
  },
  {
   "cell_type": "markdown",
   "metadata": {},
   "source": [
    "#### By minute"
   ]
  },
  {
   "cell_type": "markdown",
   "metadata": {},
   "source": [
    "We are making new predictions every minute, so it makes sense to look at the average performance across all short-term forecasts:"
   ]
  },
  {
   "cell_type": "code",
   "execution_count": 269,
   "metadata": {
    "ExecuteTime": {
     "end_time": "2021-01-20T18:12:59.705706Z",
     "start_time": "2021-01-20T18:12:59.444039Z"
    }
   },
   "outputs": [],
   "source": [
    "minutes = cv_predictions.index.get_level_values('date_time')\n",
    "by_minute = cv_predictions.groupby(minutes)"
   ]
  },
  {
   "cell_type": "code",
   "execution_count": 270,
   "metadata": {
    "ExecuteTime": {
     "end_time": "2021-01-20T18:12:35.612980Z",
     "start_time": "2021-01-20T18:10:40.873271Z"
    }
   },
   "outputs": [
    {
     "name": "stdout",
     "output_type": "stream",
     "text": [
      "\n",
      "All periods:  2.95% | By Minute:  3.15% (Median:  3.18%)\n"
     ]
    }
   ],
   "source": [
    "ic_by_minute = by_minute.apply(lambda x: spearmanr(x.fwd1min, x.pred)[0])\n",
    "\n",
    "minute_ic_mean = ic_by_minute.mean()\n",
    "minute_ic_median = ic_by_minute.median()\n",
    "\n",
    "print(f'\\nAll periods: {ic:6.2%} | By Minute: {minute_ic_mean: 6.2%} (Median: {minute_ic_median: 6.2%})')"
   ]
  },
  {
   "cell_type": "markdown",
   "metadata": {},
   "source": [
    "Plotted as a five-day rolling average, we see that the IC was mostly below the out-of-sample period mean, and increased during the last quarter of 2017 (as reflected in the validation results we observed while training the model)."
   ]
  },
  {
   "cell_type": "code",
   "execution_count": 271,
   "metadata": {
    "ExecuteTime": {
     "end_time": "2021-01-20T19:57:21.720332Z",
     "start_time": "2021-01-20T19:57:21.327009Z"
    }
   },
   "outputs": [
    {
     "data": {
      "image/png": "[encoded data removed]",
      "text/plain": [
       "<Figure size 1400x500 with 1 Axes>"
      ]
     },
     "metadata": {},
     "output_type": "display_data"
    }
   ],
   "source": [
    "ax = ic_by_minute.rolling(5*650).mean().plot(figsize=(14, 5), title='IC (5-day MA)', rot=0)\n",
    "ax.axhline(minute_ic_mean, ls='--', lw=1, c='k')\n",
    "ax.yaxis.set_major_formatter(FuncFormatter(lambda y, _: '{:.0%}'.format(y)))\n",
    "ax.set_ylabel('Information Coefficient')\n",
    "ax.set_xlabel('')\n",
    "sns.despine()\n",
    "plt.tight_layout()"
   ]
  },
  {
   "cell_type": "markdown",
   "metadata": {},
   "source": [
    "### Vectorized backtest of a naive strategey: financial performance by signal quantile"
   ]
  },
  {
   "cell_type": "markdown",
   "metadata": {},
   "source": [
    "Alphalens does not work with minute-data, so we need to compute our own signal performance measures."
   ]
  },
  {
   "cell_type": "markdown",
   "metadata": {},
   "source": [
    "Unfortunately, Zipline's Pipeline also doesn't work for minute-data and Backtrader takes a very long time with such a large dataset. Hence, instead of an event-driven backtest of entry/exit rules as in previous examples, we can only create a rough sketch of the financial performance of a naive trading strategy driven by the model's predictions using vectorized backtesting (see Chapter 8 on the [ML4T workflow](../08_ml4t_workflow'). As we will see below, this does not produce particularly helpful results."
   ]
  },
  {
   "cell_type": "markdown",
   "metadata": {},
   "source": [
    "This naive strategy invests in equal-weighted portfolios of the stocks in each decile under the following assumptions (mentioned at the beginning of this notebook: \n",
    "1. Based on the predictions using inputs from the current and previous bars, we can enter positions at the first trade price in the following minute bar\n",
    "2. We exit all positions at the last price in that following minute bar\n",
    "3. There are no trading cost or market impact (slippage) of our trades (but we can check how sensitive the results would be)."
   ]
  },
  {
   "cell_type": "markdown",
   "metadata": {},
   "source": [
    "#### Average returns by minute bar and signal quantile "
   ]
  },
  {
   "cell_type": "markdown",
   "metadata": {},
   "source": [
    "To this end, we compute the quintiles and deciles of the model's `fwd1min` predictions for each minute:"
   ]
  },
  {
   "cell_type": "code",
   "execution_count": 272,
   "metadata": {},
   "outputs": [
    {
     "data": {
      "text/html": [
       "<div>\n",
       "<style scoped>\n",
       "    .dataframe tbody tr th:only-of-type {\n",
       "        vertical-align: middle;\n",
       "    }\n",
       "\n",
       "    .dataframe tbody tr th {\n",
       "        vertical-align: top;\n",
       "    }\n",
       "\n",
       "    .dataframe thead th {\n",
       "        text-align: right;\n",
       "    }\n",
       "</style>\n",
       "<table border=\"1\" class=\"dataframe\">\n",
       "  <thead>\n",
       "    <tr style=\"text-align: right;\">\n",
       "      <th></th>\n",
       "      <th></th>\n",
       "      <th>fwd1min</th>\n",
       "      <th>pred</th>\n",
       "    </tr>\n",
       "    <tr>\n",
       "      <th>ticker</th>\n",
       "      <th>date_time</th>\n",
       "      <th></th>\n",
       "      <th></th>\n",
       "    </tr>\n",
       "  </thead>\n",
       "  <tbody>\n",
       "    <tr>\n",
       "      <th rowspan=\"5\" valign=\"top\">AAL</th>\n",
       "      <th>2016-02-02 09:31:00</th>\n",
       "      <td>-0.006968</td>\n",
       "      <td>0.000009</td>\n",
       "    </tr>\n",
       "    <tr>\n",
       "      <th>2016-02-02 09:32:00</th>\n",
       "      <td>-0.001388</td>\n",
       "      <td>0.000031</td>\n",
       "    </tr>\n",
       "    <tr>\n",
       "      <th>2016-02-02 09:33:00</th>\n",
       "      <td>0.001431</td>\n",
       "      <td>-0.000001</td>\n",
       "    </tr>\n",
       "    <tr>\n",
       "      <th>2016-02-02 09:34:00</th>\n",
       "      <td>-0.000779</td>\n",
       "      <td>0.000610</td>\n",
       "    </tr>\n",
       "    <tr>\n",
       "      <th>2016-02-02 09:35:00</th>\n",
       "      <td>-0.000778</td>\n",
       "      <td>0.000558</td>\n",
       "    </tr>\n",
       "    <tr>\n",
       "      <th>...</th>\n",
       "      <th>...</th>\n",
       "      <td>...</td>\n",
       "      <td>...</td>\n",
       "    </tr>\n",
       "    <tr>\n",
       "      <th rowspan=\"5\" valign=\"top\">YHOO</th>\n",
       "      <th>2017-06-16 15:55:00</th>\n",
       "      <td>-0.000663</td>\n",
       "      <td>0.000010</td>\n",
       "    </tr>\n",
       "    <tr>\n",
       "      <th>2017-06-16 15:56:00</th>\n",
       "      <td>0.001138</td>\n",
       "      <td>-0.000020</td>\n",
       "    </tr>\n",
       "    <tr>\n",
       "      <th>2017-06-16 15:57:00</th>\n",
       "      <td>0.001894</td>\n",
       "      <td>0.000014</td>\n",
       "    </tr>\n",
       "    <tr>\n",
       "      <th>2017-06-16 15:58:00</th>\n",
       "      <td>-0.006051</td>\n",
       "      <td>-0.000007</td>\n",
       "    </tr>\n",
       "    <tr>\n",
       "      <th>2017-06-16 15:59:00</th>\n",
       "      <td>0.001519</td>\n",
       "      <td>0.000160</td>\n",
       "    </tr>\n",
       "  </tbody>\n",
       "</table>\n",
       "<p>17377280 rows × 2 columns</p>\n",
       "</div>"
      ],
      "text/plain": [
       "                             fwd1min      pred\n",
       "ticker date_time                              \n",
       "AAL    2016-02-02 09:31:00 -0.006968  0.000009\n",
       "       2016-02-02 09:32:00 -0.001388  0.000031\n",
       "       2016-02-02 09:33:00  0.001431 -0.000001\n",
       "       2016-02-02 09:34:00 -0.000779  0.000610\n",
       "       2016-02-02 09:35:00 -0.000778  0.000558\n",
       "...                              ...       ...\n",
       "YHOO   2017-06-16 15:55:00 -0.000663  0.000010\n",
       "       2017-06-16 15:56:00  0.001138 -0.000020\n",
       "       2017-06-16 15:57:00  0.001894  0.000014\n",
       "       2017-06-16 15:58:00 -0.006051 -0.000007\n",
       "       2017-06-16 15:59:00  0.001519  0.000160\n",
       "\n",
       "[17377280 rows x 2 columns]"
      ]
     },
     "execution_count": 272,
     "metadata": {},
     "output_type": "execute_result"
    }
   ],
   "source": [
    "cv_predictions"
   ]
  },
  {
   "cell_type": "code",
   "execution_count": 273,
   "metadata": {
    "ExecuteTime": {
     "end_time": "2021-01-20T18:13:30.707553Z",
     "start_time": "2021-01-20T18:13:30.442071Z"
    }
   },
   "outputs": [],
   "source": [
    "by_minute = cv_predictions.groupby(minutes, group_keys=False)"
   ]
  },
  {
   "cell_type": "code",
   "execution_count": 274,
   "metadata": {},
   "outputs": [
    {
     "data": {
      "text/plain": [
       "Series([], Name: pred, dtype: int64)"
      ]
     },
     "execution_count": 274,
     "metadata": {},
     "output_type": "execute_result"
    }
   ],
   "source": [
    "nunique_by_minute = cv_predictions['pred'].groupby(minutes, group_keys=False).nunique()\n",
    "nunique_by_minute[nunique_by_minute <= 90]"
   ]
  },
  {
   "cell_type": "code",
   "execution_count": 275,
   "metadata": {
    "ExecuteTime": {
     "end_time": "2021-01-20T18:18:40.832354Z",
     "start_time": "2021-01-20T18:13:31.167737Z"
    }
   },
   "outputs": [],
   "source": [
    "labels = list(range(1, 6))\n",
    "cv_predictions['quintile'] = by_minute.apply(lambda x: pd.qcut(x.pred, q=len(labels), precision=np.inf, labels=labels))"
   ]
  },
  {
   "cell_type": "code",
   "execution_count": 276,
   "metadata": {
    "ExecuteTime": {
     "end_time": "2021-01-20T18:23:07.357840Z",
     "start_time": "2021-01-20T18:18:40.833391Z"
    }
   },
   "outputs": [],
   "source": [
    "labels = list(range(1, 11))\n",
    "cv_predictions['decile'] = by_minute.apply(lambda x: pd.qcut(x.pred, q=len(labels), labels=labels).astype(int))"
   ]
  },
  {
   "cell_type": "code",
   "execution_count": 277,
   "metadata": {
    "ExecuteTime": {
     "end_time": "2021-01-20T18:23:07.458263Z",
     "start_time": "2021-01-20T18:23:07.364846Z"
    }
   },
   "outputs": [
    {
     "name": "stdout",
     "output_type": "stream",
     "text": [
      "<class 'pandas.core.frame.DataFrame'>\n",
      "MultiIndex: 17377280 entries, ('AAL', Timestamp('2016-02-02 09:31:00')) to ('YHOO', Timestamp('2017-06-16 15:59:00'))\n",
      "Data columns (total 4 columns):\n",
      " #   Column    Non-Null Count     Dtype   \n",
      "---  ------    --------------     -----   \n",
      " 0   fwd1min   17377280 non-null  float64 \n",
      " 1   pred      17377280 non-null  float64 \n",
      " 2   quintile  17377280 non-null  category\n",
      " 3   decile    17377280 non-null  int64   \n",
      "dtypes: category(1), float64(2), int64(1)\n",
      "memory usage: 524.1+ MB\n"
     ]
    }
   ],
   "source": [
    "cv_predictions.info(show_counts=True)"
   ]
  },
  {
   "cell_type": "code",
   "execution_count": 278,
   "metadata": {},
   "outputs": [
    {
     "data": {
      "text/html": [
       "<div>\n",
       "<style scoped>\n",
       "    .dataframe tbody tr th:only-of-type {\n",
       "        vertical-align: middle;\n",
       "    }\n",
       "\n",
       "    .dataframe tbody tr th {\n",
       "        vertical-align: top;\n",
       "    }\n",
       "\n",
       "    .dataframe thead th {\n",
       "        text-align: right;\n",
       "    }\n",
       "</style>\n",
       "<table border=\"1\" class=\"dataframe\">\n",
       "  <thead>\n",
       "    <tr style=\"text-align: right;\">\n",
       "      <th></th>\n",
       "      <th></th>\n",
       "      <th>fwd1min</th>\n",
       "      <th>pred</th>\n",
       "      <th>quintile</th>\n",
       "      <th>decile</th>\n",
       "    </tr>\n",
       "    <tr>\n",
       "      <th>ticker</th>\n",
       "      <th>date_time</th>\n",
       "      <th></th>\n",
       "      <th></th>\n",
       "      <th></th>\n",
       "      <th></th>\n",
       "    </tr>\n",
       "  </thead>\n",
       "  <tbody>\n",
       "    <tr>\n",
       "      <th rowspan=\"5\" valign=\"top\">AAL</th>\n",
       "      <th>2016-02-02 09:31:00</th>\n",
       "      <td>-0.006968</td>\n",
       "      <td>0.000009</td>\n",
       "      <td>3</td>\n",
       "      <td>5</td>\n",
       "    </tr>\n",
       "    <tr>\n",
       "      <th>2016-02-02 09:32:00</th>\n",
       "      <td>-0.001388</td>\n",
       "      <td>0.000031</td>\n",
       "      <td>4</td>\n",
       "      <td>8</td>\n",
       "    </tr>\n",
       "    <tr>\n",
       "      <th>2016-02-02 09:33:00</th>\n",
       "      <td>0.001431</td>\n",
       "      <td>-0.000001</td>\n",
       "      <td>3</td>\n",
       "      <td>6</td>\n",
       "    </tr>\n",
       "    <tr>\n",
       "      <th>2016-02-02 09:34:00</th>\n",
       "      <td>-0.000779</td>\n",
       "      <td>0.000610</td>\n",
       "      <td>5</td>\n",
       "      <td>10</td>\n",
       "    </tr>\n",
       "    <tr>\n",
       "      <th>2016-02-02 09:35:00</th>\n",
       "      <td>-0.000778</td>\n",
       "      <td>0.000558</td>\n",
       "      <td>5</td>\n",
       "      <td>10</td>\n",
       "    </tr>\n",
       "    <tr>\n",
       "      <th>...</th>\n",
       "      <th>...</th>\n",
       "      <td>...</td>\n",
       "      <td>...</td>\n",
       "      <td>...</td>\n",
       "      <td>...</td>\n",
       "    </tr>\n",
       "    <tr>\n",
       "      <th rowspan=\"5\" valign=\"top\">YHOO</th>\n",
       "      <th>2017-06-16 15:55:00</th>\n",
       "      <td>-0.000663</td>\n",
       "      <td>0.000010</td>\n",
       "      <td>5</td>\n",
       "      <td>9</td>\n",
       "    </tr>\n",
       "    <tr>\n",
       "      <th>2017-06-16 15:56:00</th>\n",
       "      <td>0.001138</td>\n",
       "      <td>-0.000020</td>\n",
       "      <td>1</td>\n",
       "      <td>1</td>\n",
       "    </tr>\n",
       "    <tr>\n",
       "      <th>2017-06-16 15:57:00</th>\n",
       "      <td>0.001894</td>\n",
       "      <td>0.000014</td>\n",
       "      <td>5</td>\n",
       "      <td>10</td>\n",
       "    </tr>\n",
       "    <tr>\n",
       "      <th>2017-06-16 15:58:00</th>\n",
       "      <td>-0.006051</td>\n",
       "      <td>-0.000007</td>\n",
       "      <td>2</td>\n",
       "      <td>3</td>\n",
       "    </tr>\n",
       "    <tr>\n",
       "      <th>2017-06-16 15:59:00</th>\n",
       "      <td>0.001519</td>\n",
       "      <td>0.000160</td>\n",
       "      <td>5</td>\n",
       "      <td>10</td>\n",
       "    </tr>\n",
       "  </tbody>\n",
       "</table>\n",
       "<p>17377280 rows × 4 columns</p>\n",
       "</div>"
      ],
      "text/plain": [
       "                             fwd1min      pred quintile  decile\n",
       "ticker date_time                                               \n",
       "AAL    2016-02-02 09:31:00 -0.006968  0.000009        3       5\n",
       "       2016-02-02 09:32:00 -0.001388  0.000031        4       8\n",
       "       2016-02-02 09:33:00  0.001431 -0.000001        3       6\n",
       "       2016-02-02 09:34:00 -0.000779  0.000610        5      10\n",
       "       2016-02-02 09:35:00 -0.000778  0.000558        5      10\n",
       "...                              ...       ...      ...     ...\n",
       "YHOO   2017-06-16 15:55:00 -0.000663  0.000010        5       9\n",
       "       2017-06-16 15:56:00  0.001138 -0.000020        1       1\n",
       "       2017-06-16 15:57:00  0.001894  0.000014        5      10\n",
       "       2017-06-16 15:58:00 -0.006051 -0.000007        2       3\n",
       "       2017-06-16 15:59:00  0.001519  0.000160        5      10\n",
       "\n",
       "[17377280 rows x 4 columns]"
      ]
     },
     "execution_count": 278,
     "metadata": {},
     "output_type": "execute_result"
    }
   ],
   "source": [
    "cv_predictions"
   ]
  },
  {
   "cell_type": "markdown",
   "metadata": {},
   "source": [
    "#### Descriptive statistics of intraday returns by quintile and decile of model predictions"
   ]
  },
  {
   "cell_type": "markdown",
   "metadata": {},
   "source": [
    "Next, we compute the average one-minute returns for each quintile / decile and minute."
   ]
  },
  {
   "cell_type": "code",
   "execution_count": 279,
   "metadata": {
    "ExecuteTime": {
     "end_time": "2021-01-20T20:41:04.915279Z",
     "start_time": "2021-01-20T20:41:04.910687Z"
    }
   },
   "outputs": [],
   "source": [
    "def compute_intraday_returns_by_quantile(predictions, quantile='quintile'):\n",
    "    by_quantile = cv_predictions.reset_index().groupby(['date_time', quantile])\n",
    "    return by_quantile.fwd1min.mean().unstack(quantile).sort_index()"
   ]
  },
  {
   "cell_type": "code",
   "execution_count": 280,
   "metadata": {
    "ExecuteTime": {
     "end_time": "2021-01-20T20:45:15.737029Z",
     "start_time": "2021-01-20T20:45:09.728192Z"
    }
   },
   "outputs": [],
   "source": [
    "intraday_returns = {'quintile': compute_intraday_returns_by_quantile(cv_predictions),\n",
    "                    'decile': compute_intraday_returns_by_quantile(cv_predictions, quantile='decile')}"
   ]
  },
  {
   "cell_type": "code",
   "execution_count": 281,
   "metadata": {
    "ExecuteTime": {
     "end_time": "2021-01-20T20:45:47.990033Z",
     "start_time": "2021-01-20T20:45:47.987308Z"
    }
   },
   "outputs": [],
   "source": [
    "def summarize_intraday_returns(returns):\n",
    "    summary = returns.describe(deciles)\n",
    "    return pd.concat([summary.iloc[:1].applymap(lambda x: f'{x:,.0f}'),\n",
    "                      summary.iloc[1:].applymap(lambda x: f'{x:.4%}')])"
   ]
  },
  {
   "cell_type": "markdown",
   "metadata": {},
   "source": [
    "The returns per minute, averaged over the 23-months period, increase by quintile/decile and range from -.3 (-.4) to .27 (.37) basis points for the bottom and top quintile (decile), respectively. While this aligns with the finding of a weakly positive rank correlation coefficient, it also suggests that such small gains are unlikely to survive the impact of trading costs."
   ]
  },
  {
   "cell_type": "code",
   "execution_count": 282,
   "metadata": {
    "ExecuteTime": {
     "end_time": "2021-01-20T20:45:51.898922Z",
     "start_time": "2021-01-20T20:45:51.844255Z"
    }
   },
   "outputs": [
    {
     "data": {
      "text/html": [
       "<div>\n",
       "<style scoped>\n",
       "    .dataframe tbody tr th:only-of-type {\n",
       "        vertical-align: middle;\n",
       "    }\n",
       "\n",
       "    .dataframe tbody tr th {\n",
       "        vertical-align: top;\n",
       "    }\n",
       "\n",
       "    .dataframe thead th {\n",
       "        text-align: right;\n",
       "    }\n",
       "</style>\n",
       "<table border=\"1\" class=\"dataframe\">\n",
       "  <thead>\n",
       "    <tr style=\"text-align: right;\">\n",
       "      <th>quintile</th>\n",
       "      <th>1</th>\n",
       "      <th>2</th>\n",
       "      <th>3</th>\n",
       "      <th>4</th>\n",
       "      <th>5</th>\n",
       "    </tr>\n",
       "  </thead>\n",
       "  <tbody>\n",
       "    <tr>\n",
       "      <th>count</th>\n",
       "      <td>166,456</td>\n",
       "      <td>166,456</td>\n",
       "      <td>166,456</td>\n",
       "      <td>166,456</td>\n",
       "      <td>166,456</td>\n",
       "    </tr>\n",
       "    <tr>\n",
       "      <th>mean</th>\n",
       "      <td>-0.0029%</td>\n",
       "      <td>-0.0011%</td>\n",
       "      <td>-0.0002%</td>\n",
       "      <td>0.0006%</td>\n",
       "      <td>0.0026%</td>\n",
       "    </tr>\n",
       "    <tr>\n",
       "      <th>std</th>\n",
       "      <td>0.0353%</td>\n",
       "      <td>0.0299%</td>\n",
       "      <td>0.0294%</td>\n",
       "      <td>0.0301%</td>\n",
       "      <td>0.0356%</td>\n",
       "    </tr>\n",
       "    <tr>\n",
       "      <th>min</th>\n",
       "      <td>-0.6427%</td>\n",
       "      <td>-0.4948%</td>\n",
       "      <td>-0.4994%</td>\n",
       "      <td>-0.5597%</td>\n",
       "      <td>-0.6089%</td>\n",
       "    </tr>\n",
       "    <tr>\n",
       "      <th>10%</th>\n",
       "      <td>-0.0378%</td>\n",
       "      <td>-0.0315%</td>\n",
       "      <td>-0.0299%</td>\n",
       "      <td>-0.0292%</td>\n",
       "      <td>-0.0309%</td>\n",
       "    </tr>\n",
       "    <tr>\n",
       "      <th>20%</th>\n",
       "      <td>-0.0223%</td>\n",
       "      <td>-0.0184%</td>\n",
       "      <td>-0.0174%</td>\n",
       "      <td>-0.0166%</td>\n",
       "      <td>-0.0169%</td>\n",
       "    </tr>\n",
       "    <tr>\n",
       "      <th>30%</th>\n",
       "      <td>-0.0139%</td>\n",
       "      <td>-0.0111%</td>\n",
       "      <td>-0.0102%</td>\n",
       "      <td>-0.0095%</td>\n",
       "      <td>-0.0090%</td>\n",
       "    </tr>\n",
       "    <tr>\n",
       "      <th>40%</th>\n",
       "      <td>-0.0077%</td>\n",
       "      <td>-0.0056%</td>\n",
       "      <td>-0.0048%</td>\n",
       "      <td>-0.0040%</td>\n",
       "      <td>-0.0031%</td>\n",
       "    </tr>\n",
       "    <tr>\n",
       "      <th>50%</th>\n",
       "      <td>-0.0022%</td>\n",
       "      <td>-0.0008%</td>\n",
       "      <td>-0.0000%</td>\n",
       "      <td>0.0007%</td>\n",
       "      <td>0.0022%</td>\n",
       "    </tr>\n",
       "    <tr>\n",
       "      <th>60%</th>\n",
       "      <td>0.0031%</td>\n",
       "      <td>0.0040%</td>\n",
       "      <td>0.0048%</td>\n",
       "      <td>0.0054%</td>\n",
       "      <td>0.0076%</td>\n",
       "    </tr>\n",
       "    <tr>\n",
       "      <th>70%</th>\n",
       "      <td>0.0091%</td>\n",
       "      <td>0.0094%</td>\n",
       "      <td>0.0101%</td>\n",
       "      <td>0.0109%</td>\n",
       "      <td>0.0138%</td>\n",
       "    </tr>\n",
       "    <tr>\n",
       "      <th>80%</th>\n",
       "      <td>0.0170%</td>\n",
       "      <td>0.0164%</td>\n",
       "      <td>0.0172%</td>\n",
       "      <td>0.0181%</td>\n",
       "      <td>0.0220%</td>\n",
       "    </tr>\n",
       "    <tr>\n",
       "      <th>90%</th>\n",
       "      <td>0.0313%</td>\n",
       "      <td>0.0289%</td>\n",
       "      <td>0.0293%</td>\n",
       "      <td>0.0304%</td>\n",
       "      <td>0.0369%</td>\n",
       "    </tr>\n",
       "    <tr>\n",
       "      <th>max</th>\n",
       "      <td>0.6269%</td>\n",
       "      <td>0.5604%</td>\n",
       "      <td>0.7217%</td>\n",
       "      <td>0.8248%</td>\n",
       "      <td>0.8929%</td>\n",
       "    </tr>\n",
       "  </tbody>\n",
       "</table>\n",
       "</div>"
      ],
      "text/plain": [
       "quintile         1         2         3         4         5\n",
       "count      166,456   166,456   166,456   166,456   166,456\n",
       "mean      -0.0029%  -0.0011%  -0.0002%   0.0006%   0.0026%\n",
       "std        0.0353%   0.0299%   0.0294%   0.0301%   0.0356%\n",
       "min       -0.6427%  -0.4948%  -0.4994%  -0.5597%  -0.6089%\n",
       "10%       -0.0378%  -0.0315%  -0.0299%  -0.0292%  -0.0309%\n",
       "20%       -0.0223%  -0.0184%  -0.0174%  -0.0166%  -0.0169%\n",
       "30%       -0.0139%  -0.0111%  -0.0102%  -0.0095%  -0.0090%\n",
       "40%       -0.0077%  -0.0056%  -0.0048%  -0.0040%  -0.0031%\n",
       "50%       -0.0022%  -0.0008%  -0.0000%   0.0007%   0.0022%\n",
       "60%        0.0031%   0.0040%   0.0048%   0.0054%   0.0076%\n",
       "70%        0.0091%   0.0094%   0.0101%   0.0109%   0.0138%\n",
       "80%        0.0170%   0.0164%   0.0172%   0.0181%   0.0220%\n",
       "90%        0.0313%   0.0289%   0.0293%   0.0304%   0.0369%\n",
       "max        0.6269%   0.5604%   0.7217%   0.8248%   0.8929%"
      ]
     },
     "execution_count": 282,
     "metadata": {},
     "output_type": "execute_result"
    }
   ],
   "source": [
    "summary = summarize_intraday_returns(intraday_returns['quintile'])\n",
    "summary"
   ]
  },
  {
   "cell_type": "code",
   "execution_count": 283,
   "metadata": {
    "ExecuteTime": {
     "end_time": "2021-01-20T20:45:52.758966Z",
     "start_time": "2021-01-20T20:45:52.662367Z"
    }
   },
   "outputs": [
    {
     "data": {
      "text/html": [
       "<div>\n",
       "<style scoped>\n",
       "    .dataframe tbody tr th:only-of-type {\n",
       "        vertical-align: middle;\n",
       "    }\n",
       "\n",
       "    .dataframe tbody tr th {\n",
       "        vertical-align: top;\n",
       "    }\n",
       "\n",
       "    .dataframe thead th {\n",
       "        text-align: right;\n",
       "    }\n",
       "</style>\n",
       "<table border=\"1\" class=\"dataframe\">\n",
       "  <thead>\n",
       "    <tr style=\"text-align: right;\">\n",
       "      <th>decile</th>\n",
       "      <th>1</th>\n",
       "      <th>2</th>\n",
       "      <th>3</th>\n",
       "      <th>4</th>\n",
       "      <th>5</th>\n",
       "      <th>6</th>\n",
       "      <th>7</th>\n",
       "      <th>8</th>\n",
       "      <th>9</th>\n",
       "      <th>10</th>\n",
       "    </tr>\n",
       "  </thead>\n",
       "  <tbody>\n",
       "    <tr>\n",
       "      <th>count</th>\n",
       "      <td>166,456</td>\n",
       "      <td>166,456</td>\n",
       "      <td>166,456</td>\n",
       "      <td>166,456</td>\n",
       "      <td>166,456</td>\n",
       "      <td>166,456</td>\n",
       "      <td>166,456</td>\n",
       "      <td>166,456</td>\n",
       "      <td>166,456</td>\n",
       "      <td>166,456</td>\n",
       "    </tr>\n",
       "    <tr>\n",
       "      <th>mean</th>\n",
       "      <td>-0.0039%</td>\n",
       "      <td>-0.0019%</td>\n",
       "      <td>-0.0014%</td>\n",
       "      <td>-0.0009%</td>\n",
       "      <td>-0.0004%</td>\n",
       "      <td>-0.0000%</td>\n",
       "      <td>0.0004%</td>\n",
       "      <td>0.0009%</td>\n",
       "      <td>0.0016%</td>\n",
       "      <td>0.0036%</td>\n",
       "    </tr>\n",
       "    <tr>\n",
       "      <th>std</th>\n",
       "      <td>0.0430%</td>\n",
       "      <td>0.0358%</td>\n",
       "      <td>0.0332%</td>\n",
       "      <td>0.0326%</td>\n",
       "      <td>0.0321%</td>\n",
       "      <td>0.0325%</td>\n",
       "      <td>0.0327%</td>\n",
       "      <td>0.0334%</td>\n",
       "      <td>0.0353%</td>\n",
       "      <td>0.0435%</td>\n",
       "    </tr>\n",
       "    <tr>\n",
       "      <th>min</th>\n",
       "      <td>-0.7286%</td>\n",
       "      <td>-0.6249%</td>\n",
       "      <td>-0.5661%</td>\n",
       "      <td>-0.9075%</td>\n",
       "      <td>-0.9472%</td>\n",
       "      <td>-0.9272%</td>\n",
       "      <td>-0.5227%</td>\n",
       "      <td>-0.6282%</td>\n",
       "      <td>-0.6258%</td>\n",
       "      <td>-0.8837%</td>\n",
       "    </tr>\n",
       "    <tr>\n",
       "      <th>10%</th>\n",
       "      <td>-0.0465%</td>\n",
       "      <td>-0.0375%</td>\n",
       "      <td>-0.0354%</td>\n",
       "      <td>-0.0343%</td>\n",
       "      <td>-0.0332%</td>\n",
       "      <td>-0.0330%</td>\n",
       "      <td>-0.0325%</td>\n",
       "      <td>-0.0323%</td>\n",
       "      <td>-0.0328%</td>\n",
       "      <td>-0.0370%</td>\n",
       "    </tr>\n",
       "    <tr>\n",
       "      <th>20%</th>\n",
       "      <td>-0.0275%</td>\n",
       "      <td>-0.0224%</td>\n",
       "      <td>-0.0209%</td>\n",
       "      <td>-0.0202%</td>\n",
       "      <td>-0.0195%</td>\n",
       "      <td>-0.0193%</td>\n",
       "      <td>-0.0189%</td>\n",
       "      <td>-0.0186%</td>\n",
       "      <td>-0.0186%</td>\n",
       "      <td>-0.0201%</td>\n",
       "    </tr>\n",
       "    <tr>\n",
       "      <th>30%</th>\n",
       "      <td>-0.0173%</td>\n",
       "      <td>-0.0137%</td>\n",
       "      <td>-0.0128%</td>\n",
       "      <td>-0.0121%</td>\n",
       "      <td>-0.0117%</td>\n",
       "      <td>-0.0113%</td>\n",
       "      <td>-0.0109%</td>\n",
       "      <td>-0.0106%</td>\n",
       "      <td>-0.0104%</td>\n",
       "      <td>-0.0108%</td>\n",
       "    </tr>\n",
       "    <tr>\n",
       "      <th>40%</th>\n",
       "      <td>-0.0097%</td>\n",
       "      <td>-0.0072%</td>\n",
       "      <td>-0.0065%</td>\n",
       "      <td>-0.0060%</td>\n",
       "      <td>-0.0056%</td>\n",
       "      <td>-0.0053%</td>\n",
       "      <td>-0.0049%</td>\n",
       "      <td>-0.0045%</td>\n",
       "      <td>-0.0042%</td>\n",
       "      <td>-0.0035%</td>\n",
       "    </tr>\n",
       "    <tr>\n",
       "      <th>50%</th>\n",
       "      <td>-0.0030%</td>\n",
       "      <td>-0.0014%</td>\n",
       "      <td>-0.0010%</td>\n",
       "      <td>-0.0005%</td>\n",
       "      <td>-0.0002%</td>\n",
       "      <td>0.0001%</td>\n",
       "      <td>0.0005%</td>\n",
       "      <td>0.0009%</td>\n",
       "      <td>0.0014%</td>\n",
       "      <td>0.0028%</td>\n",
       "    </tr>\n",
       "    <tr>\n",
       "      <th>60%</th>\n",
       "      <td>0.0037%</td>\n",
       "      <td>0.0043%</td>\n",
       "      <td>0.0045%</td>\n",
       "      <td>0.0049%</td>\n",
       "      <td>0.0052%</td>\n",
       "      <td>0.0055%</td>\n",
       "      <td>0.0058%</td>\n",
       "      <td>0.0063%</td>\n",
       "      <td>0.0070%</td>\n",
       "      <td>0.0094%</td>\n",
       "    </tr>\n",
       "    <tr>\n",
       "      <th>70%</th>\n",
       "      <td>0.0111%</td>\n",
       "      <td>0.0106%</td>\n",
       "      <td>0.0107%</td>\n",
       "      <td>0.0109%</td>\n",
       "      <td>0.0112%</td>\n",
       "      <td>0.0116%</td>\n",
       "      <td>0.0119%</td>\n",
       "      <td>0.0124%</td>\n",
       "      <td>0.0134%</td>\n",
       "      <td>0.0168%</td>\n",
       "    </tr>\n",
       "    <tr>\n",
       "      <th>80%</th>\n",
       "      <td>0.0207%</td>\n",
       "      <td>0.0189%</td>\n",
       "      <td>0.0185%</td>\n",
       "      <td>0.0188%</td>\n",
       "      <td>0.0190%</td>\n",
       "      <td>0.0195%</td>\n",
       "      <td>0.0198%</td>\n",
       "      <td>0.0204%</td>\n",
       "      <td>0.0219%</td>\n",
       "      <td>0.0269%</td>\n",
       "    </tr>\n",
       "    <tr>\n",
       "      <th>90%</th>\n",
       "      <td>0.0374%</td>\n",
       "      <td>0.0335%</td>\n",
       "      <td>0.0321%</td>\n",
       "      <td>0.0322%</td>\n",
       "      <td>0.0322%</td>\n",
       "      <td>0.0327%</td>\n",
       "      <td>0.0332%</td>\n",
       "      <td>0.0340%</td>\n",
       "      <td>0.0365%</td>\n",
       "      <td>0.0449%</td>\n",
       "    </tr>\n",
       "    <tr>\n",
       "      <th>max</th>\n",
       "      <td>0.9500%</td>\n",
       "      <td>0.8462%</td>\n",
       "      <td>0.7203%</td>\n",
       "      <td>0.7487%</td>\n",
       "      <td>0.7020%</td>\n",
       "      <td>0.8723%</td>\n",
       "      <td>1.3249%</td>\n",
       "      <td>1.3285%</td>\n",
       "      <td>0.5455%</td>\n",
       "      <td>1.5434%</td>\n",
       "    </tr>\n",
       "  </tbody>\n",
       "</table>\n",
       "</div>"
      ],
      "text/plain": [
       "decile        1         2         3         4         5         6         7   \\\n",
       "count    166,456   166,456   166,456   166,456   166,456   166,456   166,456   \n",
       "mean    -0.0039%  -0.0019%  -0.0014%  -0.0009%  -0.0004%  -0.0000%   0.0004%   \n",
       "std      0.0430%   0.0358%   0.0332%   0.0326%   0.0321%   0.0325%   0.0327%   \n",
       "min     -0.7286%  -0.6249%  -0.5661%  -0.9075%  -0.9472%  -0.9272%  -0.5227%   \n",
       "10%     -0.0465%  -0.0375%  -0.0354%  -0.0343%  -0.0332%  -0.0330%  -0.0325%   \n",
       "20%     -0.0275%  -0.0224%  -0.0209%  -0.0202%  -0.0195%  -0.0193%  -0.0189%   \n",
       "30%     -0.0173%  -0.0137%  -0.0128%  -0.0121%  -0.0117%  -0.0113%  -0.0109%   \n",
       "40%     -0.0097%  -0.0072%  -0.0065%  -0.0060%  -0.0056%  -0.0053%  -0.0049%   \n",
       "50%     -0.0030%  -0.0014%  -0.0010%  -0.0005%  -0.0002%   0.0001%   0.0005%   \n",
       "60%      0.0037%   0.0043%   0.0045%   0.0049%   0.0052%   0.0055%   0.0058%   \n",
       "70%      0.0111%   0.0106%   0.0107%   0.0109%   0.0112%   0.0116%   0.0119%   \n",
       "80%      0.0207%   0.0189%   0.0185%   0.0188%   0.0190%   0.0195%   0.0198%   \n",
       "90%      0.0374%   0.0335%   0.0321%   0.0322%   0.0322%   0.0327%   0.0332%   \n",
       "max      0.9500%   0.8462%   0.7203%   0.7487%   0.7020%   0.8723%   1.3249%   \n",
       "\n",
       "decile        8         9         10  \n",
       "count    166,456   166,456   166,456  \n",
       "mean     0.0009%   0.0016%   0.0036%  \n",
       "std      0.0334%   0.0353%   0.0435%  \n",
       "min     -0.6282%  -0.6258%  -0.8837%  \n",
       "10%     -0.0323%  -0.0328%  -0.0370%  \n",
       "20%     -0.0186%  -0.0186%  -0.0201%  \n",
       "30%     -0.0106%  -0.0104%  -0.0108%  \n",
       "40%     -0.0045%  -0.0042%  -0.0035%  \n",
       "50%      0.0009%   0.0014%   0.0028%  \n",
       "60%      0.0063%   0.0070%   0.0094%  \n",
       "70%      0.0124%   0.0134%   0.0168%  \n",
       "80%      0.0204%   0.0219%   0.0269%  \n",
       "90%      0.0340%   0.0365%   0.0449%  \n",
       "max      1.3285%   0.5455%   1.5434%  "
      ]
     },
     "execution_count": 283,
     "metadata": {},
     "output_type": "execute_result"
    }
   ],
   "source": [
    "summary = summarize_intraday_returns(intraday_returns['decile'])\n",
    "summary"
   ]
  },
  {
   "cell_type": "markdown",
   "metadata": {},
   "source": [
    "#### Cumulative Performance by Quantile"
   ]
  },
  {
   "cell_type": "markdown",
   "metadata": {},
   "source": [
    "To simulate the performance of our naive strategy that trades all available stocks every minute, we simply assume that we can reinvest (including potential gains/losses) every minute. To check for the sensitivity with respect for trading cost, we can assume they are a constant number (fraction) of basis points, and subtract this number from the minute-bar returns."
   ]
  },
  {
   "cell_type": "code",
   "execution_count": 284,
   "metadata": {
    "ExecuteTime": {
     "end_time": "2021-01-20T20:59:03.700181Z",
     "start_time": "2021-01-20T20:59:03.685770Z"
    }
   },
   "outputs": [],
   "source": [
    "def plot_cumulative_performance(returns, quantile='quintile', trading_costs_bp=0):\n",
    "    \"\"\"Plot average return by quantile (in bp) as well as cumulative return, \n",
    "        both net of trading costs (provided as basis points; 1bp = 0.01%) \n",
    "    \"\"\"\n",
    "\n",
    "    fig, axes = plt.subplots(figsize=(14, 4), ncols=2)\n",
    "\n",
    "    sns.barplot(y='fwd1min', x=quantile,\n",
    "                data=returns[quantile].mul(10000).sub(trading_costs_bp).stack().to_frame(\n",
    "                    'fwd1min').reset_index(),\n",
    "                ax=axes[0])\n",
    "    axes[0].set_title(f'Avg. 1-min Return by Signal {quantile.capitalize()}')\n",
    "    axes[0].set_ylabel('Return (bps)')\n",
    "    axes[0].set_xlabel(quantile.capitalize())\n",
    "\n",
    "    title = f'Cumulative Return by Signal {quantile.capitalize()}'\n",
    "    (returns[quantile].sort_index().add(1).sub(trading_costs_bp/10000).cumprod().sub(1)\n",
    "     .plot(ax=axes[1], title=title))\n",
    "\n",
    "    axes[1].yaxis.set_major_formatter(\n",
    "        FuncFormatter(lambda y, _: '{:.0%}'.format(y)))\n",
    "    axes[1].set_xlabel('')\n",
    "    axes[1].set_ylabel('Return')\n",
    "    fig.suptitle(f'Average and Cumulative Performance (Net of Trading Cost: {trading_costs_bp:.2f}bp)')\n",
    "\n",
    "    sns.despine()\n",
    "    fig.tight_layout()"
   ]
  },
  {
   "cell_type": "markdown",
   "metadata": {},
   "source": [
    "Without trading costs, the compounding of even fairly small gains leads to extremely large cumulative profits for the top quantile. However, these disappear as soon as we allow for minuscule trading costs that reduce the average quantile return close to zero."
   ]
  },
  {
   "cell_type": "markdown",
   "metadata": {},
   "source": [
    "##### Without trading costs"
   ]
  },
  {
   "cell_type": "code",
   "execution_count": 285,
   "metadata": {
    "ExecuteTime": {
     "end_time": "2021-01-20T20:59:10.880167Z",
     "start_time": "2021-01-20T20:59:04.102942Z"
    }
   },
   "outputs": [
    {
     "data": {
      "image/png": "[encoded data removed]",
      "text/plain": [
       "<Figure size 1400x400 with 2 Axes>"
      ]
     },
     "metadata": {},
     "output_type": "display_data"
    }
   ],
   "source": [
    "plot_cumulative_performance(intraday_returns, 'quintile', trading_costs_bp=0)"
   ]
  },
  {
   "cell_type": "code",
   "execution_count": 286,
   "metadata": {
    "ExecuteTime": {
     "end_time": "2021-01-20T20:59:23.620486Z",
     "start_time": "2021-01-20T20:59:10.881189Z"
    }
   },
   "outputs": [
    {
     "data": {
      "image/png": "[encoded data removed]",
      "text/plain": [
       "<Figure size 1400x400 with 2 Axes>"
      ]
     },
     "metadata": {},
     "output_type": "display_data"
    }
   ],
   "source": [
    "plot_cumulative_performance(intraday_returns, 'decile', trading_costs_bp=0)"
   ]
  },
  {
   "cell_type": "markdown",
   "metadata": {},
   "source": [
    "##### With extremely low trading costs"
   ]
  },
  {
   "cell_type": "code",
   "execution_count": 287,
   "metadata": {
    "ExecuteTime": {
     "end_time": "2021-01-20T20:59:30.198103Z",
     "start_time": "2021-01-20T20:59:23.621766Z"
    }
   },
   "outputs": [
    {
     "data": {
      "image/png": "[encoded data removed]",
      "text/plain": [
       "<Figure size 1400x400 with 2 Axes>"
      ]
     },
     "metadata": {},
     "output_type": "display_data"
    }
   ],
   "source": [
    "# assuming costs of a fraction of a basis point, close to the average return of the top quantile\n",
    "plot_cumulative_performance(intraday_returns, 'quintile', trading_costs_bp=.2)"
   ]
  },
  {
   "cell_type": "code",
   "execution_count": 288,
   "metadata": {
    "ExecuteTime": {
     "end_time": "2021-01-20T20:59:45.543470Z",
     "start_time": "2021-01-20T20:59:30.199046Z"
    }
   },
   "outputs": [
    {
     "data": {
      "image/png": "[encoded data removed]",
      "text/plain": [
       "<Figure size 1400x400 with 2 Axes>"
      ]
     },
     "metadata": {},
     "output_type": "display_data"
    }
   ],
   "source": [
    "plot_cumulative_performance(intraday_returns, 'decile', trading_costs_bp=.3)"
   ]
  },
  {
   "cell_type": "markdown",
   "metadata": {},
   "source": [
    "### Feature Importance"
   ]
  },
  {
   "cell_type": "markdown",
   "metadata": {},
   "source": [
    "We'll take a quick look at the features that most contributed to improving the IC across the 23 folds:"
   ]
  },
  {
   "cell_type": "code",
   "execution_count": 289,
   "metadata": {
    "ExecuteTime": {
     "end_time": "2021-01-20T19:07:52.457834Z",
     "start_time": "2021-01-20T19:07:52.362820Z"
    }
   },
   "outputs": [],
   "source": [
    "with pd.HDFStore(result_store) as store:\n",
    "    fi_keys = [k[1:] for k in store.keys() if k[1:].startswith('fi')]\n",
    "    fi = pd.concat([store[k].to_frame(i) for i, k in enumerate(fi_keys, 1)], axis=1)"
   ]
  },
  {
   "cell_type": "markdown",
   "metadata": {},
   "source": [
    "The top features from a conventional feature importance perspective are the ticker, followed by NATR, minute of the day, latest 1m return and the CCI:"
   ]
  },
  {
   "cell_type": "code",
   "execution_count": 290,
   "metadata": {
    "ExecuteTime": {
     "end_time": "2021-01-20T19:24:49.981841Z",
     "start_time": "2021-01-20T19:24:49.700098Z"
    }
   },
   "outputs": [
    {
     "data": {
      "image/png": "[encoded data removed]",
      "text/plain": [
       "<Figure size 1200x800 with 1 Axes>"
      ]
     },
     "metadata": {},
     "output_type": "display_data"
    }
   ],
   "source": [
    "fi.mean(1).nsmallest(25).plot.barh(figsize=(12, 8), title='LightGBM Feature Importance (gain)')\n",
    "sns.despine()\n",
    "plt.tight_layout();"
   ]
  },
  {
   "cell_type": "markdown",
   "metadata": {},
   "source": [
    "Explore with greater accuracy and in more detail how feature values affect predictions using SHAP values as demonstrated in various other notebooks in this Chapter and the appendix!"
   ]
  },
  {
   "cell_type": "markdown",
   "metadata": {},
   "source": [
    "## Conclusion\n",
    "\n",
    "We have seen that a relatively simple gradient boosting model is able to achieve fairly consistent predictive performance that is significantly better than a random guess even on a very short horizon. \n",
    "\n",
    "However, the resulting economic gains of our naive strategy of frequently buying/(short-)selling the top/bottome quantiles are too small to overcome the inevitable transaction costs. On the one hand, this demonstrates the challenges of extracting value from a predictive signal. On the other hand, it shows that we need a more sophisticated backtesting platform so that we can even begin to design and evaluate a more sophisticated strategy that requires far fewer trades to exploit the signal in our ML predictions. \n",
    "\n",
    "In addition, we would also want to work on improving the model by adding more informative feature, e.g. based on the quote/trade info contained in the Algoseek data, or by fine-tuning our model architecture and hyperparameter settings."
   ]
  }
 ],
 "metadata": {
  "kernelspec": {
   "display_name": "Python 3 (ipykernel)",
   "language": "python",
   "name": "python3"
  },
  "language_info": {
   "codemirror_mode": {
    "name": "ipython",
    "version": 3
   },
   "file_extension": ".py",
   "mimetype": "text/x-python",
   "name": "python",
   "nbconvert_exporter": "python",
   "pygments_lexer": "ipython3",
   "version": "3.12.3"
  },
  "toc": {
   "base_numbering": 1,
   "nav_menu": {},
   "number_sections": true,
   "sideBar": true,
   "skip_h1_title": true,
   "title_cell": "Table of Contents",
   "title_sidebar": "Contents",
   "toc_cell": false,
   "toc_position": {},
   "toc_section_display": true,
   "toc_window_display": true
  }
 },
 "nbformat": 4,
 "nbformat_minor": 4
}
